{
 "cells": [
  {
   "cell_type": "markdown",
   "id": "affe6a58-7844-4ba5-a710-134307ef72b2",
   "metadata": {},
   "source": [
    "### Sites\n",
    "* [Rimi](https://www.rimi.lt/e-parduotuve/)\n",
    "* [Iki](https://www.lastmile.lt/)\n",
    "* [Maxima](https://barbora.lt)\n",
    "* [Lidl](https://www.lidl.lt)"
   ]
  },
  {
   "cell_type": "code",
   "execution_count": 8,
   "id": "0ae23902-5c35-4f27-84a7-d66681f4e4ca",
   "metadata": {},
   "outputs": [
    {
     "name": "stdout",
     "output_type": "stream",
     "text": [
      "onwatch: ['Avietės', 'Aviečių uogienė', 'Avižų gėrimas', 'Bananai', 'Bulvės', 'Burokėliai', 'Druska', 'Džiovinti krapai', 'Grietinė', 'Imbieras', 'Karis', 'Kefyras', 'Kiaušiniai', 'Kokosų gėrimas', 'Kopūstai', 'Laurų lapai', 'Maltos aitriosios paprikos', 'Morkos', 'Paprikos', 'Pienas UAT', 'Pomidorų pasta', 'Rausvieji svogūnai', 'Ridikėliai', 'Skumbrė', 'Sviestas', 'Sviestinis moliūgas', 'Svogūnai', 'Svogūnų laiškai', 'Trumpavaisiai agurkai', 'Viščiukų blauzdelės', 'Viščiukų filė', 'Šilauogės', 'Špinatai']\n",
      "\n",
      "own: ['Bulvės', 'Burokėliai', 'Druska', 'Grietinė', 'Imbieras', 'Karis', 'Kokosų gėrimas', 'Kopūstai', 'Laurų lapai', 'Maltos aitriosios paprikos', 'Morkos', 'Paprikos', 'Pomidorų pasta', 'Rausvieji svogūnai', 'Ridikėliai', 'Sviestas', 'Sviestinis moliūgas', 'Svogūnai', 'Trumpavaisiai agurkai', 'Viščiukų blauzdelės', 'Špinatai']\n",
      "\n",
      "hunt: ['Avietės', 'Aviečių uogienė', 'Avižų gėrimas', 'Bananai', 'Bulvės', 'Burokėliai', 'Džiovinti krapai', 'Grietinė', 'Kefyras', 'Kiaušiniai', 'Kokosų gėrimas', 'Morkos', 'Pienas UAT', 'Pomidorų pasta', 'Ridikėliai', 'Skumbrė', 'Sviestas', 'Svogūnų laiškai', 'Viščiukų blauzdelės', 'Viščiukų filė', 'Šilauogės', 'Špinatai']\n",
      "\n",
      "asap: ['Aviečių uogienė', 'Avižų gėrimas', 'Bananai', 'Džiovinti krapai', 'Kiaušiniai', 'Pienas UAT', 'Svogūnų laiškai']\n",
      "\n"
     ]
    }
   ],
   "source": [
    "from items import candidates\n",
    "from shopscraping import scrape, get_view\n",
    "from IPython.display import Markdown, display\n",
    "import os\n",
    "import pandas as pd\n",
    "from recipe_formatter import normalise_recipe, parse_recipe\n",
    "\n",
    "def collect_catalogue(items=None, offline=False, balance_weights=True,\n",
    "                      sorter={'by':['comparative_unit_discount_price', 'shop', 'discount'],\n",
    "                              'ascending': [True, True, False]}):\n",
    "    '''Return mapping (item -> df of scrape). \n",
    "    If offline is True: use results of history file. \n",
    "    If fix_weight is True: if some items have weights unbalanced, \n",
    "    apply weight value (this is an experimental option cus shops not always provide it right)\n",
    "    \n",
    "    Otherwise, scrape items given and update history file\n",
    "    \n",
    "    Input: list of items or None\n",
    "    Output: mapping (item -> df of scrape) or None if there are some missing items in candidates\n",
    "    ''' \n",
    "    item_dfs = dict()\n",
    "    \n",
    "    if items is None:\n",
    "        d = candidates\n",
    "    else:    \n",
    "        d = {key: candidates[key] for key in items if key in candidates}\n",
    "        missing_items = [key for key in items if key not in candidates]\n",
    "        if missing_items:\n",
    "            print('Please add urls for items:', missing_items)\n",
    "            \n",
    "    for item, item_urls in d.items():\n",
    "        if not(offline):\n",
    "            print(f'Item = {item.upper()} ... ', end=' ')\n",
    "        item_dfs[item] = scrape(item_urls, offline=offline, sorter=False)\n",
    "        units = item_dfs[item]['comparative_unit']\n",
    "        units_vnt = [n for n in units if n in ['vnt']]\n",
    "        units_weight = [n for n in units if n in ['kg', 'l']]\n",
    "        unexpected_units = [n for n in units if n not in ['vnt', 'kg', 'l']]\n",
    "        most_common_unit = max(set(units_weight), key=units_weight.count) if units_weight else 'vnt'\n",
    "        if len(unexpected_units):\n",
    "            print(f'Warning: unexpected units in item = {item}: {unexpected_units} wont balance')\n",
    "        elif balance_weights:\n",
    "            if units_vnt and units_weight:\n",
    "                item_dfs[item].loc[units == 'vnt', 'comparative_unit_price'] = \\\n",
    "                item_dfs[item].loc[units == 'vnt', 'comparative_unit_price'] / item_dfs[item].loc[units == 'vnt', 'weight']\n",
    "                item_dfs[item].loc[units == 'vnt', 'comparative_unit_discount_price'] = \\\n",
    "                item_dfs[item].loc[units == 'vnt', 'comparative_unit_discount_price'] / item_dfs[item].loc[units == 'vnt', 'weight']\n",
    "                item_dfs[item].loc[units == 'vnt', 'comparative_unit'] = most_common_unit\n",
    "        if not(offline):\n",
    "            print('Done', end='\\n')\n",
    "        if sorter:\n",
    "            item_dfs[item] = item_dfs[item].sort_values(**sorter)\n",
    "    return item_dfs\n",
    "\n",
    "def display_items(df, extra_columns=[], sorter=None):\n",
    "    display(Markdown(get_view(df, extra_columns=extra_columns, sorter=sorter).to_markdown()))\n",
    "\n",
    "def display_catalogue(cart, extra_columns=[], sorter=None):\n",
    "    for item in cart:\n",
    "        display_items(cart[item], extra_columns=extra_columns, sorter=sorter)\n",
    "\n",
    "def investigate_recipe(recipe_data, offline=True):\n",
    "    recipe_df = normalise_recipe(recipe_data)\n",
    "    #display(recipe_df)\n",
    "    catalogue = collect_catalogue(items=recipe_df['name'], offline=offline)\n",
    "    if catalogue:\n",
    "        prices, discount_prices, discounts = [], [], []\n",
    "        for weight, unit, title in recipe_df.values:\n",
    "            price = None\n",
    "            discount_price = None\n",
    "            discount = None\n",
    "            \n",
    "            if title not in catalogue:\n",
    "                pass\n",
    "                #print('Please update candidate file with:', title)\n",
    "\n",
    "            elif unit is None:\n",
    "                pass\n",
    "                \n",
    "            elif not(all(catalogue[title]['comparative_unit'] == unit)):\n",
    "                print(f'Inconsistent weight units: [{title}] is in {unit} but catalogue contains:', \n",
    "                      catalogue[title]['comparative_unit'].tolist())\n",
    "            else:\n",
    "                #display_items(catalogue[title])\n",
    "                price = weight * catalogue[title]['comparative_unit_price'].min()\n",
    "                discount_price = weight * catalogue[title]['comparative_unit_discount_price'].min()\n",
    "                discount = price - discount_price\n",
    "            prices.append(price)\n",
    "            discount_prices.append(discount_price)\n",
    "            discounts.append(discount)\n",
    "            \n",
    "        recipe_df['price'] = [round(n, 2) if n else n for n in prices]\n",
    "        recipe_df['discount_price'] = [round(n, 2) if n else n for n in discount_prices]\n",
    "        recipe_df['discount'] = [round(n, 2) if n else n for n in discounts]\n",
    "        return recipe_df\n",
    "\n",
    "\n",
    "\n",
    "fridge_dir, fridge_file = 'fridge', 'fridge.csv'\n",
    "fridge_file_path = os.path.join(fridge_dir, fridge_file)\n",
    "df = pd.read_csv(fridge_file_path)\n",
    "\n",
    "items_onwatch = sorted(candidates.keys())\n",
    "items_own = df['items'].loc[df['own']==1].tolist()\n",
    "items_hunt = df['items'].loc[df['hunt']==1].tolist()\n",
    "items_asap = df['items'].loc[df['asap']==1].tolist()\n",
    "\n",
    "print(f'onwatch:', items_onwatch, end='\\n\\n')\n",
    "print(f'own:', items_own, end='\\n\\n')\n",
    "print(f'hunt:', items_hunt, end='\\n\\n')\n",
    "print(f'asap:', items_asap, end='\\n\\n')"
   ]
  },
  {
   "cell_type": "markdown",
   "id": "5a62864b-a0cd-440e-9312-bcffc3bee558",
   "metadata": {},
   "source": [
    "## Update your items\n",
    "### All the items"
   ]
  },
  {
   "cell_type": "code",
   "execution_count": 6,
   "id": "40aebf1b-395f-4af9-8b72-6bb2b7042da6",
   "metadata": {},
   "outputs": [
    {
     "data": {
      "text/plain": [
       "['Avietės',\n",
       " 'Aviečių uogienė',\n",
       " 'Avižų gėrimas',\n",
       " 'Bananai',\n",
       " 'Bulvės',\n",
       " 'Burokėliai',\n",
       " 'Druska',\n",
       " 'Džiovinti krapai',\n",
       " 'Grietinė',\n",
       " 'Imbieras',\n",
       " 'Karis',\n",
       " 'Kefyras',\n",
       " 'Kiaušiniai',\n",
       " 'Kokosų gėrimas',\n",
       " 'Kopūstai',\n",
       " 'Laurų lapai',\n",
       " 'Maltos aitriosios paprikos',\n",
       " 'Morkos',\n",
       " 'Paprikos',\n",
       " 'Pienas UAT',\n",
       " 'Pomidorų pasta',\n",
       " 'Rausvieji svogūnai',\n",
       " 'Ridikėliai',\n",
       " 'Skumbrė',\n",
       " 'Sviestas',\n",
       " 'Sviestinis moliūgas',\n",
       " 'Svogūnai',\n",
       " 'Svogūnų laiškai',\n",
       " 'Trumpavaisiai agurkai',\n",
       " 'Viščiukų blauzdelės',\n",
       " 'Viščiukų filė',\n",
       " 'Šilauogės',\n",
       " 'Špinatai']"
      ]
     },
     "execution_count": 6,
     "metadata": {},
     "output_type": "execute_result"
    }
   ],
   "source": [
    "items_onwatch"
   ]
  },
  {
   "cell_type": "code",
   "execution_count": 9,
   "id": "04b939fe-696c-40f0-9e0c-e0ddbc67685c",
   "metadata": {},
   "outputs": [
    {
     "name": "stdout",
     "output_type": "stream",
     "text": [
      "Item = AVIETĖS ...  RIMI warning: (no price) https://www.rimi.lt/e-parduotuve/lt/produktai/vaisiai-darzoves-ir-geles/vaisiai-ir-uogos/uogos/avietes-rimi-225g/p/988086\n",
      "Done\n",
      "Done = AVIEČIŲ UOGIENĖ ...  \n",
      "Done = AVIŽŲ GĖRIMAS ...  \n",
      "Done = BANANAI ...  \n",
      "Done = BULVĖS ...  \n",
      "Done = BUROKĖLIAI ...  \n",
      "Done = DRUSKA ...  \n",
      "Done = DŽIOVINTI KRAPAI ...  \n",
      "Done = GRIETINĖ ...  \n",
      "Done = IMBIERAS ...  \n",
      "Done = KARIS ...  \n",
      "Done = KEFYRAS ...  \n",
      "Done = KIAUŠINIAI ...  \n",
      "Done = KOKOSŲ GĖRIMAS ...  \n",
      "Done = KOPŪSTAI ...  \n",
      "Done = LAURŲ LAPAI ...  \n",
      "Done = MALTOS AITRIOSIOS PAPRIKOS ...  \n",
      "Done = MORKOS ...  \n",
      "Done = PAPRIKOS ...  \n",
      "Done = PIENAS UAT ...  \n",
      "Done = POMIDORŲ PASTA ...  \n",
      "Done = RAUSVIEJI SVOGŪNAI ...  \n",
      "Done = RIDIKĖLIAI ...  \n",
      "Done = SKUMBRĖ ...  \n",
      "Done = SVIESTAS ...  \n",
      "Done = SVIESTINIS MOLIŪGAS ...  \n",
      "RIMI warning: (no price) https://www.rimi.lt/e-parduotuve/lt/produktai/vaisiai-darzoves-ir-geles/darzoves-ir-grybai/svogunai-porai-ir-cesnakai/svogunai-d-40-60mm-kg/p/937069\n",
      "Done\n",
      "RIMI warning: (no price) https://www.rimi.lt/e-parduotuve/lt/produktai/vaisiai-darzoves-ir-geles/darzoves-ir-grybai/prieskonines-darzoves-ir-zoleles/fasuoti-svogunu-laiskai-50-g/p/950571\n",
      "Done\n",
      "Done = TRUMPAVAISIAI AGURKAI ...  \n",
      "RIMI warning: (no price) https://www.rimi.lt/e-parduotuve/lt/produktai/mesa-ir-zuvis-/sviezia-paukstiena/vistiena/broileriu-blauzdeles-be-san-be-ant-vp-500g/p/971711\n",
      "Done\n",
      "IKI warning: (failed to fetch) https://www.lastmile.lt/chain/IKI/product/Sviezia-visciuku-broileriu-file-IKI-MESA-500-g-253573\n",
      "Done\n",
      "MAXIMA parsing error (failed to fetch) https://barbora.lt/produktai/silauoges-500-g\n",
      "Could not parse url: https://barbora.lt/produktai/silauoges-500-g\n",
      "Done\n",
      "IKI warning: (failed to fetch) https://www.lastmile.lt/chain/IKI/product/Mazieji-spinatai-200-g-253970\n",
      "Done\n"
     ]
    },
    {
     "data": {
      "text/markdown": [
       "|    | shop   | title                                                                                                                                                                                           | off    |   price |   discount_price | price_per   | discount_per   |   weight | date       | valid_until   |\n",
       "|---:|:-------|:------------------------------------------------------------------------------------------------------------------------------------------------------------------------------------------------|:-------|--------:|-----------------:|:------------|:---------------|---------:|:-----------|:--------------|\n",
       "|  2 | MAXIMA | [Šaldytos avietės WELL DONE, 400 g](https://barbora.lt/produktai/sald-avietes-well-done-400-g-400-g)                                                                                            |        |    3.59 |             3.59 | 8.98€/kg    | 8.98€/kg       |    0.4   | 2025-08-24 |               |\n",
       "|  7 | RIMI   | [Šaldytos avietės RIMI, 400 g](https://www.rimi.lt/e-parduotuve/lt/produktai/saldytas-maistas/saldytos-darzoves-vaisiai-ir-uogos/saldyti-vaisiai-ir-uogos/saldytos-avietes-rimi-400-g/p/811678) |        |    4.59 |             4.59 | 11.47€/kg   | 11.47€/kg      |    0.4   | 2025-08-24 |               |\n",
       "|  3 | IKI    | [Avietės, 125 g](https://www.lastmile.lt/chain/IKI/product/Avietes-125-g-2457)                                                                                                                  | -20.1% |    2.49 |             1.99 | 19.92€/kg   | 15.92€/kg      |    0.13  | 2025-08-24 | 2025-08-24    |\n",
       "|  0 | MAXIMA | [Avietės, 250 g](https://barbora.lt/produktai/avietes-250-g-13955)                                                                                                                              |        |    4.19 |             4.19 | 16.76€/kg   | 16.76€/kg      |    0.25  | 2025-08-24 |               |\n",
       "|  6 | RIMI   | [Lietuviškos avietės, 1 kl. 125g](https://www.rimi.lt/e-parduotuve/lt/produktai/vaisiai-darzoves-ir-geles/vaisiai-ir-uogos/uogos/lietuviskos-avietes-1-kl-125g/p/903227)                        | -20.8% |    2.89 |             2.29 | 23.12€/kg   | 18.32€/kg      |    0.125 | 2025-08-24 | 2025-08-25    |\n",
       "|  4 | IKI    | [Avietės, 250 g](https://www.lastmile.lt/chain/IKI/product/Avietes-250-g-84657)                                                                                                                 |        |    4.79 |             4.79 | 19.16€/kg   | 19.16€/kg      |    0.27  | 2025-08-24 |               |\n",
       "|  1 | MAXIMA | [Avietės WELL DONE, 125 g](https://barbora.lt/produktai/avietes-well-done-125-g)                                                                                                                |        |    2.99 |             2.99 | 23.92€/kg   | 23.92€/kg      |    0.125 | 2025-08-24 |               |\n",
       "|  5 | RIMI   | [Avietės RIMI, 125 g](https://www.rimi.lt/e-parduotuve/lt/produktai/vaisiai-darzoves-ir-geles/vaisiai-ir-uogos/uogos/avietes-rimi-125-g/p/904821)                                               |        |    2.99 |             2.99 | 23.92€/kg   | 23.92€/kg      |    0.125 | 2025-08-24 |               |"
      ],
      "text/plain": [
       "<IPython.core.display.Markdown object>"
      ]
     },
     "metadata": {},
     "output_type": "display_data"
    },
    {
     "data": {
      "text/markdown": [
       "|    | shop   | title                                                                                                                                                                                               | off    |   price |   discount_price | price_per   | discount_per   |   weight | date       | valid_until   |\n",
       "|---:|:-------|:----------------------------------------------------------------------------------------------------------------------------------------------------------------------------------------------------|:-------|--------:|-----------------:|:------------|:---------------|---------:|:-----------|:--------------|\n",
       "|  0 | MAXIMA | [Aviečių uogienė SKANOVĖ, 900 g](https://barbora.lt/produktai/avieciu-uogiene-skanove-900-g)                                                                                                        |        |    5.19 |             5.19 | 5.77€/kg    | 5.77€/kg       |    0.899 | 2025-08-24 |               |\n",
       "|  9 | RIMI   | [Aviečių uogienė PŪRE, 420 g](https://www.rimi.lt/e-parduotuve/lt/produktai/bakaleja/konservuotas-maistas/uogienes-dzemai-ir-tyres/avieciu-uogiene-pure-420-g/p/156329)                             | -25.5% |    3.29 |             2.45 | 7.83€/kg    | 5.83€/kg       |    0.42  | 2025-08-24 | 2025-08-25    |\n",
       "|  1 | MAXIMA | [Aviečių uogienė WELL DONE, 350 g](https://barbora.lt/produktai/avieciu-uogiene-well-done-350-g)                                                                                                    |        |    2.89 |             2.89 | 8.26€/kg    | 8.26€/kg       |    0.35  | 2025-08-24 |               |\n",
       "|  2 | IKI    | [Aviečių uogienė PURE, 900 g](https://www.lastmile.lt/chain/PROMO-CashandCarry/product/Avieciu-uogiene-PURE-900-g-U262U07)                                                                          |        |    7.74 |             7.74 | 8.6€/kg     | 8.6€/kg        |    0.9   | 2025-08-24 |               |\n",
       "|  8 | RIMI   | [Aviečių uogienė KĖDAINIŲ KONSERVAI, 430 g](https://www.rimi.lt/e-parduotuve/lt/produktai/bakaleja/konservuotas-maistas/uogienes-dzemai-ir-tyres/avieciu-uogiene-kedainiu-konservai-430-g/p/164482) |        |    3.89 |             3.89 | 9.05€/kg    | 9.05€/kg       |    0.43  | 2025-08-24 |               |\n",
       "|  6 | IKI    | [Kėdainių aviečių uogienė, 430 g](https://www.lastmile.lt/chain/IKI/product/Kedainiu-avieciu-uogiene-430-g-240633)                                                                                  |        |    3.99 |             3.99 | 9.28€/kg    | 9.28€/kg       |    0.64  | 2025-08-24 |               |\n",
       "|  3 | IKI    | [MOČIUTĖS aviečių uogienė, 600 g](https://www.lastmile.lt/chain/PROMO-CashandCarry/product/MOCIUTES-avieciu-uogiene-600-g-V26P778)                                                                  |        |    5.75 |             5.75 | 9.58€/kg    | 9.58€/kg       |    0.6   | 2025-08-24 |               |\n",
       "|  7 | IKI    | [Tradicinė aviečių uogienė, 230 g](https://www.lastmile.lt/chain/GERU-MINCIU-uKIS/product/Tradicine-avieciu-uogiene-230-g-UO)                                                                       |        |    3.99 |             3.99 | 9.97€/kg    | 9.97€/kg       |    0.4   | 2025-08-24 | 2024-01-31    |\n",
       "| 10 | RIMI   | [Aviečių uogienė SPILVA, 380 g](https://www.rimi.lt/e-parduotuve/lt/produktai/bakaleja/konservuotas-maistas/uogienes-dzemai-ir-tyres/avieciu-uogiene-spilva-380-g/p/182128)                         |        |    3.89 |             3.89 | 10.24€/kg   | 10.24€/kg      |    0.38  | 2025-08-24 |               |\n",
       "|  4 | IKI    | [Aviečių uogienė KĖDAINIŲ, 430 g](https://www.lastmile.lt/chain/PROMO-CashandCarry/product/Avieciu-uogiene-KEDAINIU-430-g-V26P42H)                                                                  |        |    4.67 |             4.67 | 10.86€/kg   | 10.86€/kg      |    0.43  | 2025-08-24 |               |\n",
       "|  5 | IKI    | [Aviečių uogienė VILROKA, 1,2 kg](https://www.lastmile.lt/chain/PROMO-CashandCarry/product/Avieciu-uogiene-VILROKA-12-kg-V26P818)                                                                   |        |    8.51 |             8.51 | 17.02€/kg   | 17.02€/kg      |    0.5   | 2025-08-24 |               |"
      ],
      "text/plain": [
       "<IPython.core.display.Markdown object>"
      ]
     },
     "metadata": {},
     "output_type": "display_data"
    },
    {
     "data": {
      "text/markdown": [
       "|    | shop   | title                                                                                                                                                                                                                | off    |   price |   discount_price | price_per   | discount_per   |   weight | date       | valid_until   |\n",
       "|---:|:-------|:---------------------------------------------------------------------------------------------------------------------------------------------------------------------------------------------------------------------|:-------|--------:|-----------------:|:------------|:---------------|---------:|:-----------|:--------------|\n",
       "|  5 | IKI    | [Avižų augalinis gėrimas su kalciu ir vitaminais VALSOIA, 1 l](https://www.lastmile.lt/chain/IKI/product/Avizu-augalinis-gerimas-su-kalciu-ir-vitaminais-VALSOIA-1-l-247793)                                         | -49.8% |    2.99 |             1.5  | 2.99€/l     | 1.5€/l         |     1.04 | 2025-08-24 |               |\n",
       "|  3 | MAXIMA | [Avižų gėrimas FARM MILK, 1 l](https://barbora.lt/produktai/avizu-gerimas-farm-milk-1-l)                                                                                                                             |        |    1.59 |             1.59 | 1.59€/l     | 1.59€/l        |     1    | 2025-08-24 |               |\n",
       "|  8 | RIMI   | [Avižų gėrimas ICA, 1l](https://www.rimi.lt/e-parduotuve/lt/produktai/augaliniai-produktai/augaliniai-gerimai/augaliniai-gerimai/avizu-gerimas-ica-1l/p/812023)                                                      |        |    1.69 |             1.69 | 1.69€/l     | 1.69€/l        |     1    | 2025-08-24 |               |\n",
       "|  7 | IKI    | [Ekologiškas avižų gėrimas MARGĖ, 1 l](https://www.lastmile.lt/chain/IKI/product/Ekologiskas-avizu-gerimas-MARGE-1-l-275941)                                                                                         |        |    2.29 |             2.29 | 2.29€/l     | 2.29€/l        |     1.04 | 2025-08-24 |               |\n",
       "| 10 | RIMI   | [Avižų gėrimas YOOK  BARISTA, 1 l](https://www.rimi.lt/e-parduotuve/lt/produktai/augaliniai-produktai/augaliniai-gerimai/augaliniai-gerimai/avizu-gerimas-yook-barista-1-l/p/4000826)                                | -20.8% |    2.89 |             2.29 | 2.89€/l     | 2.29€/l        |     1    | 2025-08-24 | 2025-08-25    |\n",
       "| 13 | RIMI   | [Avižų ir braškių - ban. sulčių gėr. CIDO, 1 l](https://www.rimi.lt/e-parduotuve/lt/produktai/augaliniai-produktai/augaliniai-gerimai/augaliniai-kavos-gerimai/avizu-ir-braskiu---ban-sulciu-ger-cido-1-l/p/1019843) |        |    2.29 |             2.29 | 2.29€/l     | 2.29€/l        |     1    | 2025-08-24 |               |\n",
       "|  4 | MAXIMA | [Ekologiškas avižų gėrimas be pridėtinio cukraus WELL DONE, 1 l](https://barbora.lt/produktai/ekologiskas-avizu-gerimas-be-pridetinio-cukraus-well-done-1-l)                                                         |        |    2.49 |             2.49 | 2.49€/l     | 2.49€/l        |     1    | 2025-08-24 |               |\n",
       "| 11 | RIMI   | [Augalinis avižų gėrimas VALSOIA, 1 l](https://www.rimi.lt/e-parduotuve/lt/produktai/augaliniai-produktai/augaliniai-gerimai/augaliniai-gerimai/augalinis-avizu-gerimas-valsoia-1-l/p/968463)                        |        |    2.89 |             2.89 | 2.89€/l     | 2.89€/l        |     1    | 2025-08-24 |               |\n",
       "| 12 | RIMI   | [Avižų gėrimas TERE DEARY Barista, 1 l](https://www.rimi.lt/e-parduotuve/lt/produktai/augaliniai-produktai/augaliniai-gerimai/augaliniai-gerimai/avizu-gerimas-tere-deary-barista-1-l/p/994218)                      |        |    2.89 |             2.89 | 2.89€/l     | 2.89€/l        |     1    | 2025-08-24 |               |\n",
       "|  1 | MAXIMA | [Avižų gėrimas NATURLI', 1 l](https://barbora.lt/produktai/avizu-gerimas-naturli-1-l)                                                                                                                                |        |    2.99 |             2.99 | 2.99€/l     | 2.99€/l        |     1    | 2025-08-24 |               |\n",
       "|  9 | RIMI   | [Ekologiškas avižų gėrimas OATLY, 1 l](https://www.rimi.lt/e-parduotuve/lt/produktai/augaliniai-produktai/augaliniai-gerimai/augaliniai-gerimai/ekologiskas-avizu-gerimas-oatly-1-l/p/993125)                        |        |    2.99 |             2.99 | 2.99€/l     | 2.99€/l        |     1    | 2025-08-24 |               |\n",
       "|  0 | MAXIMA | [Avižų gėrimas ALPRO, 1 l](https://barbora.lt/produktai/avizu-gerimas-alpro-1-l)                                                                                                                                     |        |    3.19 |             3.19 | 3.19€/l     | 3.19€/l        |     1    | 2025-08-24 |               |\n",
       "|  6 | IKI    | [Avižų gėrimas ALPRO, 1l](https://www.lastmile.lt/chain/IKI/product/Avizu-gerimas-ALPRO-1l-241218)                                                                                                                   |        |    3.29 |             3.29 | 3.29€/l     | 3.29€/l        |     1.06 | 2025-08-24 |               |\n",
       "|  2 | MAXIMA | [Avižų gėrimas ALPRO BARISTA, 1 l](https://barbora.lt/produktai/avizu-gerimas-alpro-barista-1-l)                                                                                                                     |        |    3.69 |             3.69 | 3.69€/l     | 3.69€/l        |     1    | 2025-08-24 |               |"
      ],
      "text/plain": [
       "<IPython.core.display.Markdown object>"
      ]
     },
     "metadata": {},
     "output_type": "display_data"
    },
    {
     "data": {
      "text/markdown": [
       "|    | shop   | title                                                                                                                                                                   | off    |   price |   discount_price | price_per   | discount_per   |   weight | date       | valid_until   |\n",
       "|---:|:-------|:------------------------------------------------------------------------------------------------------------------------------------------------------------------------|:-------|--------:|-----------------:|:------------|:---------------|---------:|:-----------|:--------------|\n",
       "|  1 | IKI    | [Bananai BON VIA](https://www.lastmile.lt/chain/IKI/product/Bananai-BON-VIA-287376)                                                                                     | -28.8% |    1.39 |             0.99 | 1.39€/kg    | 0.99€/kg       |        1 | 2025-08-24 | 2025-08-24    |\n",
       "|  0 | MAXIMA | [Bananai, nuo 20 cm, 1 kg](https://barbora.lt/produktai/bananai-1-kg)                                                                                                   |        |    1.39 |             1.39 | 1.39€/kg    | 1.39€/kg       |        1 | 2025-08-24 |               |\n",
       "|  2 | RIMI   | [Bananai Cavendish, 20+cm , 1kg](https://www.rimi.lt/e-parduotuve/lt/produktai/vaisiai-darzoves-ir-geles/vaisiai-ir-uogos/bananai/bananai-cavendish-20-cm-1kg/p/270939) |        |    1.39 |             1.39 | 1.39€/kg    | 1.39€/kg       |        1 | 2025-08-24 |               |"
      ],
      "text/plain": [
       "<IPython.core.display.Markdown object>"
      ]
     },
     "metadata": {},
     "output_type": "display_data"
    },
    {
     "data": {
      "text/markdown": [
       "|    | shop   | title                                                                                                                                                                                                   | off    |   price |   discount_price | price_per   | discount_per   |   weight | date       | valid_until   |\n",
       "|---:|:-------|:--------------------------------------------------------------------------------------------------------------------------------------------------------------------------------------------------------|:-------|--------:|-----------------:|:------------|:---------------|---------:|:-----------|:--------------|\n",
       "|  0 | MAXIMA | [Lietuviškos šviežios bulvės, 40-60 mm, 1 kg](https://barbora.lt/produktai/lietuviskos-sviezios-bulves-40-60-mm-1-kg-90335)                                                                             | -50.7% |    0.75 |             0.37 | 0.75€/kg    | 0.37€/kg       |        1 | 2025-08-24 | 2025-08-25    |\n",
       "|  2 | IKI    | [Sveriamos bulvės, 50-70 mm, I klasė, kg](https://www.lastmile.lt/chain/PROMO-CashandCarry/product/Sveriamos-bulves-50-70-mm-I-klase-kg-X401739)                                                        |        |    0.56 |             0.56 | 0.56€/kg    | 0.56€/kg       |        1 | 2025-08-24 |               |\n",
       "|  1 | IKI    | [Sveriamos bulvės CLEVER ](https://www.lastmile.lt/chain/IKI/product/Sveriamos-bulves-CLEVER-255264)                                                                                                    |        |    0.69 |             0.69 | 0.69€/kg    | 0.69€/kg       |        1 | 2025-08-24 |               |\n",
       "|  3 | RIMI   | [Šviežios lietuviškos fasuotos bulvės 45+, 1kg](https://www.rimi.lt/e-parduotuve/lt/produktai/vaisiai-darzoves-ir-geles/darzoves-ir-grybai/bulves/sviezios-lietuviskos-fasuotos-bulves-45-1kg/p/244697) |        |    1.35 |             1.35 | 1.35€/kg    | 1.35€/kg       |        1 | 2025-08-24 |               |"
      ],
      "text/plain": [
       "<IPython.core.display.Markdown object>"
      ]
     },
     "metadata": {},
     "output_type": "display_data"
    },
    {
     "data": {
      "text/markdown": [
       "|    | shop   | title                                                                                                                                                                                          | off   |   price |   discount_price | price_per   | discount_per   |   weight | date       | valid_until   |\n",
       "|---:|:-------|:-----------------------------------------------------------------------------------------------------------------------------------------------------------------------------------------------|:------|--------:|-----------------:|:------------|:---------------|---------:|:-----------|:--------------|\n",
       "|  0 | MAXIMA | [Lietuviški burokėliai, 1 kg](https://barbora.lt/produktai/lietuviski-burokeliai-1-kg)                                                                                                         |       |    0.79 |             0.79 | 0.79€/kg    | 0.79€/kg       |        1 | 2025-08-24 |               |\n",
       "|  2 | RIMI   | [Lietuviški burokėliai, 1 kg](https://www.rimi.lt/e-parduotuve/lt/produktai/vaisiai-darzoves-ir-geles/darzoves-ir-grybai/burokeliai-ir-kiti-sakniavaisiai/lietuviski-burokeliai-1-kg/p/920730) |       |    0.79 |             0.79 | 0.79€/kg    | 0.79€/kg       |        1 | 2025-08-24 |               |\n",
       "|  1 | IKI    | [Burokėliai CLEVER ](https://www.lastmile.lt/chain/IKI/product/Burokeliai-CLEVER-256255)                                                                                                       |       |    0.99 |             0.99 | 0.99€/kg    | 0.99€/kg       |        1 | 2025-08-24 |               |"
      ],
      "text/plain": [
       "<IPython.core.display.Markdown object>"
      ]
     },
     "metadata": {},
     "output_type": "display_data"
    },
    {
     "data": {
      "text/markdown": [
       "|    | shop   | title                                                                                                                                                    | off   |   price |   discount_price | price_per   | discount_per   |   weight | date       | valid_until   |\n",
       "|---:|:-------|:---------------------------------------------------------------------------------------------------------------------------------------------------------|:------|--------:|-----------------:|:------------|:---------------|---------:|:-----------|:--------------|\n",
       "|  2 | RIMI   | [Valgomoji druska RIMI SMART, 1 kg](https://www.rimi.lt/e-parduotuve/lt/produktai/bakaleja/prieskoniai/druska/valgomoji-druska-rimi-smart-1-kg/p/811466) |       |    0.39 |             0.39 | 0.39€/kg    | 0.39€/kg       |     1    | 2025-08-24 |               |\n",
       "|  0 | MAXIMA | [Joduotoji druska EXTRA LINE, 1kg, 1 kg](https://barbora.lt/produktai/joduotoji-druska-extra-line-1-kg-1-kg)                                             |       |    0.45 |             0.45 | 0.45€/kg    | 0.45€/kg       |     1    | 2025-08-24 |               |\n",
       "|  1 | IKI    | [Valgomoji akmens druska SALT HILL, 1 kg](https://www.lastmile.lt/chain/IKI/product/Valgomoji-akmens-druska-SALT-HILL-1-kg-271120)                       |       |    0.65 |             0.65 | 0.65€/kg    | 0.65€/kg       |     1.01 | 2025-08-24 |               |"
      ],
      "text/plain": [
       "<IPython.core.display.Markdown object>"
      ]
     },
     "metadata": {},
     "output_type": "display_data"
    },
    {
     "data": {
      "text/markdown": [
       "|    | shop   | title                                                                                                                                                                                   | off    |   price |   discount_price | price_per   | discount_per   |   weight | date       | valid_until   |\n",
       "|---:|:-------|:----------------------------------------------------------------------------------------------------------------------------------------------------------------------------------------|:-------|--------:|-----------------:|:------------|:---------------|---------:|:-----------|:--------------|\n",
       "|  2 | IKI    | [Džiovinti krapai, 100 g](https://www.lastmile.lt/chain/PROMO-CashandCarry/product/Dziovinti-krapai-100-g-V3125E3)                                                                      | -16.3% |    0.86 |             0.72 | 1.72€/kg    | 1.44€/kg       |    0.5   | 2025-08-24 | 2025-09-02    |\n",
       "|  3 | IKI    | [Džiovinti krapai, 500 g](https://www.lastmile.lt/chain/PROMO-CashandCarry/product/Dziovinti-krapai-500-g-V3641EY)                                                                      |        |    3.44 |             3.44 | 6.88€/kg    | 6.88€/kg       |    0.5   | 2025-08-24 |               |\n",
       "|  0 | MAXIMA | [Džiovinti krapai SAUDA, 15 g](https://barbora.lt/produktai/dziovinti-krapai-sauda-15-g)                                                                                                | -30.9% |    0.55 |             0.38 | 36.67€/kg   | 25.34€/kg      |    0.015 | 2025-08-24 | 2025-08-25    |\n",
       "|  1 | MAXIMA | [Krapai WELL DONE, 30 g](https://barbora.lt/produktai/krapai-well-done-30-g)                                                                                                            |        |    0.99 |             0.99 | 33.0€/kg    | 33.0€/kg       |    0.03  | 2025-08-24 |               |\n",
       "|  4 | RIMI   | [Krapų viršūnėlės TASTE FROM GARDEN, 30 g](https://www.rimi.lt/e-parduotuve/lt/produktai/bakaleja/prieskoniai/prieskoniai-ir-zoleles/krapu-virsuneles-taste-from-garden-30-g/p/1005611) |        |    1.25 |             1.25 | 41.67€/kg   | 41.67€/kg      |    0.03  | 2025-08-24 |               |"
      ],
      "text/plain": [
       "<IPython.core.display.Markdown object>"
      ]
     },
     "metadata": {},
     "output_type": "display_data"
    },
    {
     "data": {
      "text/markdown": [
       "|    | shop   | title                                                                                                                                                                                             | off    |   price |   discount_price | price_per   | discount_per   |   weight | date       | valid_until   |\n",
       "|---:|:-------|:--------------------------------------------------------------------------------------------------------------------------------------------------------------------------------------------------|:-------|--------:|-----------------:|:------------|:---------------|---------:|:-----------|:--------------|\n",
       "| 10 | RIMI   | [Grietinė RIMI SMART, 30 % rieb., 400 g](https://www.rimi.lt/e-parduotuve/lt/produktai/pieno-produktai-ir-kiausiniai/grietine-ir-grietinele/grietine-/grietine-rimi-smart-30-rieb-400-g/p/814672) |        |    1.55 |             1.55 | 3.87€/kg    | 3.87€/kg       |    0.401 | 2025-08-24 |               |\n",
       "|  4 | IKI    | [Grietinė 30% rieb. CLEVER, 400 g](https://www.lastmile.lt/chain/IKI/product/Grietine-30percent-rieb-CLEVER-400-g-252442)                                                                         |        |    1.59 |             1.59 | 3.98€/kg    | 3.98€/kg       |    0.53  | 2025-08-24 |               |\n",
       "|  0 | MAXIMA | [Grietinė FARM MILK, 30 % rieb., 400 g](https://barbora.lt/produktai/grietine-farm-milk-30-proc-rieb-400-g)                                                                                       |        |    1.59 |             1.59 | 3.98€/kg    | 3.98€/kg       |    0.399 | 2025-08-24 |               |\n",
       "|  8 | IKI    | [Grietinė DVARO, 30% rieb., 500 g](https://www.lastmile.lt/chain/IKI/product/Grietine-DVARO-30percent-rieb-500-g-10404)                                                                           | -31.3% |    3.19 |             2.19 | 6.38€/kg    | 4.38€/kg       |    0.5   | 2025-08-24 | 2025-08-24    |\n",
       "|  3 | MAXIMA | [Natūrali ROKIŠKIO grietinė ŽALOJI KARVUTĖ, 30 % rieb., 400 g](https://barbora.lt/produktai/naturali-rokiskio-grietine-zaloji-karvute-30-proc-rieb-400-g)                                         | -10.0% |    2.39 |             2.15 | 5.98€/kg    | 5.38€/kg       |    0.4   | 2025-08-24 | 2025-08-25    |\n",
       "|  6 | IKI    | [Grietinė 30% riebumo ŽALOJI KARVUTĖ, 400 g](https://www.lastmile.lt/chain/IKI/product/Grietine-30percent-riebumo-ZALOJI-KARVUTE-400-g-209764)                                                    |        |    2.39 |             2.39 | 5.97€/kg    | 5.97€/kg       |    0.41  | 2025-08-24 |               |\n",
       "|  9 | IKI    | [ROKIŠKIO NAMINĖ GRIETINĖ 30 % RIEB.,/500 G](https://www.lastmile.lt/chain/IKI/product/ROKISKIO-NAMINE-GRIETINE-30-percent-RIEB500-G-289382)                                                      |        |    3.19 |             3.19 | 6.38€/kg    | 6.38€/kg       |    0.57  | 2025-08-24 |               |\n",
       "|  2 | MAXIMA | [ROKIŠKIO NAMINĖ grietinė, 30 % rieb., 500 g](https://barbora.lt/produktai/rokiskio-namine-grietine-30-proc-rieb-500-g)                                                                           |        |    3.19 |             3.19 | 6.38€/kg    | 6.38€/kg       |    0.5   | 2025-08-24 |               |\n",
       "| 11 | RIMI   | [DVARO grietinė, 30 % rieb., 500 g](https://www.rimi.lt/e-parduotuve/lt/produktai/pieno-produktai-ir-kiausiniai/grietine-ir-grietinele/grietine-/dvaro-grietine-30-rieb-500-g/p/248927)           |        |    3.19 |             3.19 | 6.38€/kg    | 6.38€/kg       |    0.5   | 2025-08-24 |               |\n",
       "| 13 | RIMI   | [ROKIŠKIO NAMINĖ grietinė, 30 %, 500 g](https://www.rimi.lt/e-parduotuve/lt/produktai/pieno-produktai-ir-kiausiniai/grietine-ir-grietinele/grietine-/rokiskio-namine-grietine-30-500-g/p/4003727) |        |    3.19 |             3.19 | 6.38€/kg    | 6.38€/kg       |    0.5   | 2025-08-24 |               |\n",
       "|  5 | IKI    | [Grietinė 30% rieb. IKI, 400 g](https://www.lastmile.lt/chain/IKI/product/Grietine-30percent-rieb-IKI-400-g-210315)                                                                               |        |    2.69 |             2.69 | 6.72€/kg    | 6.72€/kg       |    0.42  | 2025-08-24 |               |\n",
       "|  7 | IKI    | [Grietinė ŽALOJI KARVUTĖ, 400 g](https://www.lastmile.lt/chain/IKI/product/Grietine-ZALOJI-KARVUTE-400-g-68335)                                                                                   |        |    2.69 |             2.69 | 6.72€/kg    | 6.72€/kg       |    0.41  | 2025-08-24 |               |\n",
       "|  1 | MAXIMA | [Grietinė WELL DONE, 30 % rieb., 400 g](https://barbora.lt/produktai/grietine-well-done-30-proc-rieb-400-g)                                                                                       |        |    2.69 |             2.69 | 6.73€/kg    | 6.73€/kg       |    0.4   | 2025-08-24 |               |\n",
       "| 12 | RIMI   | [Grietinė RIMI, 30 % rieb., 200 g](https://www.rimi.lt/e-parduotuve/lt/produktai/pieno-produktai-ir-kiausiniai/grietine-ir-grietinele/grietine-/grietine-rimi-30-rieb-200-g/p/814663)             |        |    1.39 |             1.39 | 6.95€/kg    | 6.95€/kg       |    0.2   | 2025-08-24 |               |"
      ],
      "text/plain": [
       "<IPython.core.display.Markdown object>"
      ]
     },
     "metadata": {},
     "output_type": "display_data"
    },
    {
     "data": {
      "text/markdown": [
       "|    | shop   | title                                                                                                                                                                          | off   |   price |   discount_price | price_per   | discount_per   |   weight | date       | valid_until   |\n",
       "|---:|:-------|:-------------------------------------------------------------------------------------------------------------------------------------------------------------------------------|:------|--------:|-----------------:|:------------|:---------------|---------:|:-----------|:--------------|\n",
       "|  0 | MAXIMA | [Imbierų šaknys, 1 kg](https://barbora.lt/produktai/imbieru-saknys-1-kg)                                                                                                       |       |    5.49 |             5.49 | 5.49€/kg    | 5.49€/kg       |        1 | 2025-08-24 |               |\n",
       "|  2 | RIMI   | [Imbierų šaknys, 1kg](https://www.rimi.lt/e-parduotuve/lt/produktai/vaisiai-darzoves-ir-geles/darzoves-ir-grybai/burokeliai-ir-kiti-sakniavaisiai/imbieru-saknys-1kg/p/276593) |       |    5.49 |             5.49 | 5.49€/kg    | 5.49€/kg       |        1 | 2025-08-24 |               |\n",
       "|  1 | IKI    | [Imbierai ](https://www.lastmile.lt/chain/IKI/product/Imbierai-2718)                                                                                                           |       |    5.99 |             5.99 | 5.99€/kg    | 5.99€/kg       |        1 | 2025-08-24 |               |"
      ],
      "text/plain": [
       "<IPython.core.display.Markdown object>"
      ]
     },
     "metadata": {},
     "output_type": "display_data"
    },
    {
     "data": {
      "text/markdown": [
       "|    | shop   | title                                                                                                                                                                       | off    |   price |   discount_price | price_per   | discount_per   |   weight | date       | valid_until   |\n",
       "|---:|:-------|:----------------------------------------------------------------------------------------------------------------------------------------------------------------------------|:-------|--------:|-----------------:|:------------|:---------------|---------:|:-----------|:--------------|\n",
       "|  1 | MAXIMA | [Karis WELL DONE, 40 g](https://barbora.lt/produktai/karis-well-done-40-g)                                                                                                  |        |    0.89 |             0.89 | 22.25€/kg   | 22.25€/kg      |    0.04  | 2025-08-24 |               |\n",
       "|  2 | IKI    | [Karis SANTA MARIA, 25 g](https://www.lastmile.lt/chain/IKI/product/Karis-SANTA-MARIA-25-g-9512)                                                                            | -25.3% |    0.99 |             0.74 | 39.6€/kg    | 29.6€/kg       |    0.04  | 2025-08-24 | 2025-08-24    |\n",
       "|  4 | RIMI   | [Prieskonių mišinys karis SALDVA, 25g](https://www.rimi.lt/e-parduotuve/lt/produktai/bakaleja/prieskoniai/prieskoniu-misiniai/prieskoniu-misinys-karis-saldva-25g/p/154759) |        |    0.79 |             0.79 | 31.6€/kg    | 31.6€/kg       |    0.025 | 2025-08-24 |               |\n",
       "|  5 | RIMI   | [Kario prieskoniai RIMI, 25g](https://www.rimi.lt/e-parduotuve/lt/produktai/bakaleja/prieskoniai/prieskoniai-ir-zoleles/kario-prieskoniai-rimi-25g/p/814493)                |        |    0.82 |             0.82 | 32.8€/kg    | 32.8€/kg       |    0.025 | 2025-08-24 |               |\n",
       "|  0 | MAXIMA | [Karis SANTA MARIA, 25 g](https://barbora.lt/produktai/karis-santa-maria-25-g)                                                                                              |        |    0.99 |             0.99 | 39.6€/kg    | 39.6€/kg       |    0.025 | 2025-08-24 |               |\n",
       "|  3 | RIMI   | [Karis SANTA MARIA, 25g](https://www.rimi.lt/e-parduotuve/lt/produktai/bakaleja/prieskoniai/prieskoniai-ir-zoleles/karis-santa-maria-25g/p/100338)                          |        |    1.05 |             1.05 | 42.0€/kg    | 42.0€/kg       |    0.025 | 2025-08-24 |               |"
      ],
      "text/plain": [
       "<IPython.core.display.Markdown object>"
      ]
     },
     "metadata": {},
     "output_type": "display_data"
    },
    {
     "data": {
      "text/markdown": [
       "|    | shop   | title                                                                                                                                                                                                   | off   |   price |   discount_price | price_per   | discount_per   |   weight | date       | valid_until   |\n",
       "|---:|:-------|:--------------------------------------------------------------------------------------------------------------------------------------------------------------------------------------------------------|:------|--------:|-----------------:|:------------|:---------------|---------:|:-----------|:--------------|\n",
       "|  5 | RIMI   | [Kefyras RIMI SMART, 2,5 % rieb., 0,9 kg](https://www.rimi.lt/e-parduotuve/lt/produktai/pieno-produktai-ir-kiausiniai/kefyras-rugpienis-ir-pasukos/kefyras/kefyras-rimi-smart-2-5-rieb-0-9-kg/p/804862) |       |    0.74 |             0.74 | 0.82€/kg    | 0.82€/kg       |    0.902 | 2025-08-24 |               |\n",
       "|  3 | IKI    | [Kefyras 2,5% rieb. CLEVER, 900 g](https://www.lastmile.lt/chain/IKI/product/Kefyras-25percent-rieb-CLEVER-900-g-252431)                                                                                |       |    0.76 |             0.76 | 0.84€/kg    | 0.84€/kg       |    0.91  | 2025-08-24 |               |\n",
       "|  1 | MAXIMA | [Kefyras FARM MILK, 2,5 % rieb., 1 kg](https://barbora.lt/produktai/kefyras-farm-milk-2-5-proc-rieb-1-kg)                                                                                               |       |    0.85 |             0.85 | 0.85€/kg    | 0.85€/kg       |    1     | 2025-08-24 |               |\n",
       "|  0 | MAXIMA | [Kefyras FARM MILK, 2 % rieb., 1 kg](https://barbora.lt/produktai/kefyras-farm-milk-2-proc-rieb-1-kg)                                                                                                   |       |    0.95 |             0.95 | 0.95€/kg    | 0.95€/kg       |    1     | 2025-08-24 |               |\n",
       "|  2 | MAXIMA | [Šaltibarščių kefyras WELL DONE, 5 % rieb., 1 kg](https://barbora.lt/produktai/saltibarsciu-kefyras-well-done-5-proc-rieb-1-kg)                                                                         |       |    1.49 |             1.49 | 1.49€/kg    | 1.49€/kg       |    1     | 2025-08-24 |               |\n",
       "|  4 | IKI    | [Šaltibarščių kefyras ŽALOJI KARVUTĖ, 5% rieb., 1 kg](https://www.lastmile.lt/chain/IKI/product/Saltibarsciu-kefyras-ZALOJI-KARVUTE-5percent-rieb-1-kg-61058)                                           |       |    1.59 |             1.59 | 1.59€/kg    | 1.59€/kg       |    1     | 2025-08-24 |               |"
      ],
      "text/plain": [
       "<IPython.core.display.Markdown object>"
      ]
     },
     "metadata": {},
     "output_type": "display_data"
    },
    {
     "data": {
      "text/markdown": [
       "|    | shop   | title                                                                                                                                                                                                                     | off   |   price |   discount_price | price_per   | discount_per   |   weight | date       | valid_until   |\n",
       "|---:|:-------|:--------------------------------------------------------------------------------------------------------------------------------------------------------------------------------------------------------------------------|:------|--------:|-----------------:|:------------|:---------------|---------:|:-----------|:--------------|\n",
       "|  0 | MAXIMA | [Ant kraiko laikomų vištų kiaušiniai, 10 vnt.](https://barbora.lt/produktai/ant-kraiko-laikomu-vistu-kiausiniai-10-vnt-10-vnt)                                                                                            |       |    2.15 |             2.15 | 0.22€/vnt   | 0.22€/vnt      |    nan   | 2025-08-24 |               |\n",
       "|  2 | RIMI   | [Vištų kiaušiniai RIMI, A/LM Nr.2, 10vnt](https://www.rimi.lt/e-parduotuve/lt/produktai/pieno-produktai-ir-kiausiniai/kiausiniai/2---ant-kraiko-laikomu-vistu-kiausiniai-/vistu-kiausiniai-rimi-a-lm-nr-2-10vnt/p/816323) |       |    2.15 |             2.15 | 0.22€/vnt   | 0.22€/vnt      |    nan   | 2025-08-24 |               |\n",
       "|  1 | IKI    | [Kiaušiniai IKI ant kraiko laikomų vištų M dydžio, rudu lukštu, Nr.2, 10 vnt](https://www.lastmile.lt/chain/IKI/product/Kiausiniai-IKI-ant-kraiko-laikomu-vistu-M-dydzio-rudu-lukstu-Nr2-10-vnt-281345)                   |       |    2.49 |             2.49 | 0.25€/vnt   | 0.25€/vnt      |      0.6 | 2025-08-24 |               |"
      ],
      "text/plain": [
       "<IPython.core.display.Markdown object>"
      ]
     },
     "metadata": {},
     "output_type": "display_data"
    },
    {
     "data": {
      "text/markdown": [
       "|    | shop   | title                                                                                                                                                                        | off   |   price |   discount_price | price_per   | discount_per   |   weight | date       | valid_until   |\n",
       "|---:|:-------|:-----------------------------------------------------------------------------------------------------------------------------------------------------------------------------|:------|--------:|-----------------:|:------------|:---------------|---------:|:-----------|:--------------|\n",
       "|  1 | MAXIMA | [Kokosų gėrimas EXTRA LINE, 17-19 %, 400 ml](https://barbora.lt/produktai/kokosu-gerimas-extra-line-17-19-proc-400-ml)                                                       |       |    1.89 |             1.89 | 4.73€/l     | 4.73€/l        |     0.4  | 2025-08-24 |               |\n",
       "|  0 | MAXIMA | [Kokosų gėrimas AJI, 400 ml](https://barbora.lt/produktai/kokosu-gerimas-aji-400-ml)                                                                                         |       |    1.99 |             1.99 | 4.98€/l     | 4.98€/l        |     0.4  | 2025-08-24 |               |\n",
       "|  5 | RIMI   | [Kokosų gėrimas AJI, 400ml](https://www.rimi.lt/e-parduotuve/lt/produktai/bakaleja/pasaulio-skoniai/kokosu-pienas/kokosu-gerimas-aji-400ml/p/182692)                         |       |    2.09 |             2.09 | 5.22€/l     | 5.22€/l        |     0.4  | 2025-08-24 |               |\n",
       "|  3 | IKI    | [Kokosų gėrimas BILLA, 400 ml](https://www.lastmile.lt/chain/IKI/product/Kokosu-gerimas-BILLA-400-ml-284756)                                                                 |       |    2.29 |             2.29 | 5.72€/l     | 5.72€/l        |     0.46 | 2025-08-24 |               |\n",
       "|  4 | RIMI   | [Kokosų gėrimas I LOVE ECO, 400 ml](https://www.rimi.lt/e-parduotuve/lt/produktai/bakaleja/pasaulio-skoniai/kokosu-pienas/kokosu-gerimas-i-love-eco-400-ml/p/810075)         |       |    2.29 |             2.29 | 5.72€/l     | 5.72€/l        |     0.4  | 2025-08-24 |               |\n",
       "|  2 | MAXIMA | [Ekologiškas kokosų gėrimas BIONATURALIS, 400 ml](https://barbora.lt/produktai/ekologiskas-kokosu-gerimas-bionaturalis-400-ml)                                               |       |    2.89 |             2.89 | 7.23€/l     | 7.23€/l        |     0.4  | 2025-08-24 |               |\n",
       "|  7 | RIMI   | [Kokosų gėrimas ICA ASIA, 200 ml](https://www.rimi.lt/e-parduotuve/lt/produktai/bakaleja/pasaulio-skoniai/kokosu-pienas/kokosu-gerimas-ica-asia-200-ml/p/813759)             |       |    1.45 |             1.45 | 7.25€/l     | 7.25€/l        |     0.2  | 2025-08-24 |               |\n",
       "|  8 | RIMI   | [Kokosų gėrimas ICA ASIA LIGHT, 400 ml](https://www.rimi.lt/e-parduotuve/lt/produktai/bakaleja/pasaulio-skoniai/kokosu-pienas/kokosu-gerimas-ica-asia-light-400-ml/p/813761) |       |    3.19 |             3.19 | 7.97€/l     | 7.97€/l        |     0.4  | 2025-08-24 |               |\n",
       "|  6 | RIMI   | [Kokosų gėrimas THAI CHOICE, 400ml](https://www.rimi.lt/e-parduotuve/lt/produktai/bakaleja/pasaulio-skoniai/kokosu-pienas/kokosu-gerimas-thai-choice-400ml/p/109075)         |       |    3.99 |             3.99 | 9.97€/l     | 9.97€/l        |     0.4  | 2025-08-24 |               |"
      ],
      "text/plain": [
       "<IPython.core.display.Markdown object>"
      ]
     },
     "metadata": {},
     "output_type": "display_data"
    },
    {
     "data": {
      "text/markdown": [
       "|    | shop   | title                                                                                                                                                                                                | off    |   price |   discount_price | price_per   | discount_per   |   weight | date       | valid_until   |\n",
       "|---:|:-------|:-----------------------------------------------------------------------------------------------------------------------------------------------------------------------------------------------------|:-------|--------:|-----------------:|:------------|:---------------|---------:|:-----------|:--------------|\n",
       "|  1 | IKI    | [Kopūstai CLEVER ](https://www.lastmile.lt/chain/IKI/product/Kopustai-CLEVER-256256)                                                                                                                 | -50.4% |    1.19 |             0.59 | 1.19€/kg    | 0.59€/kg       |        1 | 2025-08-24 | 2025-08-24    |\n",
       "|  0 | MAXIMA | [Švieži baltagūžiai kopūstai, 1 kg](https://barbora.lt/produktai/lietuviski-sviezi-baltaguziai-kopustai-1-kg-28341)                                                                                  | -50.4% |    1.19 |             0.59 | 1.19€/kg    | 0.59€/kg       |        1 | 2025-08-24 | 2025-08-24    |\n",
       "|  2 | RIMI   | [Lietuviški švieži baltagūžiai kopūstai, kg](https://www.rimi.lt/e-parduotuve/lt/produktai/vaisiai-darzoves-ir-geles/darzoves-ir-grybai/kopustai/lietuviski-sviezi-baltaguziai-kopustai-kg/p/244676) |        |    1.49 |             1.49 | 1.49€/kg    | 1.49€/kg       |        1 | 2025-08-24 |               |"
      ],
      "text/plain": [
       "<IPython.core.display.Markdown object>"
      ]
     },
     "metadata": {},
     "output_type": "display_data"
    },
    {
     "data": {
      "text/markdown": [
       "|    | shop   | title                                                                                                                                              | off    |   price |   discount_price | price_per   | discount_per   |   weight | date       | valid_until   |\n",
       "|---:|:-------|:---------------------------------------------------------------------------------------------------------------------------------------------------|:-------|--------:|-----------------:|:------------|:---------------|---------:|:-----------|:--------------|\n",
       "|  0 | MAXIMA | [Laurų lapai SAUDA, 40 g](https://barbora.lt/produktai/lauru-lapai-sauda-40-g)                                                                     | -30.4% |    0.79 |             0.55 | 19.75€/kg   | 13.75€/kg      |     0.04 | 2025-08-24 | 2025-08-25    |\n",
       "|  5 | IKI    | [Laurų lapai SAUDA, 40 g](https://www.lastmile.lt/chain/IKI/product/Lauru-lapai-SAUDA-40-g-40827)                                                  | -25.3% |    0.79 |             0.59 | 19.75€/kg   | 14.75€/kg      |     0.05 | 2025-08-24 | 2025-08-24    |\n",
       "|  4 | IKI    | [Laurų lapai SAUDA, 40 g](https://www.lastmile.lt/chain/PROMO-CashandCarry/product/Lauru-lapai-SAUDA-40-g-V9Z117Z)                                 |        |    0.6  |             0.6  | 15.0€/kg    | 15.0€/kg       |     0.04 | 2025-08-24 |               |\n",
       "|  3 | IKI    | [Laurų lapai, 100 g](https://www.lastmile.lt/chain/PROMO-CashandCarry/product/Lauru-lapai-100-g-V312532)                                           | -16.4% |    1.83 |             1.53 | 18.3€/kg    | 15.3€/kg       |     0.1  | 2025-08-24 | 2025-09-02    |\n",
       "|  6 | RIMI   | [Laurų lapai SAUDA, 40g](https://www.rimi.lt/e-parduotuve/lt/produktai/bakaleja/prieskoniai/prieskoniai-ir-zoleles/lauru-lapai-sauda-40g/p/157233) |        |    0.79 |             0.79 | 19.75€/kg   | 19.75€/kg      |     0.04 | 2025-08-24 |               |\n",
       "|  1 | MAXIMA | [Laurų lapai WELL DONE, 40 g](https://barbora.lt/produktai/lauru-lapai-well-done-40-g)                                                             |        |    0.99 |             0.99 | 24.75€/kg   | 24.75€/kg      |     0.04 | 2025-08-24 |               |\n",
       "|  2 | MAXIMA | [Malti laurų lapeliai SALDVA, 20 g](https://barbora.lt/produktai/malti-lauru-lapeliai-saldva-20-g)                                                 |        |    0.65 |             0.65 | 32.5€/kg    | 32.5€/kg       |     0.02 | 2025-08-24 |               |"
      ],
      "text/plain": [
       "<IPython.core.display.Markdown object>"
      ]
     },
     "metadata": {},
     "output_type": "display_data"
    },
    {
     "data": {
      "text/markdown": [
       "|    | shop   | title                                                                                                                                                               | off    |   price |   discount_price | price_per   | discount_per   |   weight | date       | valid_until   |\n",
       "|---:|:-------|:--------------------------------------------------------------------------------------------------------------------------------------------------------------------|:-------|--------:|-----------------:|:------------|:---------------|---------:|:-----------|:--------------|\n",
       "|  1 | MAXIMA | [Maltos aitriosios paprikos WELL DONE, 40 g](https://barbora.lt/produktai/maltos-aitriosios-paprikos-well-done-40-g)                                                |        |    0.99 |             0.99 | 24.75€/kg   | 24.75€/kg      |    0.04  | 2025-08-24 |               |\n",
       "|  0 | MAXIMA | [Maltos aitriosios paprikos SALDVA, 25 g](https://barbora.lt/produktai/maltos-aitriosios-paprikos-saldva-25-g)                                                      |        |    0.69 |             0.69 | 27.6€/kg    | 27.6€/kg       |    0.025 | 2025-08-24 |               |\n",
       "|  3 | IKI    | [Aitrioji raudonoji paprika IKI, 50 g](https://www.lastmile.lt/chain/IKI/product/Aitrioji-raudonoji-paprika-IKI-50-g-260575)                                        |        |    1.49 |             1.49 | 29.8€/kg    | 29.8€/kg       |    0.06  | 2025-08-24 |               |\n",
       "|  4 | RIMI   | [Malta aitriosioji paprika SALDVA, 25 g](https://www.rimi.lt/e-parduotuve/lt/produktai/bakaleja/prieskoniai/pipirai/malta-aitriosioji-paprika-saldva-25-g/p/154785) |        |    0.8  |             0.8  | 32.0€/kg    | 32.0€/kg       |    0.025 | 2025-08-24 |               |\n",
       "|  2 | IKI    | [Maltos aitriosios paprikos IKI, 40 g](https://www.lastmile.lt/chain/IKI/product/Maltos-aitriosios-paprikos-IKI-40-g-259571)                                        | -25.1% |    1.99 |             1.49 | 49.75€/kg   | 37.25€/kg      |    0.05  | 2025-08-24 | 2025-08-24    |"
      ],
      "text/plain": [
       "<IPython.core.display.Markdown object>"
      ]
     },
     "metadata": {},
     "output_type": "display_data"
    },
    {
     "data": {
      "text/markdown": [
       "|    | shop   | title                                                                                                                                                          | off    |   price |   discount_price | price_per   | discount_per   |   weight | date       | valid_until   |\n",
       "|---:|:-------|:---------------------------------------------------------------------------------------------------------------------------------------------------------------|:-------|--------:|-----------------:|:------------|:---------------|---------:|:-----------|:--------------|\n",
       "|  2 | IKI    | [Plautos morkos CLEVER](https://www.lastmile.lt/chain/IKI/product/Plautos-morkos-CLEVER-255266)                                                                | -25.3% |    0.79 |             0.59 | 0.79€/kg    | 0.59€/kg       |     1    | 2025-08-24 | 2025-08-24    |\n",
       "|  3 | IKI    | [Sveriamos morkos, I klasė, kg](https://www.lastmile.lt/chain/PROMO-CashandCarry/product/Sveriamos-morkos-I-klase-kg-X401737)                                  | -9.1%  |    0.66 |             0.6  | 0.66€/kg    | 0.6€/kg        |     1    | 2025-08-24 | 2025-08-26    |\n",
       "|  4 | RIMI   | [Lietuviškos plautos morkos, kg](https://www.rimi.lt/e-parduotuve/lt/produktai/vaisiai-darzoves-ir-geles/darzoves-ir-grybai/morkos/plautos-morkos-kg/p/272768) |        |    0.65 |             0.65 | 0.65€/kg    | 0.65€/kg       |     1    | 2025-08-24 |               |\n",
       "|  0 | MAXIMA | [Plautos morkos, 1 kg](https://barbora.lt/produktai/plautos-morkos-1-kg)                                                                                       |        |    0.89 |             0.89 | 0.89€/kg    | 0.89€/kg       |     1    | 2025-08-24 |               |\n",
       "|  1 | IKI    | [Fasuotos morkos IKI ŪKIS, 1 kg](https://www.lastmile.lt/chain/IKI/product/Fasuotos-morkos-IKI-uKIS-1-kg-2630)                                                 |        |    1.19 |             1.19 | 1.19€/kg    | 1.19€/kg       |     1.05 | 2025-08-24 |               |"
      ],
      "text/plain": [
       "<IPython.core.display.Markdown object>"
      ]
     },
     "metadata": {},
     "output_type": "display_data"
    },
    {
     "data": {
      "text/markdown": [
       "|    | shop   | title                                                                                                                                                                                                     | off    |   price |   discount_price | price_per   | discount_per   |   weight | date       | valid_until   |\n",
       "|---:|:-------|:----------------------------------------------------------------------------------------------------------------------------------------------------------------------------------------------------------|:-------|--------:|-----------------:|:------------|:---------------|---------:|:-----------|:--------------|\n",
       "|  8 | IKI    | [Baltosios paprikos ](https://www.lastmile.lt/chain/IKI/product/Baltosios-paprikos-2511)                                                                                                                  | -30.1% |    2.99 |             2.09 | 2.99€/kg    | 2.09€/kg       |        1 | 2025-08-24 | 2025-08-24    |\n",
       "|  6 | IKI    | [Raudonosios paprikos BON VIA](https://www.lastmile.lt/chain/IKI/product/Raudonosios-paprikos-BON-VIA-2507)                                                                                               | -30.1% |    3.49 |             2.44 | 3.49€/kg    | 2.44€/kg       |        1 | 2025-08-24 | 2025-08-24    |\n",
       "|  7 | IKI    | [Geltonosios paprikos BON VIA](https://www.lastmile.lt/chain/IKI/product/Geltonosios-paprikos-BON-VIA-2510)                                                                                               | -30.1% |    3.99 |             2.79 | 3.99€/kg    | 2.79€/kg       |        1 | 2025-08-24 | 2025-08-24    |\n",
       "|  3 | IKI    | [Paprikos, saldžiosios, raudonos, I klasė, kg](https://www.lastmile.lt/chain/PROMO-CashandCarry/product/Paprikos-saldziosios-raudonos-I-klase-kg-X201456)                                                 |        |    2.85 |             2.85 | 2.85€/kg    | 2.85€/kg       |        1 | 2025-08-24 |               |\n",
       "| 14 | RIMI   | [Baltosios paprikos, 1 kl., 1 kg](https://www.rimi.lt/e-parduotuve/lt/produktai/vaisiai-darzoves-ir-geles/darzoves-ir-grybai/paprikos/baltosios-paprikos-1-kl-1-kg/p/221465)                              |        |    2.85 |             2.85 | 2.85€/kg    | 2.85€/kg       |        1 | 2025-08-24 |               |\n",
       "|  5 | IKI    | [Paprikos, saldžiosios, žalios, I klasė, kg](https://www.lastmile.lt/chain/PROMO-CashandCarry/product/Paprikos-saldziosios-zalios-I-klase-kg-X205453)                                                     |        |    2.86 |             2.86 | 2.86€/kg    | 2.86€/kg       |        1 | 2025-08-24 |               |\n",
       "|  0 | MAXIMA | [Raudonos saldžiosios paprikos, 80-100 mm, 1 kg](https://barbora.lt/produktai/raudonos-saldziosios-paprikos-80-100-mm-1-kg)                                                                               |        |    2.99 |             2.99 | 2.99€/kg    | 2.99€/kg       |        1 | 2025-08-24 |               |\n",
       "| 10 | RIMI   | [Raudonos saldžiosios paprikos (70+mm),1kl,1kg](https://www.rimi.lt/e-parduotuve/lt/produktai/vaisiai-darzoves-ir-geles/darzoves-ir-grybai/paprikos/raudonos-saldziosios-paprikos-70-mm-1kl-1kg/p/269167) |        |    3.49 |             3.49 | 3.49€/kg    | 3.49€/kg       |        1 | 2025-08-24 |               |\n",
       "|  4 | IKI    | [Paprikos, saldžiosios, oranžinės, I klasė, kg](https://www.lastmile.lt/chain/PROMO-CashandCarry/product/Paprikos-saldziosios-oranzines-I-klase-kg-V3326H0)                                               | -16.3% |    4.59 |             3.84 | 4.59€/kg    | 3.84€/kg       |        1 | 2025-08-24 | 2025-08-26    |\n",
       "|  9 | IKI    | [Raudonos saldžiosios paprikos (70-90 mm), II kl.](https://www.lastmile.lt/chain/Assorti/product/Raudonos-saldziosios-paprikos-70-90-mm-II-kl-408779)                                                     |        |    3.99 |             3.99 | 3.99€/kg    | 3.99€/kg       |        1 | 2025-08-24 |               |\n",
       "| 11 | RIMI   | [Geltonos saldžiosios paprikos (80+mm),1kl,1kg](https://www.rimi.lt/e-parduotuve/lt/produktai/vaisiai-darzoves-ir-geles/darzoves-ir-grybai/paprikos/geltonos-saldziosios-paprikos-80-mm-1kl-1kg/p/209926) |        |    3.99 |             3.99 | 3.99€/kg    | 3.99€/kg       |        1 | 2025-08-24 |               |\n",
       "| 12 | RIMI   | [Oranžin. saldžiosios paprikos (80+mm),1kl,1kg](https://www.rimi.lt/e-parduotuve/lt/produktai/vaisiai-darzoves-ir-geles/darzoves-ir-grybai/paprikos/oranzin-saldziosios-paprikos-80-mm-1kl-1kg/p/269168)  |        |    3.99 |             3.99 | 3.99€/kg    | 3.99€/kg       |        1 | 2025-08-24 |               |\n",
       "|  1 | MAXIMA | [Geltonos saldžiosios paprikos, 80-100 mm, 1 kg](https://barbora.lt/produktai/geltonos-saldziosios-paprikos-80-100-mm-1-kg)                                                                               |        |    4.29 |             4.29 | 4.29€/kg    | 4.29€/kg       |        1 | 2025-08-24 |               |\n",
       "|  2 | IKI    | [Paprikos, saldžiosios, geltonos, I klasė, kg](https://www.lastmile.lt/chain/PROMO-CashandCarry/product/Paprikos-saldziosios-geltonos-I-klase-kg-X205451)                                                 |        |    4.59 |             4.59 | 4.59€/kg    | 4.59€/kg       |        1 | 2025-08-24 |               |\n",
       "| 13 | RIMI   | [Žaliosios paprikos (75+ mm), 1 kl., 1 kg](https://www.rimi.lt/e-parduotuve/lt/produktai/vaisiai-darzoves-ir-geles/darzoves-ir-grybai/paprikos/zaliosios-paprikos-75-mm-1-kl-1-kg/p/269169)               |        |    4.59 |             4.59 | 4.59€/kg    | 4.59€/kg       |        1 | 2025-08-24 |               |"
      ],
      "text/plain": [
       "<IPython.core.display.Markdown object>"
      ]
     },
     "metadata": {},
     "output_type": "display_data"
    },
    {
     "data": {
      "text/markdown": [
       "|    | shop   | title                                                                                                                                                                              | off    |   price |   discount_price | price_per   | discount_per   |   weight | date       | valid_until   |\n",
       "|---:|:-------|:-----------------------------------------------------------------------------------------------------------------------------------------------------------------------------------|:-------|--------:|-----------------:|:------------|:---------------|---------:|:-----------|:--------------|\n",
       "|  0 | MAXIMA | [UAT pienas FARM MILK, 3,2% rieb., 1 l](https://barbora.lt/produktai/uat-pienas-farm-milk-3-2-proc-rieb-1-l)                                                                       | -10.1% |    0.99 |             0.89 | 0.99€/l     | 0.89€/l        |    1     | 2025-08-24 | 2025-08-25    |\n",
       "|  1 | IKI    | [Pienas ZAMBROWSKIE, 3,2%, UAT, 1 l (M)](https://www.lastmile.lt/chain/PROMO-CashandCarry/product/Pienas-ZAMBROWSKIE-32percent-UAT-1-l-M-U432821)                                  |        |    1    |             1    | 1.0€/l      | 1.0€/l         |    1.034 | 2025-08-24 |               |\n",
       "|  2 | RIMI   | [Pienas Meadow Star UAT 1,5% 1l](https://www.rimi.lt/e-parduotuve/lt/produktai/pieno-produktai-ir-kiausiniai/pienas/ilgo-galiojimo-pienas/pienas-meadow-star-uat-1-5-1l/p/4000656) |        |    1.19 |             1.19 | 1.19€/l     | 1.19€/l        |    1     | 2025-08-24 |               |"
      ],
      "text/plain": [
       "<IPython.core.display.Markdown object>"
      ]
     },
     "metadata": {},
     "output_type": "display_data"
    },
    {
     "data": {
      "text/markdown": [
       "|    | shop   | title                                                                                                                                                                                                 | off    |   price |   discount_price | price_per   | discount_per   |   weight | date       | valid_until   |\n",
       "|---:|:-------|:------------------------------------------------------------------------------------------------------------------------------------------------------------------------------------------------------|:-------|--------:|-----------------:|:------------|:---------------|---------:|:-----------|:--------------|\n",
       "|  3 | IKI    | [Pomidorų pasta MIKADO, 28-30 % , 800 g](https://www.lastmile.lt/chain/PROMO-CashandCarry/product/Pomidoru-pasta-MIKADO-28-30-percent-800-g-U263695)                                                  |        |    3.02 |             3.02 | 3.55€/kg    | 3.55€/kg       |     0.85 | 2025-08-24 |               |\n",
       "|  0 | MAXIMA | [Pomidorų pasta 30% EXTRA LINE, 180 g](https://barbora.lt/produktai/pomidoru-pasta-30-proc-extra-line-180-g)                                                                                          |        |    0.69 |             0.69 | 3.83€/kg    | 3.83€/kg       |     0.18 | 2025-08-24 |               |\n",
       "|  5 | RIMI   | [Pomidorų pasta KĖDAINIŲ KONSERVAI 250g](https://www.rimi.lt/e-parduotuve/lt/produktai/bakaleja/padazai-garstycios-krienai/pomidoru-padazai-ir-pasta/pomidoru-pasta-kedainiu-konservai-250g/p/161465) | -30.2% |    1.89 |             1.32 | 7.56€/kg    | 5.28€/kg       |     0.25 | 2025-08-24 | 2025-08-24    |\n",
       "|  1 | MAXIMA | [Pomidorų pasta WELL DONE, 140 g](https://barbora.lt/produktai/pomidoru-pasta-well-done-140-g)                                                                                                        | -20.2% |    0.99 |             0.79 | 7.07€/kg    | 5.64€/kg       |     0.14 | 2025-08-24 | 2025-08-25    |\n",
       "|  2 | MAXIMA | [KĖDAINIŲ KONSERVŲ FABRIKO pomidorų pasta, 250 g](https://barbora.lt/produktai/kedainiu-konservu-fabriko-pomidoru-pasta-250-g)                                                                        |        |    1.79 |             1.79 | 7.16€/kg    | 7.16€/kg       |     0.25 | 2025-08-24 |               |\n",
       "|  4 | IKI    | [Pomidorų pasta KĖDAINIŲ, 23-25%,  250 g](https://www.lastmile.lt/chain/PROMO-CashandCarry/product/Pomidoru-pasta-KEDAINIU-23-25percent-250-g-V17319Q)                                                |        |    1.81 |             1.81 | 7.24€/kg    | 7.24€/kg       |     0.25 | 2025-08-24 |               |"
      ],
      "text/plain": [
       "<IPython.core.display.Markdown object>"
      ]
     },
     "metadata": {},
     "output_type": "display_data"
    },
    {
     "data": {
      "text/markdown": [
       "|    | shop   | title                                                                                                                                                                                   | off   |   price |   discount_price | price_per   | discount_per   |   weight | date       | valid_until   |\n",
       "|---:|:-------|:----------------------------------------------------------------------------------------------------------------------------------------------------------------------------------------|:------|--------:|-----------------:|:------------|:---------------|---------:|:-----------|:--------------|\n",
       "|  0 | IKI    | [Rausvieji svogūnai ](https://www.lastmile.lt/chain/IKI/product/Rausvieji-svogunai-2663)                                                                                                |       |    1.59 |             1.59 | 1.59€/kg    | 1.59€/kg       |        1 | 2025-08-24 |               |\n",
       "|  1 | MAXIMA | [Rausvieji svogūnai, 1 kg](https://barbora.lt/produktai/rausvieji-svogunai-1-kg)                                                                                                        |       |    1.59 |             1.59 | 1.59€/kg    | 1.59€/kg       |        1 | 2025-08-24 |               |\n",
       "|  2 | RIMI   | [Raudonieji svogūnai 45+, kg](https://www.rimi.lt/e-parduotuve/lt/produktai/vaisiai-darzoves-ir-geles/darzoves-ir-grybai/svogunai-porai-ir-cesnakai/raudonieji-svogunai-45-kg/p/244626) |       |    1.59 |             1.59 | 1.59€/kg    | 1.59€/kg       |        1 | 2025-08-24 |               |"
      ],
      "text/plain": [
       "<IPython.core.display.Markdown object>"
      ]
     },
     "metadata": {},
     "output_type": "display_data"
    },
    {
     "data": {
      "text/markdown": [
       "|    | shop   | title                                                                                                                                                                      | off    |   price |   discount_price | price_per   | discount_per   |   weight | date       | valid_until   |\n",
       "|---:|:-------|:---------------------------------------------------------------------------------------------------------------------------------------------------------------------------|:-------|--------:|-----------------:|:------------|:---------------|---------:|:-----------|:--------------|\n",
       "|  3 | RIMI   | [Ridikėliai, 125 g](https://www.rimi.lt/e-parduotuve/lt/produktai/vaisiai-darzoves-ir-geles/darzoves-ir-grybai/burokeliai-ir-kiti-sakniavaisiai/ridikeliai-125-g/p/200640) | -27.4% |    0.62 |             0.45 | 4.96€/kg    | 3.6€/kg        |    0.125 | 2025-08-24 | 2025-08-25    |\n",
       "|  1 | IKI    | [Raudonieji ridikėliai IKI, 300 g](https://www.lastmile.lt/chain/IKI/product/Raudonieji-ridikeliai-IKI-300-g-262683)                                                       |        |    1.49 |             1.49 | 4.97€/kg    | 4.97€/kg       |    0.33  | 2025-08-24 |               |\n",
       "|  0 | MAXIMA | [Ridikėliai, 300 g](https://barbora.lt/produktai/ridikeliai-300-g)                                                                                                         |        |    1.49 |             1.49 | 4.97€/kg    | 4.97€/kg       |    0.3   | 2025-08-24 |               |\n",
       "|  2 | RIMI   | [Ridikėliai, 300 g](https://www.rimi.lt/e-parduotuve/lt/produktai/vaisiai-darzoves-ir-geles/darzoves-ir-grybai/burokeliai-ir-kiti-sakniavaisiai/ridikeliai-300-g/p/997068) |        |    1.49 |             1.49 | 4.97€/kg    | 4.97€/kg       |    0.3   | 2025-08-24 |               |"
      ],
      "text/plain": [
       "<IPython.core.display.Markdown object>"
      ]
     },
     "metadata": {},
     "output_type": "display_data"
    },
    {
     "data": {
      "text/markdown": [
       "|    | shop   | title                                                                                                                                                                                                                | off   |   price |   discount_price | price_per   | discount_per   |   weight | date       | valid_until   |\n",
       "|---:|:-------|:---------------------------------------------------------------------------------------------------------------------------------------------------------------------------------------------------------------------|:------|--------:|-----------------:|:------------|:---------------|---------:|:-----------|:--------------|\n",
       "|  2 | RIMI   | [Karštai rūkyta skumbrė vakuume RIMI, 1 kg](https://www.rimi.lt/e-parduotuve/lt/produktai/mesa-ir-zuvis-/apdorotos-zuvies-gaminiai/karstai-ir-saltai-rukyta-zuvis/karstai-rukyta-skumbre-vakuume-rimi-1-kg/p/811646) |       |    7.19 |             7.19 | 7.19€/kg    | 7.19€/kg       |        1 | 2025-08-24 |               |\n",
       "|  0 | MAXIMA | [Karštai rūkytos skumbrės OCEAN, išdarinėtos, be galvų, 1 kg](https://barbora.lt/produktai/karstai-rukytos-skumbres-ocean-isdarinetos-be-galvu-1-kg)                                                                 |       |    7.49 |             7.49 | 7.49€/kg    | 7.49€/kg       |        1 | 2025-08-24 |               |\n",
       "|  1 | IKI    | [IKI Karštai rūkyta atlantinė skumbrė išdarinėta be galvos ](https://www.lastmile.lt/chain/IKI/product/IKI-Karstai-rukyta-atlantine-skumbre-isdarineta-be-galvos-263311)                                             |       |    7.99 |             7.99 | 7.99€/kg    | 7.99€/kg       |        1 | 2025-08-24 |               |"
      ],
      "text/plain": [
       "<IPython.core.display.Markdown object>"
      ]
     },
     "metadata": {},
     "output_type": "display_data"
    },
    {
     "data": {
      "text/markdown": [
       "|    | shop   | title                                                                                                                                                                              | off    |   price |   discount_price | price_per   | discount_per   |   weight | date       | valid_until   |\n",
       "|---:|:-------|:-----------------------------------------------------------------------------------------------------------------------------------------------------------------------------------|:-------|--------:|-----------------:|:------------|:---------------|---------:|:-----------|:--------------|\n",
       "|  5 | MAXIMA | [Sviestas SAULĖS PIEVOS, 82 % rieb., 200 g](https://barbora.lt/produktai/sviestas-saules-pievos-82-proc-rieb-200-g)                                                                | -36.1% |    2.49 |             1.59 | 12.45€/kg   | 7.95€/kg       |     0.2  | 2025-08-24 | 2025-08-25    |\n",
       "| 13 | IKI    | [Sviestas 82% rieb. CLEVER, 180 g](https://www.lastmile.lt/chain/IKI/product/Sviestas-82percent-rieb-CLEVER-180-g-252443)                                                          |        |    1.58 |             1.58 | 8.78€/kg    | 8.78€/kg       |     0.21 | 2025-08-24 |               |\n",
       "|  3 | MAXIMA | [Sviestas FARM MILK, 82 % rieb., 180 g](https://barbora.lt/produktai/sviestas-farm-milk-82-proc-rieb-180-g)                                                                        |        |    1.58 |             1.58 | 8.78€/kg    | 8.78€/kg       |     0.18 | 2025-08-24 |               |\n",
       "| 14 | RIMI   | [Sviestas RIMI SMART, 82 % rieb., 180 g](https://www.rimi.lt/e-parduotuve/lt/produktai/pieno-produktai-ir-kiausiniai/sviestas/sviestas/sviestas-rimi-smart-82-rieb-180-g/p/804046) |        |    1.58 |             1.58 | 8.78€/kg    | 8.78€/kg       |     0.18 | 2025-08-24 |               |\n",
       "| 12 | MAXIMA | [Sviestas be laktozės WELL DONE, 82 % rieb., 200 g](https://barbora.lt/produktai/sviestas-be-laktozes-well-done-82-proc-rieb-200-g)                                                |        |    2.49 |             2.49 | 12.45€/kg   | 12.45€/kg      |     0.2  | 2025-08-24 |               |\n",
       "|  4 | MAXIMA | [Sviestas WELL DONE, 82 % rieb., 170 g](https://barbora.lt/produktai/sviestas-well-done-82-proc-rieb-170-g)                                                                        |        |    2.29 |             2.29 | 13.47€/kg   | 13.47€/kg      |     0.17 | 2025-08-24 |               |\n",
       "|  0 | MAXIMA | [ROKIŠKIO sviestas, 82 % rieb., 200 g](https://barbora.lt/produktai/rokiskio-sviestas-82-proc-rieb-200-g)                                                                          |        |    2.79 |             2.79 | 13.95€/kg   | 13.95€/kg      |     0.2  | 2025-08-24 |               |\n",
       "|  6 | MAXIMA | [\tROKIŠKIO NAMINIS sviestas, 82 % rieb. s. m., 500 g](https://barbora.lt/produktai/rokiskio-naminis-sviestas-82-proc-rieb-s-m-500-g)                                                                                                                                                                                    |        |    6.99 |             6.99 | 13.98€/kg   | 13.98€/kg      |     0.5  | 2025-08-24 |               |\n",
       "|  2 | MAXIMA | [ROKIŠKIO NAMINIS sviestas, 82 % rieb., 180 g](https://barbora.lt/produktai/rokiskio-naminis-sviestas-82-proc-rieb-180-g)                                                          |        |    2.69 |             2.69 | 14.94€/kg   | 14.94€/kg      |     0.18 | 2025-08-24 |               |\n",
       "| 10 | MAXIMA | [Saldžios grietinėlės DVARO sviestas, 82 % rieb., 200 g](https://barbora.lt/produktai/saldzios-grietineles-dvaro-sviestas-82-proc-rieb-200-g)                                      |        |    2.99 |             2.99 | 14.95€/kg   | 14.95€/kg      |     0.2  | 2025-08-24 |               |\n",
       "| 11 | MAXIMA | [Saldžios grietinėlės ŽEMAITIJOS sviestas, 82 % rieb., 200 g](https://barbora.lt/produktai/saldzios-grietineles-zemaitijos-sviestas-82-proc-rieb-200-g)                            |        |    2.99 |             2.99 | 14.95€/kg   | 14.95€/kg      |     0.2  | 2025-08-24 |               |\n",
       "|  8 | MAXIMA | [Sviestas IRISH DUBLIN DAIRY, 82 % rieb., 200 g](https://barbora.lt/produktai/sviestas-irish-dublin-dairy-82-proc-rieb-200-g)                                                      |        |    3.09 |             3.09 | 15.45€/kg   | 15.45€/kg      |     0.2  | 2025-08-24 |               |\n",
       "|  9 | MAXIMA | [Saldžios grietinėlės DVARO sviestas, 82 % rieb., 150 g](https://barbora.lt/produktai/saldzios-grietineles-dvaro-sviestas-82-proc-rieb-150-g)                                      |        |    2.35 |             2.35 | 15.67€/kg   | 15.67€/kg      |     0.15 | 2025-08-24 |               |\n",
       "|  1 | MAXIMA | [SMETONIŠKAS sviestas, 82 % rieb., 0.2 kg](https://barbora.lt/produktai/smetoniskas-sviestas-82-proc-rieb-0-2-kg)                                                                  |        |    3.19 |             3.19 | 15.95€/kg   | 15.95€/kg      |     0.2  | 2025-08-24 |               |\n",
       "|  7 | MAXIMA | [Švelniai sūdytas sviestas DVARO, 82 % rieb., 200 g](https://barbora.lt/produktai/svelniai-sudytas-dvaro-sviestas-82-proc-rieb-200-g)                                              |        |    3.19 |             3.19 | 15.95€/kg   | 15.95€/kg      |     0.2  | 2025-08-24 |               |"
      ],
      "text/plain": [
       "<IPython.core.display.Markdown object>"
      ]
     },
     "metadata": {},
     "output_type": "display_data"
    },
    {
     "data": {
      "text/markdown": [
       "|    | shop   | title                                                                                                                                                                           | off   |   price |   discount_price | price_per   | discount_per   |   weight | date       | valid_until   |\n",
       "|---:|:-------|:--------------------------------------------------------------------------------------------------------------------------------------------------------------------------------|:------|--------:|-----------------:|:------------|:---------------|---------:|:-----------|:--------------|\n",
       "|  3 | RIMI   | [Sviestinis moliūgas, 1 kg](https://www.rimi.lt/e-parduotuve/lt/produktai/vaisiai-darzoves-ir-geles/darzoves-ir-grybai/moliugai-ir-cukinijos/sviestinis-moliugas-1-kg/p/212564) |       |    1.75 |             1.75 | 1.75€/kg    | 1.75€/kg       |        1 | 2025-08-24 |               |\n",
       "|  1 | IKI    | [Sviestiniai moliūgai ](https://www.lastmile.lt/chain/IKI/product/Sviestiniai-moliugai-12748)                                                                                   |       |    1.99 |             1.99 | 1.99€/kg    | 1.99€/kg       |        1 | 2025-08-24 |               |\n",
       "|  2 | IKI    | [Moliūgai, sviestiniai, I klasė, kg](https://www.lastmile.lt/chain/PROMO-CashandCarry/product/Moliugai-sviestiniai-I-klase-kg-X309496)                                          |       |    2.01 |             2.01 | 2.01€/kg    | 2.01€/kg       |        1 | 2025-08-24 |               |\n",
       "|  0 | MAXIMA | [Sviestiniai moliūgai, 1 kg](https://barbora.lt/produktai/sviestiniai-moliugai-1-kg)                                                                                            |       |    2.29 |             2.29 | 2.29€/kg    | 2.29€/kg       |        1 | 2025-08-24 |               |"
      ],
      "text/plain": [
       "<IPython.core.display.Markdown object>"
      ]
     },
     "metadata": {},
     "output_type": "display_data"
    },
    {
     "data": {
      "text/markdown": [
       "|    | shop   | title                                                                                | off    |   price |   discount_price | price_per   | discount_per   |   weight | date       | valid_until   |\n",
       "|---:|:-------|:-------------------------------------------------------------------------------------|:-------|--------:|-----------------:|:------------|:---------------|---------:|:-----------|:--------------|\n",
       "|  0 | MAXIMA | [Svogūnai, 1 kg](https://barbora.lt/produktai/svogunai-1-kg-80990)                   | -44.4% |    0.99 |             0.55 | 0.99€/kg    | 0.55€/kg       |        1 | 2025-08-24 | 2025-08-25    |\n",
       "|  1 | IKI    | [Svogūnai CLEVER ](https://www.lastmile.lt/chain/IKI/product/Svogunai-CLEVER-255268) | -40.4% |    0.99 |             0.59 | 0.99€/kg    | 0.59€/kg       |        1 | 2025-08-24 | 2025-08-24    |"
      ],
      "text/plain": [
       "<IPython.core.display.Markdown object>"
      ]
     },
     "metadata": {},
     "output_type": "display_data"
    },
    {
     "data": {
      "text/markdown": [
       "|    | shop   | title                                                                                                                                  | off   |   price |   discount_price | price_per   | discount_per   |   weight | date       | valid_until   |\n",
       "|---:|:-------|:---------------------------------------------------------------------------------------------------------------------------------------|:------|--------:|-----------------:|:------------|:---------------|---------:|:-----------|:--------------|\n",
       "|  2 | IKI    | [Svogūnų laiškai](https://www.lastmile.lt/chain/IKI/product/Svogunu-laiskai-289253)                                                    |       |    8.99 |             8.99 | 8.99€/kg    | 8.99€/kg       |     1    | 2025-08-24 |               |\n",
       "|  3 | IKI    | [Svogūnų laiškai, 100 g](https://www.lastmile.lt/chain/IKI/product/Svogunu-laiskai-100-g-2674)                                         |       |    1.59 |             1.59 | 15.9€/kg    | 15.9€/kg       |     0.1  | 2025-08-24 |               |\n",
       "|  0 | MAXIMA | [Svogūnų laiškai LINKĖJIMAI IŠ KAIMO (fasuoti), 100 g](https://barbora.lt/produktai/svogunu-laiskai-linkejimai-is-kaimo-fasuoti-100-g) |       |    1.59 |             1.59 | 15.9€/kg    | 15.9€/kg       |     0.1  | 2025-08-24 |               |\n",
       "|  4 | IKI    | [Žalumynų rinkinys, 70 g](https://www.lastmile.lt/chain/IKI/product/Zalumynu-rinkinys-70-g-53953)                                      |       |    1.59 |             1.59 | 22.71€/kg   | 22.71€/kg      |     0.07 | 2025-08-24 |               |\n",
       "|  1 | MAXIMA | [Žalumynų rinkinys: svogūnų laiškai ir krapai, 1 vnt.](https://barbora.lt/produktai/zalumynu-rinkinys-svogunu-laiskai-ir-krapai-1-vnt) |       |    1.59 |             1.59 | 22.71€/kg   | 22.71€/kg      |     0.07 | 2025-08-24 |               |"
      ],
      "text/plain": [
       "<IPython.core.display.Markdown object>"
      ]
     },
     "metadata": {},
     "output_type": "display_data"
    },
    {
     "data": {
      "text/markdown": [
       "|    | shop   | title                                                                                                                                                                                                      | off    |   price |   discount_price | price_per   | discount_per   |   weight | date       | valid_until   |\n",
       "|---:|:-------|:-----------------------------------------------------------------------------------------------------------------------------------------------------------------------------------------------------------|:-------|--------:|-----------------:|:------------|:---------------|---------:|:-----------|:--------------|\n",
       "|  0 | MAXIMA | [Lietuviški trumpavaisiai agurkai, 1 kg](https://barbora.lt/produktai/lietuviski-trumpavaisiai-agurkai-1-kg)                                                                                               | -50.2% |    2.99 |             1.49 | 2.99€/kg    | 1.49€/kg       |      1   | 2025-08-24 | 2025-08-25    |\n",
       "|  2 | RIMI   | [Lietuviški trumpavaisiai agurkai, kg](https://www.rimi.lt/e-parduotuve/lt/produktai/vaisiai-darzoves-ir-geles/darzoves-ir-grybai/agurkai/lietuviski-trumpavaisiai-agurkai-kg/p/245039)                    | -46.8% |    2.99 |             1.59 | 2.99€/kg    | 1.59€/kg       |      1   | 2025-08-24 | 2025-08-25    |\n",
       "|  1 | IKI    | [Lietuviški trumpavaisiai agurkai ](https://www.lastmile.lt/chain/IKI/product/Lietuviski-trumpavaisiai-agurkai-2488)                                                                                       |        |    2.99 |             2.99 | 2.99€/kg    | 2.99€/kg       |      1   | 2025-08-24 |               |\n",
       "|  3 | RIMI   | [Lietuviški fasuoti trumpavaisiai agurkai,500g](https://www.rimi.lt/e-parduotuve/lt/produktai/vaisiai-darzoves-ir-geles/darzoves-ir-grybai/agurkai/lietuviski-fasuoti-trumpavaisiai-agurkai-500g/p/946894) |        |    1.89 |             1.89 | 3.78€/kg    | 3.78€/kg       |      0.5 | 2025-08-24 |               |"
      ],
      "text/plain": [
       "<IPython.core.display.Markdown object>"
      ]
     },
     "metadata": {},
     "output_type": "display_data"
    },
    {
     "data": {
      "text/markdown": [
       "|    | shop   | title                                                                                                                                                                                                                                                               | off    |   price |   discount_price | price_per   | discount_per   |   weight | date       | valid_until   |\n",
       "|---:|:-------|:--------------------------------------------------------------------------------------------------------------------------------------------------------------------------------------------------------------------------------------------------------------------|:-------|--------:|-----------------:|:------------|:---------------|---------:|:-----------|:--------------|\n",
       "|  6 | IKI    | [Viščiukų broilerių blauzdelės CLEVER](https://www.lastmile.lt/chain/IKI/product/Visciuku-broileriu-blauzdeles-CLEVER-287406)                                                                                                                                       |        |    3.29 |             3.29 | 3.29€/kg    | 3.29€/kg       |     1.02 | 2025-08-24 |               |\n",
       "|  2 | MAXIMA | [Šviežios viščiukų broilerių blauzdelės WELL DONE, 1 kg](https://barbora.lt/produktai/sviezios-visciuku-broileriu-blauzdeles-well-done-1-kg)                                                                                                                        |        |    3.29 |             3.29 | 3.29€/kg    | 3.29€/kg       |     1    | 2025-08-24 |               |\n",
       "| 10 | RIMI   | [Viščiukų broilerių blauzdelės RIMI,A,1kg](https://www.rimi.lt/e-parduotuve/lt/produktai/mesa-ir-zuvis-/sviezia-paukstiena/vistiena/visciuku-broileriu-blauzdeles-rimi-a-1kg/p/805637)                                                                              |        |    3.89 |             3.89 | 3.89€/kg    | 3.89€/kg       |     1    | 2025-08-24 |               |\n",
       "|  1 | MAXIMA | [Šviežios viščiukų broilerių blauzdelės WELL DONE, 500 g](https://barbora.lt/produktai/sviezios-visciuku-broileriu-blauzdeles-well-done-500-g-04798)                                                                                                                | -13.1% |    2.29 |             1.99 | 4.58€/kg    | 3.98€/kg       |     0.5  | 2025-08-24 | 2025-08-25    |\n",
       "|  0 | MAXIMA | [Viščiukų blauzdelės FIESTA su česnakiniu marinatu ir kmynais, 850 g](https://barbora.lt/produktai/visciuku-blauzdeles-fiesta-su-cesnakiniu-marinatu-ir-kmynais-850-g)                                                                                              | -20.0% |    4.49 |             3.59 | 5.28€/kg    | 4.22€/kg       |     0.85 | 2025-08-24 | 2025-08-25    |\n",
       "|  7 | IKI    | [Šaldytos viščiukų broilerių blauzdelės, ROG](https://www.lastmile.lt/chain/PROMO-CashandCarry/product/Saldytos-visciuku-broileriu-blauzdeles-ROG-V519118)                                                                                                          |        |    4.47 |             4.47 | 4.47€/kg    | 4.47€/kg       |     1    | 2025-08-24 |               |\n",
       "|  4 | MAXIMA | [Švž. broilerių, užaugintų be antibiotikų, blauzdelės be sąn., 500 g](https://barbora.lt/produktai/svz-broileriu-uzaugintu-be-antibiotiku-blauzdeles-be-san-500-g)                                                                                                  | -23.4% |    2.99 |             2.29 | 5.98€/kg    | 4.58€/kg       |     0.5  | 2025-08-24 | 2025-08-25    |\n",
       "|  3 | MAXIMA | [Šv. viščiukų broilerių blauzdelės, užauginta be antibiotikų, 1 kg](https://barbora.lt/produktai/sv-visciuku-broileriu-blauzdeles-uzauginta-be-antibiotiku-1-kg)                                                                                                    |        |    4.69 |             4.69 | 4.69€/kg    | 4.69€/kg       |     1    | 2025-08-24 |               |\n",
       "| 11 | RIMI   | [Švž.viščiukų broilerių blauzd.be ant.RIMI,1kg](https://www.rimi.lt/e-parduotuve/lt/produktai/mesa-ir-zuvis-/sviezia-paukstiena/vistiena/svz-visciuku-broileriu-blauzd-be-ant-rimi-1kg/p/813094)                                                                    |        |    4.79 |             4.79 | 4.79€/kg    | 4.79€/kg       |     1    | 2025-08-24 |               |\n",
       "| 12 | RIMI   | [Višč. br. blauzdelės be sąn. RIMI, A kl. 500g](https://www.rimi.lt/e-parduotuve/lt/produktai/mesa-ir-zuvis-/sviezia-paukstiena/vistiena/visc-br-blauzdeles-be-san-rimi-a-kl-500g/p/816245)                                                                         |        |    2.69 |             2.69 | 5.38€/kg    | 5.38€/kg       |     0.5  | 2025-08-24 |               |\n",
       "|  9 | IKI    | [Šviežios viščiukų broilerių blauzdelės VILNIAUS PAUKŠTYNAS, be sąnario, užauginta be antib., 500g](https://www.lastmile.lt/chain/PROMO-CashandCarry/product/Sviezios-visciuku-broileriu-blauzdeles-VILNIAUS-PAUKSTYNAS-be-sanario-uzauginta-be-antib-500g-V509E58) | -13.1% |    3.59 |             3.12 | 7.18€/kg    | 6.24€/kg       |     0.5  | 2025-08-24 | 2025-09-02    |\n",
       "|  8 | IKI    | [Šviežios viščiukų broilerių blauzdelės VILNIAUS PAUKŠTYNAS, užauginta be antibiotikų, 500 g](https://www.lastmile.lt/chain/PROMO-CashandCarry/product/Sviezios-visciuku-broileriu-blauzdeles-VILNIAUS-PAUKSTYNAS-uzauginta-be-antibiotiku-500-g-V509E57)           |        |    3.47 |             3.47 | 6.94€/kg    | 6.94€/kg       |     0.5  | 2025-08-24 |               |\n",
       "|  5 | IKI    | [Šviežios viščiukų broilerių blauzdelės IKI MĖSA, 500 g](https://www.lastmile.lt/chain/IKI/product/Sviezios-visciuku-broileriu-blauzdeles-IKI-MESA-500-g-253578)                                                                                                    |        |    3.59 |             3.59 | 7.18€/kg    | 7.18€/kg       |     0.52 | 2025-08-24 |               |"
      ],
      "text/plain": [
       "<IPython.core.display.Markdown object>"
      ]
     },
     "metadata": {},
     "output_type": "display_data"
    },
    {
     "data": {
      "text/markdown": [
       "|    | shop   | title                                                                                                                                                                                            | off    |   price |   discount_price | price_per   | discount_per   |   weight | date       | valid_until   |\n",
       "|---:|:-------|:-------------------------------------------------------------------------------------------------------------------------------------------------------------------------------------------------|:-------|--------:|-----------------:|:------------|:---------------|---------:|:-----------|:--------------|\n",
       "|  5 | RIMI   | [Broilerių filė gabaliukai be antibiotikų,500g](https://www.rimi.lt/e-parduotuve/lt/produktai/mesa-ir-zuvis-/sviezia-paukstiena/vistiena/broileriu-file-gabaliukai-be-antibiotiku-500g/p/971720) | -40.1% |    5.49 |             3.29 | 10.98€/kg   | 6.58€/kg       |     0.5  | 2025-08-24 | 2025-08-25    |\n",
       "|  1 | MAXIMA | [Lietuviška šviežia viščiukų broilerių filė WELL DONE, 500 g](https://barbora.lt/produktai/lietuviska-sviezia-visciuku-broileriu-file-well-done-500-g)                                           |        |    3.79 |             3.79 | 7.58€/kg    | 7.58€/kg       |     0.5  | 2025-08-24 |               |\n",
       "|  8 | RIMI   | [Viščiukų krūtinėlių filė RIMI, 500 g](https://www.rimi.lt/e-parduotuve/lt/produktai/mesa-ir-zuvis-/sviezia-paukstiena/vistiena/visciuku-krutineliu-file-rimi-500-g/p/813427)                    |        |    3.99 |             3.99 | 7.98€/kg    | 7.98€/kg       |     0.5  | 2025-08-24 |               |\n",
       "|  9 | RIMI   | [Švž.viščiukų broilerių filė be  ant.RIMI, 1kg](https://www.rimi.lt/e-parduotuve/lt/produktai/mesa-ir-zuvis-/sviezia-paukstiena/vistiena/svz-visciuku-broileriu-file-be-ant-rimi-1kg/p/813103)   |        |    8.49 |             8.49 | 8.49€/kg    | 8.49€/kg       |     1    | 2025-08-24 |               |\n",
       "|  4 | IKI    | [Šviežia viščiukų broilerių filė užauginta be antibiotikų, 500 g](https://www.lastmile.lt/chain/IKI/product/Sviezia-visciuku-broileriu-file-uzauginta-be-antibiotiku-500-g-273358)               | -20.0% |    5.99 |             4.79 | 11.98€/kg   | 9.58€/kg       |     0.52 | 2025-08-24 | 2025-08-24    |\n",
       "|  2 | MAXIMA | [Šviežia viščiukų broilerių filė be antibiotikų WELL DONE, 500 g](https://barbora.lt/produktai/sviez-visciuku-broileriu-file-well-done-uzaug-be-antib-500-g)                                     |        |    4.79 |             4.79 | 9.58€/kg    | 9.58€/kg       |     0.5  | 2025-08-24 |               |\n",
       "|  0 | MAXIMA | [Šviežia viščiukų broilerių, užaugintų be antibiotikų, filė, 500 g](https://barbora.lt/produktai/sviezia-visciuku-broileriu-uzaugintu-be-antibiotiku-file-500-g)                                 |        |    5.49 |             5.49 | 10.98€/kg   | 10.98€/kg      |     0.5  | 2025-08-24 |               |\n",
       "| 10 | RIMI   | [Šviež.viščiuko broilerio filė be antib., 500g](https://www.rimi.lt/e-parduotuve/lt/produktai/mesa-ir-zuvis-/sviezia-paukstiena/vistiena/sviez-visciuko-broilerio-file-be-antib-500g/p/995822)   |        |    5.99 |             5.99 | 11.98€/kg   | 11.98€/kg      |     0.5  | 2025-08-24 |               |\n",
       "|  3 | IKI    | [Šviežia viščiukų broilerių vidinė filė IKI MĖSA, 400 g](https://www.lastmile.lt/chain/IKI/product/Sviezia-visciuku-broileriu-vidine-file-IKI-MESA-400-g-253577)                                 |        |    4.99 |             4.99 | 12.47€/kg   | 12.47€/kg      |     0.42 | 2025-08-24 |               |\n",
       "|  6 | RIMI   | [Broilerių vidinė filė be antibiotikų, 400 g](https://www.rimi.lt/e-parduotuve/lt/produktai/mesa-ir-zuvis-/sviezia-paukstiena/vistiena/broileriu-vidine-file-be-antibiotiku-400-g/p/971721)      |        |    5.29 |             5.29 | 13.22€/kg   | 13.22€/kg      |     0.4  | 2025-08-24 |               |\n",
       "|  7 | RIMI   | [Broilerių vidinė filė be antibiotikų, 400 g](https://www.rimi.lt/e-parduotuve/lt/produktai/mesa-ir-zuvis-/sviezia-paukstiena/vistiena/broileriu-vidine-file-be-antibiotiku-400-g/p/971721)      |        |    5.29 |             5.29 | 13.22€/kg   | 13.22€/kg      |     0.4  | 2025-08-24 |               |"
      ],
      "text/plain": [
       "<IPython.core.display.Markdown object>"
      ]
     },
     "metadata": {},
     "output_type": "display_data"
    },
    {
     "data": {
      "text/markdown": [
       "|    | shop   | title                                                                                    | off    |   price |   discount_price | price_per   | discount_per   |   weight | date       | valid_until   |\n",
       "|---:|:-------|:-----------------------------------------------------------------------------------------|:-------|--------:|-----------------:|:------------|:---------------|---------:|:-----------|:--------------|\n",
       "|  4 | IKI    | [Šilauogės, 500 g.](https://www.lastmile.lt/chain/IKI/product/Silauoges-500-g-254349)    | -47.5% |    5.69 |             2.99 | 11.38€/kg   | 5.98€/kg       |    0.55  | 2025-08-24 | 2025-08-24    |\n",
       "|  5 | IKI    | [Šilauogės, 250 g](https://www.lastmile.lt/chain/IKI/product/Silauoges-250-g-72479)      | -28.7% |    3.49 |             2.49 | 13.96€/kg   | 9.96€/kg       |    0.26  | 2025-08-24 | 2025-08-24    |\n",
       "|  0 | MAXIMA | [Lietuviškos šilauogės, 500 g](https://barbora.lt/produktai/lietuviskos-silauoges-500-g) |        |    5.99 |             5.99 | 11.98€/kg   | 11.98€/kg      |    0.5   | 2025-08-24 |               |\n",
       "|  3 | IKI    | [Šilauogės, 125 g](https://www.lastmile.lt/chain/IKI/product/Silauoges-125-g-2435)       | -20.1% |    1.99 |             1.59 | 15.92€/kg   | 12.72€/kg      |    0.13  | 2025-08-24 | 2025-08-24    |\n",
       "|  2 | MAXIMA | [Šilauogės kibirėlyje, 400 g](https://barbora.lt/produktai/silauoges-kibirelyje-400-g)   |        |    6.99 |             6.99 | 17.48€/kg   | 17.48€/kg      |    0.4   | 2025-08-24 |               |\n",
       "|  1 | MAXIMA | [Šilauogės WELL DONE, 125 g](https://barbora.lt/produktai/silauoges-well-done-125-g)     |        |    2.49 |             2.49 | 19.92€/kg   | 19.92€/kg      |    0.125 | 2025-08-24 |               |"
      ],
      "text/plain": [
       "<IPython.core.display.Markdown object>"
      ]
     },
     "metadata": {},
     "output_type": "display_data"
    },
    {
     "data": {
      "text/markdown": [
       "|    | shop   | title                                                                                                                                                        | off    |   price |   discount_price | price_per   | discount_per   |   weight | date       | valid_until   |\n",
       "|---:|:-------|:-------------------------------------------------------------------------------------------------------------------------------------------------------------|:-------|--------:|-----------------:|:------------|:---------------|---------:|:-----------|:--------------|\n",
       "|  3 | RIMI   | [Špinatai, 200 g](https://www.rimi.lt/e-parduotuve/lt/produktai/vaisiai-darzoves-ir-geles/darzoves-ir-grybai/salotos-ir-ju-misiniai/spinatai-200-g/p/909368) | -23.7% |    1.69 |             1.29 | 8.45€/kg    | 6.45€/kg       |     0.2  | 2025-08-24 | 2025-08-25    |\n",
       "|  2 | IKI    | [Mažieji špinatai IKI, 100 g](https://www.lastmile.lt/chain/IKI/product/Mazieji-spinatai-IKI-100-g-261481)                                                   | -40.3% |    1.49 |             0.89 | 14.9€/kg    | 8.9€/kg        |     0.11 | 2025-08-24 | 2025-08-24    |\n",
       "|  1 | MAXIMA | [Mažieji špinatai WELL DONE, 200 g](https://barbora.lt/produktai/mazieji-spinatai-well-done-200-g)                                                           |        |    1.79 |             1.79 | 8.95€/kg    | 8.95€/kg       |     0.2  | 2025-08-24 |               |\n",
       "|  0 | MAXIMA | [Špinatai WELL DONE, 100 g](https://barbora.lt/produktai/spinatai-well-done-100-g)                                                                           |        |    1.29 |             1.29 | 12.9€/kg    | 12.9€/kg       |     0.1  | 2025-08-24 |               |"
      ],
      "text/plain": [
       "<IPython.core.display.Markdown object>"
      ]
     },
     "metadata": {},
     "output_type": "display_data"
    }
   ],
   "source": [
    "catalogue = collect_catalogue(items=items_onwatch, offline=False)\n",
    "display_catalogue(catalogue)"
   ]
  },
  {
   "cell_type": "markdown",
   "id": "6cdc3b1a-09c7-480a-97f1-c7661aee8ea7",
   "metadata": {},
   "source": [
    "### Items that I hunt for discounts to come"
   ]
  },
  {
   "cell_type": "code",
   "execution_count": null,
   "id": "92741846-0fcc-4fa6-905b-1d136865c61c",
   "metadata": {},
   "outputs": [],
   "source": [
    "catalogue = collect_catalogue(items=items_hunt, offline=True)\n",
    "display_catalogue(catalogue)"
   ]
  },
  {
   "cell_type": "markdown",
   "id": "991b047d-6ead-4c5a-80e2-1a01a6ddbe00",
   "metadata": {},
   "source": [
    "### Items that I need asap"
   ]
  },
  {
   "cell_type": "code",
   "execution_count": null,
   "id": "367dc93a-d5de-4fcc-840f-a21e5b3ac30c",
   "metadata": {},
   "outputs": [],
   "source": [
    "catalogue = collect_catalogue(items=items_asap, offline=True)\n",
    "display_catalogue(catalogue)"
   ]
  },
  {
   "cell_type": "markdown",
   "id": "1f75bf55-668b-498c-bf84-a5d8c1299653",
   "metadata": {},
   "source": [
    "### Notes"
   ]
  },
  {
   "cell_type": "code",
   "execution_count": null,
   "id": "d7395283-ae48-40a4-a6b3-9a3c0964a058",
   "metadata": {},
   "outputs": [],
   "source": [
    "* Pievagrybiai Lidl 4€/kg\n",
    "* Salota (su šaknimis) Lidl 0.89vnt, Maxima 0.99vnt\n",
    "* nektarinai Lidl 2.49€/kg, persikai Maxima 2.49€/kg\n",
    "* duona su saulėgrąžomis Lidl 2.48€/kg\n",
    "* duona su grūdais ir sėklomis Lidl 2.32€/kg\n",
    "* jogurtas\n",
    "* burokėliai šaltibarščiams Lidl 2.06€/kg\n",
    "* majonezas\n",
    "* menkių filė Lidl 7.99€/kg\n",
    "* švežia smulkinta kalakutienos krūtinėlė Lidl 6.98€/kg\n",
    "* šilauogės Lidl 7.49€/kg Maxima 8.38€/kg\n",
    "* braškės Maxima 6.98€/kg\n",
    "\n",
    "* varškė -------------------------------------\n",
    "* braškių uogienė kėdainių\n",
    "* pjaustyta kiauliena guliašui Maxima 6.98€/kg\n",
    "* mėsai ar nuolaida?\n",
    "* colgate\n",
    "* kiaulienos sprandinė vakumuota 3.99 iš 5.99\n",
    "* namų kvapai"
   ]
  },
  {
   "cell_type": "markdown",
   "id": "a2088e63-0d60-4cdc-9e91-efbc30a2f6ba",
   "metadata": {},
   "source": [
    "## Recipe testing"
   ]
  },
  {
   "cell_type": "code",
   "execution_count": 8,
   "id": "c731cbe9-2f9b-416d-b8ac-887d48e1228f",
   "metadata": {},
   "outputs": [
    {
     "name": "stdout",
     "output_type": "stream",
     "text": [
      "Please add urls for items: ['Aliejus', 'Pipirai']\n",
      "RIMI warning: (no price) https://www.rimi.lt/e-parduotuve/lt/produktai/mesa-ir-zuvis-/sviezia-paukstiena/vistiena/broileriu-blauzdeles-be-san-be-ant-vp-500g/p/971711\n",
      "Done\n",
      "RIMI warning: (no price) https://www.rimi.lt/e-parduotuve/lt/produktai/vaisiai-darzoves-ir-geles/darzoves-ir-grybai/kopustai/lietuviski-sviezi-baltaguziai-kopustai-kg/p/244676\n",
      "Done\n",
      "Done = BULVĖS ...  \n",
      "Done = BUROKĖLIAI ...  \n",
      "Done = MORKOS ...  \n",
      "Done = SVOGŪNAI ...  \n",
      "RIMI warning: (no price) https://www.rimi.lt/e-parduotuve/lt/produktai/vaisiai-darzoves-ir-geles/darzoves-ir-grybai/paprikos/raudonos-saldziosios-paprikos-70-mm-1kl-1kg/p/269167\n",
      "Done\n",
      "Done = POMIDORŲ PASTA ...  \n",
      "Done = LAURŲ LAPAI ...  \n",
      "Done = DRUSKA ...  \n"
     ]
    },
    {
     "data": {
      "text/html": [
       "<div>\n",
       "<style scoped>\n",
       "    .dataframe tbody tr th:only-of-type {\n",
       "        vertical-align: middle;\n",
       "    }\n",
       "\n",
       "    .dataframe tbody tr th {\n",
       "        vertical-align: top;\n",
       "    }\n",
       "\n",
       "    .dataframe thead th {\n",
       "        text-align: right;\n",
       "    }\n",
       "</style>\n",
       "<table border=\"1\" class=\"dataframe\">\n",
       "  <thead>\n",
       "    <tr style=\"text-align: right;\">\n",
       "      <th></th>\n",
       "      <th>amount</th>\n",
       "      <th>units</th>\n",
       "      <th>name</th>\n",
       "      <th>price</th>\n",
       "      <th>discount_price</th>\n",
       "      <th>discount</th>\n",
       "    </tr>\n",
       "  </thead>\n",
       "  <tbody>\n",
       "    <tr>\n",
       "      <th>0</th>\n",
       "      <td>1.00</td>\n",
       "      <td>kg</td>\n",
       "      <td>Viščiukų blauzdelės</td>\n",
       "      <td>3.29</td>\n",
       "      <td>3.29</td>\n",
       "      <td>0.00</td>\n",
       "    </tr>\n",
       "    <tr>\n",
       "      <th>1</th>\n",
       "      <td>0.30</td>\n",
       "      <td>kg</td>\n",
       "      <td>Kopūstai</td>\n",
       "      <td>0.36</td>\n",
       "      <td>0.18</td>\n",
       "      <td>0.18</td>\n",
       "    </tr>\n",
       "    <tr>\n",
       "      <th>2</th>\n",
       "      <td>0.20</td>\n",
       "      <td>kg</td>\n",
       "      <td>Bulvės</td>\n",
       "      <td>0.11</td>\n",
       "      <td>0.07</td>\n",
       "      <td>0.04</td>\n",
       "    </tr>\n",
       "    <tr>\n",
       "      <th>3</th>\n",
       "      <td>0.20</td>\n",
       "      <td>kg</td>\n",
       "      <td>Burokėliai</td>\n",
       "      <td>0.16</td>\n",
       "      <td>0.16</td>\n",
       "      <td>0.00</td>\n",
       "    </tr>\n",
       "    <tr>\n",
       "      <th>4</th>\n",
       "      <td>0.12</td>\n",
       "      <td>kg</td>\n",
       "      <td>Morkos</td>\n",
       "      <td>0.08</td>\n",
       "      <td>0.07</td>\n",
       "      <td>0.01</td>\n",
       "    </tr>\n",
       "    <tr>\n",
       "      <th>5</th>\n",
       "      <td>0.20</td>\n",
       "      <td>kg</td>\n",
       "      <td>Svogūnai</td>\n",
       "      <td>0.17</td>\n",
       "      <td>0.11</td>\n",
       "      <td>0.06</td>\n",
       "    </tr>\n",
       "    <tr>\n",
       "      <th>6</th>\n",
       "      <td>0.20</td>\n",
       "      <td>kg</td>\n",
       "      <td>Paprikos</td>\n",
       "      <td>0.57</td>\n",
       "      <td>0.42</td>\n",
       "      <td>0.15</td>\n",
       "    </tr>\n",
       "    <tr>\n",
       "      <th>7</th>\n",
       "      <td>0.02</td>\n",
       "      <td>kg</td>\n",
       "      <td>Pomidorų pasta</td>\n",
       "      <td>0.07</td>\n",
       "      <td>0.07</td>\n",
       "      <td>0.00</td>\n",
       "    </tr>\n",
       "    <tr>\n",
       "      <th>8</th>\n",
       "      <td>NaN</td>\n",
       "      <td>None</td>\n",
       "      <td>Aliejus</td>\n",
       "      <td>NaN</td>\n",
       "      <td>NaN</td>\n",
       "      <td>NaN</td>\n",
       "    </tr>\n",
       "    <tr>\n",
       "      <th>9</th>\n",
       "      <td>NaN</td>\n",
       "      <td>None</td>\n",
       "      <td>Laurų lapai</td>\n",
       "      <td>NaN</td>\n",
       "      <td>NaN</td>\n",
       "      <td>NaN</td>\n",
       "    </tr>\n",
       "    <tr>\n",
       "      <th>10</th>\n",
       "      <td>NaN</td>\n",
       "      <td>None</td>\n",
       "      <td>Druska</td>\n",
       "      <td>NaN</td>\n",
       "      <td>NaN</td>\n",
       "      <td>NaN</td>\n",
       "    </tr>\n",
       "    <tr>\n",
       "      <th>11</th>\n",
       "      <td>NaN</td>\n",
       "      <td>None</td>\n",
       "      <td>Pipirai</td>\n",
       "      <td>NaN</td>\n",
       "      <td>NaN</td>\n",
       "      <td>NaN</td>\n",
       "    </tr>\n",
       "  </tbody>\n",
       "</table>\n",
       "</div>"
      ],
      "text/plain": [
       "    amount units                 name  price  discount_price  discount\n",
       "0     1.00    kg  Viščiukų blauzdelės   3.29            3.29      0.00\n",
       "1     0.30    kg             Kopūstai   0.36            0.18      0.18\n",
       "2     0.20    kg               Bulvės   0.11            0.07      0.04\n",
       "3     0.20    kg           Burokėliai   0.16            0.16      0.00\n",
       "4     0.12    kg               Morkos   0.08            0.07      0.01\n",
       "5     0.20    kg             Svogūnai   0.17            0.11      0.06\n",
       "6     0.20    kg             Paprikos   0.57            0.42      0.15\n",
       "7     0.02    kg       Pomidorų pasta   0.07            0.07      0.00\n",
       "8      NaN  None              Aliejus    NaN             NaN       NaN\n",
       "9      NaN  None          Laurų lapai    NaN             NaN       NaN\n",
       "10     NaN  None               Druska    NaN             NaN       NaN\n",
       "11     NaN  None              Pipirai    NaN             NaN       NaN"
      ]
     },
     "metadata": {},
     "output_type": "display_data"
    },
    {
     "name": "stdout",
     "output_type": "stream",
     "text": [
      "* 1 kg vištienos\n",
      "* 300 g kopūstų\n",
      "* 200 g bulvių\n",
      "* 2 burokėliai\n",
      "* 1 morka\n",
      "* 1 svogūnas\n",
      "* 1 paprika\n",
      "* 1 šaukštas pomidorų pastos\n",
      "* aliejus\n",
      "* laurų lapai\n",
      "* druska\n",
      "* pipirai\n",
      "KAINA: 4.81\n",
      "NUOLAIDOS: 0.44\n",
      "SVORIS: 2.24\n"
     ]
    }
   ],
   "source": [
    "# update these files:\n",
    "# recipes -> Your Recipe.txt\n",
    "# ..\\cooking -> recipes -> Your Recipe.ipynb\n",
    "# items.py\n",
    "\n",
    "recipe_data = parse_recipe(r'recipes\\Barščiai.txt')\n",
    "df = investigate_recipe(recipe_data, offline=False)\n",
    "display(df)\n",
    "\n",
    "for ingredient in recipe_data:\n",
    "    print(f'* {ingredient[\"header\"]}')\n",
    "    \n",
    "print('KAINA:', round(df['price'].sum(), 2))\n",
    "print('NUOLAIDOS:', round(df['discount'].sum(), 2))\n",
    "print('SVORIS:', round(df.loc[df['units'].isin(['kg', 'l']), 'amount'].sum(), 2))"
   ]
  }
 ],
 "metadata": {
  "kernelspec": {
   "display_name": "Python 3 (ipykernel)",
   "language": "python",
   "name": "python3"
  },
  "language_info": {
   "codemirror_mode": {
    "name": "ipython",
    "version": 3
   },
   "file_extension": ".py",
   "mimetype": "text/x-python",
   "name": "python",
   "nbconvert_exporter": "python",
   "pygments_lexer": "ipython3",
   "version": "3.12.7"
  }
 },
 "nbformat": 4,
 "nbformat_minor": 5
}
