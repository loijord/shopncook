{
 "cells": [
  {
   "cell_type": "code",
   "execution_count": 1,
   "id": "92115880-60a9-445f-84c0-5ea9eb29b3a7",
   "metadata": {},
   "outputs": [
    {
     "name": "stdout",
     "output_type": "stream",
     "text": [
      "onwatch: ['Avietės', 'Aviečių uogienė', 'Avižų gėrimas', 'Bananai', 'Bulvės', 'Burokėliai', 'Druska', 'Džiovinti krapai', 'Grietinė', 'Imbieras', 'Karis', 'Kefyras', 'Kiaušiniai', 'Kokosų gėrimas', 'Kopūstai', 'Laurų lapai', 'Maltos aitriosios paprikos', 'Morkos', 'Paprikos', 'Pienas UAT', 'Pomidorų pasta', 'Rausvieji svogūnai', 'Ridikėliai', 'Skumbrė', 'Sviestas', 'Sviestinis moliūgas', 'Svogūnai', 'Svogūnų laiškai', 'Trumpavaisiai agurkai', 'Viščiukų blauzdelės', 'Viščiukų filė', 'Šilauogės', 'Špinatai']\n",
      "\n",
      "own: ['Bulvės', 'Druska', 'Grietinė', 'Imbieras', 'Karis', 'Kefyras', 'Kokosų gėrimas', 'Kopūstai', 'Laurų lapai', 'Maltos aitriosios paprikos', 'Morkos', 'Paprikos', 'Pienas UAT', 'Pomidorų pasta', 'Rausvieji svogūnai', 'Ridikėliai', 'Sviestas', 'Sviestinis moliūgas', 'Svogūnai', 'Trumpavaisiai agurkai', 'Špinatai']\n",
      "\n",
      "hunt: ['Avietės', 'Aviečių uogienė', 'Avižų gėrimas', 'Bananai', 'Bulvės', 'Burokėliai', 'Džiovinti krapai', 'Grietinė', 'Kiaušiniai', 'Kokosų gėrimas', 'Morkos', 'Paprikos', 'Pomidorų pasta', 'Ridikėliai', 'Skumbrė', 'Sviestas', 'Svogūnų laiškai', 'Viščiukų blauzdelės', 'Viščiukų filė', 'Šilauogės', 'Špinatai']\n",
      "\n",
      "asap: ['Aviečių uogienė', 'Bananai', 'Bulvės', 'Burokėliai', 'Džiovinti krapai', 'Svogūnų laiškai']\n",
      "\n"
     ]
    }
   ],
   "source": [
    "from items import candidates\n",
    "import pandas as pd\n",
    "import os\n",
    "from shopscraping import scrape, get_view, balance_units\n",
    "\n",
    "def track_item(item, offline=True, sorter=None):\n",
    "    try:\n",
    "        candidates\n",
    "    except NameError:\n",
    "        from items import candidates\n",
    "        \n",
    "    if not(offline):\n",
    "        print(f'Tracking urls of item = {item.upper()} ...', end=' ')\n",
    "        \n",
    "    df = scrape(candidates[item], offline=offline, sorter=sorter)\n",
    "    df = balance_units(df)\n",
    "    \n",
    "    if not(offline):\n",
    "        print('Done')\n",
    "        \n",
    "    if sorter: \n",
    "        df = df.sort_values(**sorter)\n",
    "    return df\n",
    "\n",
    "def collect_catalogue(items=[], offline=False, balance_weights=True,\n",
    "                      sorter={'by':['comparative_unit_discount_price', 'shop', 'discount'],\n",
    "                              'ascending': [True, True, False]}):\n",
    "    \n",
    "    '''Return dictionary of scrape results for multiple items \n",
    "    Offline parameter is passed into scrape method \n",
    "    Input: list of items\n",
    "    Output: dict\n",
    "    ''' \n",
    "    \n",
    "    try:\n",
    "        candidates\n",
    "    except NameError:\n",
    "        from items import candidates\n",
    "        \n",
    "    item_dfs = dict()\n",
    "    present_items = [item for item in items if item in candidates]\n",
    "    missing_items = [item for item in items if item not in candidates]\n",
    "    \n",
    "    if missing_items:\n",
    "        print('Please add urls for items:', missing_items)\n",
    "\n",
    "    for item in present_items:\n",
    "        item_dfs[item] = track_item(item, offline=offline, sorter=sorter)\n",
    "        \n",
    "    return item_dfs\n",
    "\n",
    "fridge_dir, fridge_file = 'fridge', 'fridge.csv'\n",
    "fridge_file_path = os.path.join(fridge_dir, fridge_file)\n",
    "\n",
    "if fridge_file in os.listdir(fridge_dir):\n",
    "    df = pd.read_csv(fridge_file_path)\n",
    "    \n",
    "    items_onwatch = sorted(candidates.keys())\n",
    "    items_own = df['items'].loc[df['own']==1].tolist()\n",
    "    items_hunt = df['items'].loc[df['hunt']==1].tolist()\n",
    "    items_asap = df['items'].loc[df['asap']==1].tolist()\n",
    "    \n",
    "    print(f'onwatch:', items_onwatch, end='\\n\\n')\n",
    "    print(f'own:', items_own, end='\\n\\n')\n",
    "    print(f'hunt:', items_hunt, end='\\n\\n')\n",
    "    print(f'asap:', items_asap, end='\\n\\n')\n",
    "\n",
    "else:\n",
    "    items = sorted(candidates.keys())\n",
    "    own = [0 for n in items]\n",
    "    hunt = [0 for n in items]\n",
    "    asap = [0 for n in items]\n",
    "    df = pd.DataFrame(dict(items=items, own=own, hunt=hunt, asap=asap))\n",
    "    df.to_csv(fridge_file_path, index=False)"
   ]
  },
  {
   "cell_type": "markdown",
   "id": "98b59b47-ae74-424b-9190-fc4ad6454e6f",
   "metadata": {},
   "source": [
    "## Check and update your fridge\n",
    "Select items that you own in your fridge, want to buy asap or just hunting for a good offer. Your choice will be instantly recorded in a file `fridge\\fridge.csv`"
   ]
  },
  {
   "cell_type": "code",
   "execution_count": 2,
   "id": "c0ea52d3-beed-44f1-bd80-621e5e6a09bd",
   "metadata": {},
   "outputs": [
    {
     "name": "stdout",
     "output_type": "stream",
     "text": [
      "Dash app running on http://127.0.0.1:8050/\n"
     ]
    }
   ],
   "source": [
    "import dash\n",
    "from dash import dcc, html, Input, Output, State\n",
    "\n",
    "# Initialize the Dash app\n",
    "app = dash.Dash(__name__)\n",
    "\n",
    "items = df['items']\n",
    "columns = ['own', 'hunt', 'asap']\n",
    "\n",
    "def mapper_th(name):\n",
    "    return html.Th(name)\n",
    "\n",
    "def mapper_td(name, i):\n",
    "    return html.Td(dcc.Checklist(\n",
    "                id={'type': f'check_{name}', 'index': i},\n",
    "                options=[{'label': '', 'value': 'checked'}],\n",
    "                value=['checked'] if df[name][i] else [],\n",
    "                inline=True))\n",
    "\n",
    "# Layout of the app\n",
    "app.layout = html.Div([\n",
    "    html.Table([html.Tr([html.Th(\"item\"), *map(mapper_th, columns)]),\n",
    "               *[html.Tr([html.Td(item), *map(lambda c: mapper_td(c, i), columns)]) \n",
    "                 for i, item in enumerate(items)]]),\n",
    "    html.Div(id='output')\n",
    "])\n",
    "\n",
    "# Callback to handle checkbox updates\n",
    "@app.callback(\n",
    "    Output('output', 'children'),\n",
    "    [Input({'type': 'check_own', 'index': dash.dependencies.ALL}, 'value'),\n",
    "     Input({'type': 'check_hunt', 'index': dash.dependencies.ALL}, 'value'),\n",
    "     Input({'type': 'check_asap', 'index': dash.dependencies.ALL}, 'value')]\n",
    ")\n",
    "def update_checks(own_values, hunt_values, asap_values):\n",
    "    updated_own = [1 if v else 0 for v in own_values]\n",
    "    updated_hunt = [1 if v else 0 for v in hunt_values]\n",
    "    updated_asap = [1 if v else 0 for v in asap_values]\n",
    "    \n",
    "    #if item is needed asap that means it's also needed for hunt\n",
    "    #but too stupid to update checkmark, sorry...\n",
    "    #updated_hunt = [v1 if v2==0 else 1 for v1, v2 in zip(updated_hunt, updated_asap)]\n",
    "    \n",
    "    df['own'], df['hunt'], df['asap'] = updated_own, updated_hunt, updated_asap\n",
    "    df.to_csv(fridge_file_path, index=False)\n",
    "    \n",
    "\n",
    "# Run the app\n",
    "if __name__ == '__main__':\n",
    "    app.run(debug=True, jupyter_mode=\"external\")"
   ]
  },
  {
   "cell_type": "markdown",
   "id": "af8b9ded-2076-4411-8942-d7676298ba02",
   "metadata": {},
   "source": [
    "## Run scan of every item on watch"
   ]
  },
  {
   "cell_type": "code",
   "execution_count": null,
   "id": "30afb6d9-8d4d-44ce-9268-9b042084cfb3",
   "metadata": {},
   "outputs": [],
   "source": [
    "collect_catalogue(items=items_onwatch, offline=False)"
   ]
  },
  {
   "cell_type": "markdown",
   "id": "352351d0-102d-4985-a735-f05fd96c6b72",
   "metadata": {},
   "source": [
    "## Collect your cart\n",
    "### Review what's on stock (in jupyter view)\n",
    "Record initial preview of `hunt list`"
   ]
  },
  {
   "cell_type": "code",
   "execution_count": 17,
   "id": "7a2916b8-b0a7-43fd-81eb-155a376a3d45",
   "metadata": {},
   "outputs": [],
   "source": [
    "#items = ('Mangų kisielius', 'Druska', 'Burokėliai', 'Obuolių pudingas')\n",
    "catalogue = collect_catalogue(items=items_hunt, offline=True)\n",
    "preview_mds = []\n",
    "for item in catalogue:\n",
    "    df = get_view(catalogue[item])\n",
    "    preview_mds.append(f'## {item}\\n{df.to_markdown()}')\n",
    "preview = '\\n'.join(preview_mds)\n",
    "with open('hunt.md', 'w', encoding='utf-8') as f:\n",
    "    f.write(preview)"
   ]
  },
  {
   "cell_type": "markdown",
   "id": "09685211-9481-4a89-8ee0-10158010c65b",
   "metadata": {},
   "source": [
    "* Run [hunt_it.ipynb](hunt_it.ipynb) to preview recording of `hunt list` ready to push on GitHub"
   ]
  },
  {
   "cell_type": "markdown",
   "id": "becd6297-d97d-40e3-93e1-01a156fae4b6",
   "metadata": {},
   "source": [
    "### Collect what to look for in a shop\n",
    "Choose from `hunt list` what you want to collect"
   ]
  },
  {
   "cell_type": "code",
   "execution_count": 19,
   "id": "f5c95d64-bb98-4311-b754-0db9bab5f142",
   "metadata": {},
   "outputs": [
    {
     "name": "stdout",
     "output_type": "stream",
     "text": [
      "Dash app running on http://127.0.0.1:8050/\n"
     ]
    }
   ],
   "source": [
    "import dash\n",
    "from dash import Dash, dash_table, html, Output, Input, callback\n",
    "from itertools import chain\n",
    "\n",
    "catalogue = collect_catalogue(items=items_asap, offline=True)\n",
    "\n",
    "app = Dash()\n",
    "def to_table(df, item):\n",
    "    columns = []\n",
    "    for i, name in enumerate(df.columns):\n",
    "        if name in ('title', 'image'):\n",
    "            columns.append({\"name\": name, \"id\": name, 'presentation': 'markdown'})\n",
    "        else:\n",
    "            columns.append({\"name\": name, \"id\": name, 'presentation': 'markdown'})\n",
    "    return dash_table.DataTable(data = df.to_dict('records'), row_selectable=\"multi\", selected_rows=[],\n",
    "                                columns = columns, id=f'table-{item}', \n",
    "                                markdown_options={\"html\": True},\n",
    "                                fill_width=False)\n",
    "\n",
    "\n",
    "app.layout = html.Div([*list(chain(*[[html.Td(item), to_table(get_view(catalogue[item]), item)] for item in items_asap])),\n",
    "                       html.Div(id='selected-rows-output')])\n",
    "\n",
    "#app.layout = html.Div([to_table(df), html.Div(id='selected-rows-output')])\n",
    "\n",
    "# Callback to handle row selection\n",
    "@app.callback(\n",
    "    Output('selected-rows-output', 'children'),\n",
    "    [Input(f'table-{item}', 'selected_rows') for item in items_asap]\n",
    ")\n",
    "def update_output(*selected_rows):    \n",
    "    # Retrieve the IDs of the selected rows\n",
    "    selection = {items_asap[i]: val for i, val in enumerate(selected_rows)}\n",
    "    df = pd.concat([catalogue[item].iloc[idx] for item, idx in selection.items()])\n",
    "    df.to_csv('cart.csv', index=False)\n",
    "    return str(selection)\n",
    "    \n",
    "if __name__ == '__main__':\n",
    "    app.run(debug=True, jupyter_mode=\"external\")"
   ]
  },
  {
   "cell_type": "markdown",
   "id": "c64fe166-ed8e-41be-8915-f94fca45bee3",
   "metadata": {},
   "source": [
    "Record your choice in a `collect list`"
   ]
  },
  {
   "cell_type": "code",
   "execution_count": 25,
   "id": "51c06aaa-297e-422a-9f1f-80ba434a4d57",
   "metadata": {},
   "outputs": [],
   "source": [
    "df = pd.read_csv('cart.csv')\n",
    "sorter = {'by':['shop'], 'ascending': [True]}\n",
    "df = df.sort_values(**sorter)\n",
    "preview = get_view(df).to_markdown()\n",
    "with open('collect.md', 'w', encoding='utf-8') as f:\n",
    "    f.write(preview)"
   ]
  },
  {
   "cell_type": "markdown",
   "id": "c9b4c7c8-7508-48f5-8ca4-fc71fea74c71",
   "metadata": {},
   "source": [
    "* Run [collect_it.ipynb](collect_it.ipynb) to preview recording of `collect list` ready to push on GitHub"
   ]
  },
  {
   "cell_type": "markdown",
   "id": "77c2ca25-9ce9-45c2-a2c6-cb135ff68cf8",
   "metadata": {},
   "source": [
    "### Push both `hunt list` and `collect list`\n",
    "You'll need them in shop you visit"
   ]
  },
  {
   "cell_type": "code",
   "execution_count": null,
   "id": "1fa61e00-4046-4830-9819-76d91b518e65",
   "metadata": {},
   "outputs": [],
   "source": [
    "from items import candidates\n",
    "from shopscraping import scrape, get_view\n",
    "from IPython.display import Markdown, display\n",
    "import os\n",
    "import pandas as pd\n",
    "from recipe_formatter import normalise_recipe, parse_recipe\n",
    "\n",
    "def investigate_recipe(recipe_data, offline=True):\n",
    "    recipe_df = normalise_recipe(recipe_data)\n",
    "    #display(recipe_df)\n",
    "    catalogue = collect_catalogue(items=recipe_df['name'], offline=offline)\n",
    "    if catalogue:\n",
    "        prices, discount_prices, discounts = [], [], []\n",
    "        for weight, unit, title in recipe_df.values:\n",
    "            price = None\n",
    "            discount_price = None\n",
    "            discount = None\n",
    "            \n",
    "            if title not in catalogue:\n",
    "                pass\n",
    "                #print('Please update candidate file with:', title)\n",
    "\n",
    "            elif unit is None:\n",
    "                pass\n",
    "                \n",
    "            elif not(all(catalogue[title]['comparative_unit'] == unit)):\n",
    "                print(f'Inconsistent weight units: [{title}] is in {unit} but catalogue contains:', \n",
    "                      catalogue[title]['comparative_unit'].tolist())\n",
    "            else:\n",
    "                #display_items(catalogue[title])\n",
    "                price = weight * catalogue[title]['comparative_unit_price'].min()\n",
    "                discount_price = weight * catalogue[title]['comparative_unit_discount_price'].min()\n",
    "                discount = price - discount_price\n",
    "            prices.append(price)\n",
    "            discount_prices.append(discount_price)\n",
    "            discounts.append(discount)\n",
    "            \n",
    "        recipe_df['price'] = [round(n, 2) if n else n for n in prices]\n",
    "        recipe_df['discount_price'] = [round(n, 2) if n else n for n in discount_prices]\n",
    "        recipe_df['discount'] = [round(n, 2) if n else n for n in discounts]\n",
    "        return recipe_df"
   ]
  }
 ],
 "metadata": {
  "kernelspec": {
   "display_name": "Python 3 (ipykernel)",
   "language": "python",
   "name": "python3"
  },
  "language_info": {
   "codemirror_mode": {
    "name": "ipython",
    "version": 3
   },
   "file_extension": ".py",
   "mimetype": "text/x-python",
   "name": "python",
   "nbconvert_exporter": "python",
   "pygments_lexer": "ipython3",
   "version": "3.12.7"
  }
 },
 "nbformat": 4,
 "nbformat_minor": 5
}
