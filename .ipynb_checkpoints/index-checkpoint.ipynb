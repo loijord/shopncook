{
 "cells": [
  {
   "cell_type": "markdown",
   "id": "ef7d4d4c-1d71-41d4-b401-8da283b11854",
   "metadata": {},
   "source": [
    "Tai yra projektas, kurio tikslas yra padėti pirkėjams kuo pigiau įsigyti norimų maisto prekių parduotuvėse bei efektyviai įvertinti, kokios yra namuose gaminamo maisto laiko ir pinigų sąnaudos. Gal būt net gi atrasti naujų neišbandytų maisto produktų ar receptų. \n",
    "Pirkinių išlaidoms apskaičiuoti yra naudojamas webscrapping, t.y. automatinis būtinų duomenų, tokių kaip kaina, svoris ir kaina už svorio vienetą ištraukimas vien iš puslapio url. Kainos skenuojamos iš Maximos, Iki ir Rimi prekybos centrų e-parduotuvių. Iki e-parduotuvės domenas `https://www.lastmile.lt` leidžia visus duomenis ištraukti iš serverio paprastomis užklausomis, tuo tarpu Maximos ir Rimi domenai yra apsaugoti ir norint prieiti prie duomenų reikia inicijuoti prisijungimą per naršyklę (naudoju chrome driver). \n",
    "\n",
    "Svarbiausi projekto failai yra šie:\n",
    "* [`shopscraping.py`](shopscraping.py) - čia parašyti didžioji dalis kodų (su doktestais), skirtų ištraukti, apdoroti ir vaizdžiai pateikti duomenis\n",
    "* [`dashing.ipynb`](dashing.ipynb) - čia surašiau instrukcijas, kuriomis naudojuosi taupiam apsipirkinėjimui, susidedančiam iš kelių etapų:\n",
    "    * Patikrinti, kurių produktų skubiai reikia, ir kurių produktų akcijas galima pamedžioti ilgesnį laiką\n",
    "    * Kiekvienam iš reikalingų produktų palyginti prekių kainas skirtinguose prekybos centruose ir pagal jas nuspręsti, ar jis reikalingas ir kokių tiksliai šio produkto prekių apsimoka ieškoti parduotuvėje.\n",
    "    * Susidaryti reikiamų produktų sąrašą, kad atėjus į prekybos centrą būtų galima greitai patikrinti, ar galima juos rasti ir neradus greitas nustatyti, kur labiausiai apsimoka ieškoti\n",
    "* [`hunt_it.ipynb`](hunt_it.html) ir [`collect_it.ipynb`](collect_it.html) - detalus reguliariai atnaujinamas rūpimų produktų kainų palyginimas ir iš jų išsirinktų produktų sąrašas. Atnaujinu kiekvieną kartą prieš einant apsipirkti.\n",
    "* [`items.py`](items.py) - pagrindinis duomenų failas, į kurį susirašau visų kiekvieno produkto prekių puslapius, įtrauktus į reguliarų tikrinimą\n",
    "* [`product_history.csv`](product_history.csv) - failas, į kurį yra įrašoma kiekvienos reguliariai tikrinamos prekės kainos istorija\n",
    "\n",
    "Kiti failai kol kas ne tokie aktualūs"
   ]
  },
  {
   "cell_type": "code",
   "execution_count": null,
   "id": "77e02ebf-83bb-4563-9bb4-fc96b65c31d4",
   "metadata": {},
   "outputs": [],
   "source": []
  }
 ],
 "metadata": {
  "kernelspec": {
   "display_name": "Python 3 (ipykernel)",
   "language": "python",
   "name": "python3"
  },
  "language_info": {
   "codemirror_mode": {
    "name": "ipython",
    "version": 3
   },
   "file_extension": ".py",
   "mimetype": "text/x-python",
   "name": "python",
   "nbconvert_exporter": "python",
   "pygments_lexer": "ipython3",
   "version": "3.12.7"
  }
 },
 "nbformat": 4,
 "nbformat_minor": 5
}
