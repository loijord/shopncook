{
 "cells": [
  {
   "cell_type": "code",
   "execution_count": 2,
   "id": "26d8d1b3-027e-4a13-a4a6-48f39cfa9338",
   "metadata": {},
   "outputs": [
    {
     "data": {
      "text/markdown": [
       "|    | shop   | image                                                                                                                                                                                                                                                                           | title                                                                                                                                                                                                                    | price                                                        | price_per                                                          | off    |   weight | date       | valid_until   |\n",
       "|---:|:-------|:--------------------------------------------------------------------------------------------------------------------------------------------------------------------------------------------------------------------------------------------------------------------------------|:-------------------------------------------------------------------------------------------------------------------------------------------------------------------------------------------------------------------------|:-------------------------------------------------------------|:-------------------------------------------------------------------|:-------|---------:|:-----------|:--------------|\n",
       "|  0 | MAXIMA | <img src=\"https://cdn.barbora.lt/products/a1dda9b4-1afd-4589-b2eb-27ad1ee9e5ba_s.png\" width=100 height=60 />                                                                                                                                                                    | <a href=\"https://barbora.lt/produktai/avieciu-uogiene-skanove-900-g\"><table width=\"100\"><td> Aviečių uogienė SKANOVĖ, 900 g </td></table></a>                                                                            | 5.19€                                                        | 5.77€/kg                                                           |        |    0.899 | 2025-08-30 | nan           |\n",
       "|  1 | IKI    | <img src=\"https://firebasestorage.googleapis.com/v0/b/lastmile-ui/o/import%2Fphotos%2Fconverted%2Fproduct%2FphotoUrl%2FOiGzdqIuls86njWsPYmw_V26P778_uF3DptJQvjXHqmno4Mal_mGXuPiCUhvf2UKrrSfiJ.webp?alt=media&token=f6eda434-6c59-487f-a786-a6076f20c162\" width=100 height=60 /> | <a href=\"https://www.lastmile.lt/chain/PROMO-CashandCarry/product/MOCIUTES-avieciu-uogiene-600-g-V26P778\"><table width=\"100\"><td> MOČIUTĖS aviečių uogienė, 600 g </td></table></a>                                      | 5.75€                                                        | 9.58€/kg                                                           |        |    0.6   | 2025-08-24 | nan           |\n",
       "|  2 | RIMI   | <img src=\"https://rimibaltic-res.cloudinary.com/image/upload/b_white,c_limit,dpr_auto,f_auto,q_auto:low,w_auto/d_ecommerce:backend-fallback.png/MAT_270939_KGM_LT\" width=100 height=60 />                                                                                       | <a href=\"https://www.rimi.lt/e-parduotuve/lt/produktai/vaisiai-darzoves-ir-geles/vaisiai-ir-uogos/bananai/bananai-cavendish-20-cm-1kg/p/270939\"><table width=\"100\"><td> Bananai Cavendish, 20+cm , 1kg </td></table></a> | 1.39€                                                        | 1.39€/kg                                                           |        |    1     | 2025-08-24 | nan           |\n",
       "|  3 | MAXIMA | <img src=\"https://cdn.barbora.lt/products/1d747537-6760-4098-ab24-8c658d1f9491_s.png\" width=100 height=60 />                                                                                                                                                                    | <a href=\"https://barbora.lt/produktai/bananai-1-kg\"><table width=\"100\"><td> Bananai, nuo 20 cm, 1 kg </td></table></a>                                                                                                   | 1.39€                                                        | 1.39€/kg                                                           |        |    1     | 2025-08-24 | nan           |\n",
       "|  4 | MAXIMA | <img src=\"https://cdn.barbora.lt/products/1f910506-fa6a-4ce8-947c-b0a43aeed8d9_s.png\" width=100 height=60 />                                                                                                                                                                    | <a href=\"https://barbora.lt/produktai/lietuviskos-sviezios-bulves-40-60-mm-1-kg-90335\"><table width=\"100\"><td> Lietuviškos šviežios bulvės, 40-60 mm, 1 kg </td></table></a>                                             | <div><strong>0.37€</strong></div><div><del>0.75€</del></div> | <div><strong>0.37€/kg</strong></div><div><del>0.75€/kg</del></div> | -50.7% |    1     | 2025-08-24 | 2025-08-25    |"
      ],
      "text/plain": [
       "<IPython.core.display.Markdown object>"
      ]
     },
     "metadata": {},
     "output_type": "display_data"
    }
   ],
   "source": [
    "from IPython.display import Markdown, display\n",
    "with open('collect.md', 'r', encoding='utf-8') as f:\n",
    "    display(Markdown(f.read()))"
   ]
  },
  {
   "cell_type": "code",
   "execution_count": null,
   "id": "d1d33c31-18a2-49ad-9e3d-4b8ce1deff9c",
   "metadata": {},
   "outputs": [],
   "source": []
  }
 ],
 "metadata": {
  "kernelspec": {
   "display_name": "Python 3 (ipykernel)",
   "language": "python",
   "name": "python3"
  },
  "language_info": {
   "codemirror_mode": {
    "name": "ipython",
    "version": 3
   },
   "file_extension": ".py",
   "mimetype": "text/x-python",
   "name": "python",
   "nbconvert_exporter": "python",
   "pygments_lexer": "ipython3",
   "version": "3.12.7"
  }
 },
 "nbformat": 4,
 "nbformat_minor": 5
}
