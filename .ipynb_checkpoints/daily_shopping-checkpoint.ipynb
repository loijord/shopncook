{
 "cells": [
  {
   "cell_type": "code",
   "execution_count": 5,
   "id": "0ae23902-5c35-4f27-84a7-d66681f4e4ca",
   "metadata": {},
   "outputs": [
    {
     "name": "stdout",
     "output_type": "stream",
     "text": [
      "asap: ['Aviečių uogienė', 'Avižų gėrimas', 'Bananai', 'Burokėliai', 'Druska', 'Kiaušiniai', 'Svogūnai']\n",
      "await: ['Avietės', 'Bulvės', 'Džiovinti krapai', 'Grietinė', 'Kefyras', 'Kokosų gėrimas', 'Laurų lapai', 'Morkos', 'Pienas UAT', 'Pomidorų pasta', 'Skumbrė', 'Sviestas', 'Svogūnų laiškai', 'Šilauogės', 'Špinatai', 'Viščiukų blauzdelės', 'Viščiukų filė']\n"
     ]
    }
   ],
   "source": [
    "from items import candidates\n",
    "from shopscraping import scrape, get_view\n",
    "from IPython.display import Markdown, display\n",
    "import pandas as pd\n",
    "from recipe_formatter import normalise_recipe, parse_recipe\n",
    "from fridge_formatter import parse_fridge, normalise_fridge\n",
    "\n",
    "def collect_catalogue(items=None, offline=False, balance_weights=True,\n",
    "                      sorter={'by':['comparative_unit_discount_price', 'shop', 'discount'],\n",
    "                              'ascending': [True, True, False]}):\n",
    "    '''Return mapping (item -> df of scrape). \n",
    "    If offline is True: use results of history file. \n",
    "    If fix_weight is True: if some items have weights unbalanced, \n",
    "    apply weight value (this is an experimental option cus shops not always provide it right)\n",
    "    \n",
    "    Otherwise, scrape items given and update history file\n",
    "    \n",
    "    Input: list of items or None\n",
    "    Output: mapping (item -> df of scrape) or None if there are some missing items in candidates\n",
    "    ''' \n",
    "    item_dfs = dict()\n",
    "    \n",
    "    if items is None:\n",
    "        d = candidates\n",
    "    else:    \n",
    "        d = {key: candidates[key] for key in items if key in candidates}\n",
    "        missing_items = [key for key in items if key not in candidates]\n",
    "        if missing_items:\n",
    "            print('Please add urls for items:', missing_items)\n",
    "            \n",
    "    for item, item_urls in d.items():\n",
    "        if not(offline):\n",
    "            print(f'Item = {item.upper()} ... ', end=' ')\n",
    "        item_dfs[item] = scrape(item_urls, offline=offline, sorter=False)\n",
    "        units = item_dfs[item]['comparative_unit']\n",
    "        units_vnt = [n for n in units if n in ['vnt']]\n",
    "        units_weight = [n for n in units if n in ['kg', 'l']]\n",
    "        unexpected_units = [n for n in units if n not in ['vnt', 'kg', 'l']]\n",
    "        most_common_unit = max(set(units_weight), key=units_weight.count) if units_weight else 'vnt'\n",
    "        if len(unexpected_units):\n",
    "            print(f'Warning: unexpected units in item = {item}: {unexpected_units} wont balance')\n",
    "        elif balance_weights:\n",
    "            if units_vnt and units_weight:\n",
    "                item_dfs[item].loc[units == 'vnt', 'comparative_unit_price'] = \\\n",
    "                item_dfs[item].loc[units == 'vnt', 'comparative_unit_price'] / item_dfs[item].loc[units == 'vnt', 'weight']\n",
    "                item_dfs[item].loc[units == 'vnt', 'comparative_unit_discount_price'] = \\\n",
    "                item_dfs[item].loc[units == 'vnt', 'comparative_unit_discount_price'] / item_dfs[item].loc[units == 'vnt', 'weight']\n",
    "                item_dfs[item].loc[units == 'vnt', 'comparative_unit'] = most_common_unit\n",
    "        if not(offline):\n",
    "            print('Done', end='\\n')\n",
    "        if sorter:\n",
    "            item_dfs[item] = item_dfs[item].sort_values(**sorter)\n",
    "    return item_dfs\n",
    "\n",
    "def display_items(df, extra_columns=[]):\n",
    "    display(Markdown(get_view(df, extra_columns=extra_columns).to_markdown()))\n",
    "\n",
    "def display_catalogue(cart, extra_columns=[]):\n",
    "    for item in cart:\n",
    "        display_items(cart[item], extra_columns=extra_columns)\n",
    "\n",
    "def investigate_recipe(recipe_data, offline=True):\n",
    "    recipe_df = normalise_recipe(recipe_data)\n",
    "    #display(recipe_df)\n",
    "    catalogue = collect_catalogue(items=recipe_df['name'], offline=offline)\n",
    "    if catalogue:\n",
    "        prices, discount_prices, discounts = [], [], []\n",
    "        for weight, unit, title in recipe_df.values:\n",
    "            price = None\n",
    "            discount_price = None\n",
    "            discount = None\n",
    "            \n",
    "            if title not in catalogue:\n",
    "                pass\n",
    "                #print('Please update candidate file with:', title)\n",
    "\n",
    "            elif unit is None:\n",
    "                pass\n",
    "                \n",
    "            elif not(all(catalogue[title]['comparative_unit'] == unit)):\n",
    "                print(f'Inconsistent weight units: [{title}] is in {unit} but catalogue contains:', \n",
    "                      catalogue[title]['comparative_unit'].tolist())\n",
    "            else:\n",
    "                #display_items(catalogue[title])\n",
    "                price = weight * catalogue[title]['comparative_unit_price'].min()\n",
    "                discount_price = weight * catalogue[title]['comparative_unit_discount_price'].min()\n",
    "                discount = price - discount_price\n",
    "            prices.append(price)\n",
    "            discount_prices.append(discount_price)\n",
    "            discounts.append(discount)\n",
    "            \n",
    "        recipe_df['price'] = [round(n, 2) if n else n for n in prices]\n",
    "        recipe_df['discount_price'] = [round(n, 2) if n else n for n in discount_prices]\n",
    "        recipe_df['discount'] = [round(n, 2) if n else n for n in discounts]\n",
    "        return recipe_df\n",
    "\n",
    "\n",
    "#for n in candidates.keys(): print(n)\n",
    "fridge_data = parse_fridge(name=r'fridge/fridge.txt')\n",
    "df = normalise_fridge(fridge_data)\n",
    "items_asap = df.loc[df['wait']=='!', 'name'].tolist()\n",
    "items_await = df.loc[df['wait']=='?', 'name'].tolist()\n",
    "print(f'asap:', items_asap)\n",
    "print(f'await:', items_await)"
   ]
  },
  {
   "cell_type": "markdown",
   "id": "affe6a58-7844-4ba5-a710-134307ef72b2",
   "metadata": {},
   "source": [
    "### Sites\n",
    "* [Rimi](https://www.rimi.lt/e-parduotuve/)\n",
    "* [Iki](https://www.lastmile.lt/)\n",
    "* [Maxima](https://barbora.lt)\n",
    "* [Lidl](https://www.lidl.lt)"
   ]
  },
  {
   "cell_type": "markdown",
   "id": "a2088e63-0d60-4cdc-9e91-efbc30a2f6ba",
   "metadata": {},
   "source": [
    "## Recipe testing"
   ]
  },
  {
   "cell_type": "code",
   "execution_count": 6,
   "id": "c731cbe9-2f9b-416d-b8ac-887d48e1228f",
   "metadata": {},
   "outputs": [
    {
     "ename": "TypeError",
     "evalue": "collect_catalogue() got an unexpected keyword argument 'ignore_missing'",
     "output_type": "error",
     "traceback": [
      "\u001b[1;31m---------------------------------------------------------------------------\u001b[0m",
      "\u001b[1;31mTypeError\u001b[0m                                 Traceback (most recent call last)",
      "Cell \u001b[1;32mIn[6], line 7\u001b[0m\n\u001b[0;32m      1\u001b[0m \u001b[38;5;66;03m# update these files:\u001b[39;00m\n\u001b[0;32m      2\u001b[0m \u001b[38;5;66;03m# recipes -> Your Recipe.txt\u001b[39;00m\n\u001b[0;32m      3\u001b[0m \u001b[38;5;66;03m# ..\\cooking -> recipes -> Your Recipe.ipynb\u001b[39;00m\n\u001b[0;32m      4\u001b[0m \u001b[38;5;66;03m# items.py\u001b[39;00m\n\u001b[0;32m      6\u001b[0m recipe_data \u001b[38;5;241m=\u001b[39m parse_recipe(\u001b[38;5;124mr\u001b[39m\u001b[38;5;124m'\u001b[39m\u001b[38;5;124mrecipes\u001b[39m\u001b[38;5;124m\\\u001b[39m\u001b[38;5;124mBarščiai.txt\u001b[39m\u001b[38;5;124m'\u001b[39m)\n\u001b[1;32m----> 7\u001b[0m df \u001b[38;5;241m=\u001b[39m investigate_recipe(recipe_data, offline\u001b[38;5;241m=\u001b[39m\u001b[38;5;28;01mFalse\u001b[39;00m)\n\u001b[0;32m      8\u001b[0m display(df)\n\u001b[0;32m     10\u001b[0m \u001b[38;5;28;01mfor\u001b[39;00m ingredient \u001b[38;5;129;01min\u001b[39;00m recipe_data:\n",
      "Cell \u001b[1;32mIn[5], line 65\u001b[0m, in \u001b[0;36minvestigate_recipe\u001b[1;34m(recipe_data, offline)\u001b[0m\n\u001b[0;32m     63\u001b[0m recipe_df \u001b[38;5;241m=\u001b[39m normalise_recipe(recipe_data)\n\u001b[0;32m     64\u001b[0m \u001b[38;5;66;03m#display(recipe_df)\u001b[39;00m\n\u001b[1;32m---> 65\u001b[0m catalogue \u001b[38;5;241m=\u001b[39m collect_catalogue(items\u001b[38;5;241m=\u001b[39mrecipe_df[\u001b[38;5;124m'\u001b[39m\u001b[38;5;124mname\u001b[39m\u001b[38;5;124m'\u001b[39m], offline\u001b[38;5;241m=\u001b[39moffline, ignore_missing\u001b[38;5;241m=\u001b[39m\u001b[38;5;28;01mTrue\u001b[39;00m)\n\u001b[0;32m     66\u001b[0m \u001b[38;5;28;01mif\u001b[39;00m catalogue:\n\u001b[0;32m     67\u001b[0m     prices, discount_prices, discounts \u001b[38;5;241m=\u001b[39m [], [], []\n",
      "\u001b[1;31mTypeError\u001b[0m: collect_catalogue() got an unexpected keyword argument 'ignore_missing'"
     ]
    }
   ],
   "source": [
    "# update these files:\n",
    "# recipes -> Your Recipe.txt\n",
    "# ..\\cooking -> recipes -> Your Recipe.ipynb\n",
    "# items.py\n",
    "\n",
    "recipe_data = parse_recipe(r'recipes\\Barščiai.txt')\n",
    "df = investigate_recipe(recipe_data, offline=False)\n",
    "display(df)\n",
    "\n",
    "for ingredient in recipe_data:\n",
    "    print(f'* {ingredient[\"header\"]}')\n",
    "    \n",
    "print('KAINA:', round(df['price'].sum(), 2))\n",
    "print('NUOLAIDOS:', round(df['discount'].sum(), 2))\n",
    "print('SVORIS:', round(df.loc[df['units'].isin(['kg', 'l']), 'amount'].sum(), 2))"
   ]
  },
  {
   "cell_type": "markdown",
   "id": "6cdc3b1a-09c7-480a-97f1-c7661aee8ea7",
   "metadata": {},
   "source": [
    "## Item testing"
   ]
  },
  {
   "cell_type": "code",
   "execution_count": 11,
   "id": "7702298a-09ad-4fc0-91ad-bc6a050ce567",
   "metadata": {},
   "outputs": [
    {
     "name": "stdout",
     "output_type": "stream",
     "text": [
      "Item = AVIEČIŲ UOGIENĖ ...  RIMI warning: (no price) https://www.rimi.lt/e-parduotuve/lt/produktai/bakaleja/konservuotas-maistas/uogienes-dzemai-ir-tyres/avieciu-uogiene-spilva-380-g/p/182128\n",
      "Done\n",
      "RIMI warning: (no price) https://www.rimi.lt/e-parduotuve/lt/produktai/augaliniai-produktai/augaliniai-gerimai/augaliniai-gerimai/ekologiskas-avizu-gerimas-oatly-1-l/p/993125\n",
      "Done\n",
      "Done = BANANAI ...  \n",
      "Done = BULVĖS ...  \n",
      "Done = BUROKĖLIAI ...  \n",
      "Done = DRUSKA ...  \n",
      "Done = KIAUŠINIAI ...  \n"
     ]
    },
    {
     "data": {
      "text/markdown": [
       "|    | shop   | title                                                                                                                                                                                               | off    |   price |   discount_price | price_per   | discount_per   |   weight | date       | valid_until   |\n",
       "|---:|:-------|:----------------------------------------------------------------------------------------------------------------------------------------------------------------------------------------------------|:-------|--------:|-----------------:|:------------|:---------------|---------:|:-----------|:--------------|\n",
       "|  0 | MAXIMA | [Aviečių uogienė SKANOVĖ, 900 g](https://barbora.lt/produktai/avieciu-uogiene-skanove-900-g)                                                                                                        |        |    5.19 |             5.19 | 5.77€/kg    | 5.77€/kg       |    0.899 | 2025-08-20 |               |\n",
       "|  9 | RIMI   | [Aviečių uogienė PŪRE, 420 g](https://www.rimi.lt/e-parduotuve/lt/produktai/bakaleja/konservuotas-maistas/uogienes-dzemai-ir-tyres/avieciu-uogiene-pure-420-g/p/156329)                             | -25.5% |    3.29 |             2.45 | 7.83€/kg    | 5.83€/kg       |    0.42  | 2025-08-20 | 2025-08-25    |\n",
       "|  1 | MAXIMA | [Aviečių uogienė WELL DONE, 350 g](https://barbora.lt/produktai/avieciu-uogiene-well-done-350-g)                                                                                                    |        |    2.89 |             2.89 | 8.26€/kg    | 8.26€/kg       |    0.35  | 2025-08-20 |               |\n",
       "|  2 | IKI    | [Aviečių uogienė PURE, 900 g](https://www.lastmile.lt/chain/PROMO-CashandCarry/product/Avieciu-uogiene-PURE-900-g-U262U07)                                                                          |        |    7.74 |             7.74 | 8.6€/kg     | 8.6€/kg        |    0.9   | 2025-08-20 |               |\n",
       "|  8 | RIMI   | [Aviečių uogienė KĖDAINIŲ KONSERVAI, 430 g](https://www.rimi.lt/e-parduotuve/lt/produktai/bakaleja/konservuotas-maistas/uogienes-dzemai-ir-tyres/avieciu-uogiene-kedainiu-konservai-430-g/p/164482) |        |    3.89 |             3.89 | 9.05€/kg    | 9.05€/kg       |    0.43  | 2025-08-20 |               |\n",
       "|  6 | IKI    | [Kėdainių aviečių uogienė, 430 g](https://www.lastmile.lt/chain/IKI/product/Kedainiu-avieciu-uogiene-430-g-240633)                                                                                  |        |    3.99 |             3.99 | 9.28€/kg    | 9.28€/kg       |    0.64  | 2025-08-20 |               |\n",
       "|  3 | IKI    | [MOČIUTĖS aviečių uogienė, 600 g](https://www.lastmile.lt/chain/PROMO-CashandCarry/product/MOCIUTES-avieciu-uogiene-600-g-V26P778)                                                                  |        |    5.75 |             5.75 | 9.58€/kg    | 9.58€/kg       |    0.6   | 2025-08-20 |               |\n",
       "|  7 | IKI    | [Tradicinė aviečių uogienė, 230 g](https://www.lastmile.lt/chain/GERU-MINCIU-uKIS/product/Tradicine-avieciu-uogiene-230-g-UO)                                                                       |        |    3.99 |             3.99 | 9.97€/kg    | 9.97€/kg       |    0.4   | 2025-08-20 | 2024-01-31    |\n",
       "|  4 | IKI    | [Aviečių uogienė KĖDAINIŲ, 430 g](https://www.lastmile.lt/chain/PROMO-CashandCarry/product/Avieciu-uogiene-KEDAINIU-430-g-V26P42H)                                                                  |        |    4.67 |             4.67 | 10.86€/kg   | 10.86€/kg      |    0.43  | 2025-08-20 |               |\n",
       "|  5 | IKI    | [Aviečių uogienė VILROKA, 1,2 kg](https://www.lastmile.lt/chain/PROMO-CashandCarry/product/Avieciu-uogiene-VILROKA-12-kg-V26P818)                                                                   |        |    8.51 |             8.51 | 17.02€/kg   | 17.02€/kg      |    0.5   | 2025-08-20 |               |"
      ],
      "text/plain": [
       "<IPython.core.display.Markdown object>"
      ]
     },
     "metadata": {},
     "output_type": "display_data"
    },
    {
     "data": {
      "text/markdown": [
       "|    | shop   | title                                                                                                                                                                                                                | off    |   price |   discount_price | price_per   | discount_per   |   weight | date       | valid_until   |\n",
       "|---:|:-------|:---------------------------------------------------------------------------------------------------------------------------------------------------------------------------------------------------------------------|:-------|--------:|-----------------:|:------------|:---------------|---------:|:-----------|:--------------|\n",
       "|  5 | IKI    | [Avižų augalinis gėrimas su kalciu ir vitaminais VALSOIA, 1 l](https://www.lastmile.lt/chain/IKI/product/Avizu-augalinis-gerimas-su-kalciu-ir-vitaminais-VALSOIA-1-l-247793)                                         | -49.8% |    2.99 |             1.5  | 2.99€/l     | 1.5€/l         |     1.04 | 2025-08-20 |               |\n",
       "|  3 | MAXIMA | [Avižų gėrimas FARM MILK, 1 l](https://barbora.lt/produktai/avizu-gerimas-farm-milk-1-l)                                                                                                                             |        |    1.59 |             1.59 | 1.59€/l     | 1.59€/l        |     1    | 2025-08-20 |               |\n",
       "|  8 | RIMI   | [Avižų gėrimas ICA, 1l](https://www.rimi.lt/e-parduotuve/lt/produktai/augaliniai-produktai/augaliniai-gerimai/augaliniai-gerimai/avizu-gerimas-ica-1l/p/812023)                                                      |        |    1.69 |             1.69 | 1.69€/l     | 1.69€/l        |     1    | 2025-08-20 |               |\n",
       "|  7 | IKI    | [Ekologiškas avižų gėrimas MARGĖ, 1 l](https://www.lastmile.lt/chain/IKI/product/Ekologiskas-avizu-gerimas-MARGE-1-l-275941)                                                                                         |        |    2.29 |             2.29 | 2.29€/l     | 2.29€/l        |     1.04 | 2025-08-20 |               |\n",
       "|  9 | RIMI   | [Avižų gėrimas YOOK  BARISTA, 1 l](https://www.rimi.lt/e-parduotuve/lt/produktai/augaliniai-produktai/augaliniai-gerimai/augaliniai-gerimai/avizu-gerimas-yook-barista-1-l/p/4000826)                                | -20.8% |    2.89 |             2.29 | 2.89€/l     | 2.29€/l        |     1    | 2025-08-20 | 2025-08-25    |\n",
       "| 12 | RIMI   | [Avižų ir braškių - ban. sulčių gėr. CIDO, 1 l](https://www.rimi.lt/e-parduotuve/lt/produktai/augaliniai-produktai/augaliniai-gerimai/augaliniai-kavos-gerimai/avizu-ir-braskiu---ban-sulciu-ger-cido-1-l/p/1019843) |        |    2.29 |             2.29 | 2.29€/l     | 2.29€/l        |     1    | 2025-08-20 |               |\n",
       "|  4 | MAXIMA | [Ekologiškas avižų gėrimas be pridėtinio cukraus WELL DONE, 1 l](https://barbora.lt/produktai/ekologiskas-avizu-gerimas-be-pridetinio-cukraus-well-done-1-l)                                                         |        |    2.49 |             2.49 | 2.49€/l     | 2.49€/l        |     1    | 2025-08-20 |               |\n",
       "| 10 | RIMI   | [Augalinis avižų gėrimas VALSOIA, 1 l](https://www.rimi.lt/e-parduotuve/lt/produktai/augaliniai-produktai/augaliniai-gerimai/augaliniai-gerimai/augalinis-avizu-gerimas-valsoia-1-l/p/968463)                        |        |    2.89 |             2.89 | 2.89€/l     | 2.89€/l        |     1    | 2025-08-20 |               |\n",
       "| 11 | RIMI   | [Avižų gėrimas TERE DEARY Barista, 1 l](https://www.rimi.lt/e-parduotuve/lt/produktai/augaliniai-produktai/augaliniai-gerimai/augaliniai-gerimai/avizu-gerimas-tere-deary-barista-1-l/p/994218)                      |        |    2.89 |             2.89 | 2.89€/l     | 2.89€/l        |     1    | 2025-08-20 |               |\n",
       "|  1 | MAXIMA | [Avižų gėrimas NATURLI', 1 l](https://barbora.lt/produktai/avizu-gerimas-naturli-1-l)                                                                                                                                |        |    2.99 |             2.99 | 2.99€/l     | 2.99€/l        |     1    | 2025-08-20 |               |\n",
       "|  0 | MAXIMA | [Avižų gėrimas ALPRO, 1 l](https://barbora.lt/produktai/avizu-gerimas-alpro-1-l)                                                                                                                                     |        |    3.19 |             3.19 | 3.19€/l     | 3.19€/l        |     1    | 2025-08-20 |               |\n",
       "|  6 | IKI    | [Avižų gėrimas ALPRO, 1l](https://www.lastmile.lt/chain/IKI/product/Avizu-gerimas-ALPRO-1l-241218)                                                                                                                   |        |    3.29 |             3.29 | 3.29€/l     | 3.29€/l        |     1.06 | 2025-08-20 |               |\n",
       "|  2 | MAXIMA | [Avižų gėrimas ALPRO BARISTA, 1 l](https://barbora.lt/produktai/avizu-gerimas-alpro-barista-1-l)                                                                                                                     |        |    3.69 |             3.69 | 3.69€/l     | 3.69€/l        |     1    | 2025-08-20 |               |"
      ],
      "text/plain": [
       "<IPython.core.display.Markdown object>"
      ]
     },
     "metadata": {},
     "output_type": "display_data"
    },
    {
     "data": {
      "text/markdown": [
       "|    | shop   | title                                                                                                                                                                   | off    |   price |   discount_price | price_per   | discount_per   |   weight | date       | valid_until   |\n",
       "|---:|:-------|:------------------------------------------------------------------------------------------------------------------------------------------------------------------------|:-------|--------:|-----------------:|:------------|:---------------|---------:|:-----------|:--------------|\n",
       "|  1 | IKI    | [Bananai BON VIA](https://www.lastmile.lt/chain/IKI/product/Bananai-BON-VIA-287376)                                                                                     | -28.8% |    1.39 |             0.99 | 1.39€/kg    | 0.99€/kg       |        1 | 2025-08-20 | 2025-08-24    |\n",
       "|  0 | MAXIMA | [Bananai, nuo 20 cm, 1 kg](https://barbora.lt/produktai/bananai-1-kg)                                                                                                   |        |    1.39 |             1.39 | 1.39€/kg    | 1.39€/kg       |        1 | 2025-08-20 |               |\n",
       "|  2 | RIMI   | [Bananai Cavendish, 20+cm , 1kg](https://www.rimi.lt/e-parduotuve/lt/produktai/vaisiai-darzoves-ir-geles/vaisiai-ir-uogos/bananai/bananai-cavendish-20-cm-1kg/p/270939) |        |    1.39 |             1.39 | 1.39€/kg    | 1.39€/kg       |        1 | 2025-08-20 |               |"
      ],
      "text/plain": [
       "<IPython.core.display.Markdown object>"
      ]
     },
     "metadata": {},
     "output_type": "display_data"
    },
    {
     "data": {
      "text/markdown": [
       "|    | shop   | title                                                                                                                                                                                                   | off    |   price |   discount_price | price_per   | discount_per   |   weight | date       | valid_until   |\n",
       "|---:|:-------|:--------------------------------------------------------------------------------------------------------------------------------------------------------------------------------------------------------|:-------|--------:|-----------------:|:------------|:---------------|---------:|:-----------|:--------------|\n",
       "|  0 | MAXIMA | [Lietuviškos šviežios bulvės, 40-60 mm, 1 kg](https://barbora.lt/produktai/lietuviskos-sviezios-bulves-40-60-mm-1-kg-90335)                                                                             | -50.7% |    0.75 |             0.37 | 0.75€/kg    | 0.37€/kg       |        1 | 2025-08-20 | 2025-08-25    |\n",
       "|  2 | IKI    | [Sveriamos bulvės, 50-70 mm, I klasė, kg](https://www.lastmile.lt/chain/PROMO-CashandCarry/product/Sveriamos-bulves-50-70-mm-I-klase-kg-X401739)                                                        |        |    0.56 |             0.56 | 0.56€/kg    | 0.56€/kg       |        1 | 2025-08-20 |               |\n",
       "|  1 | IKI    | [Sveriamos bulvės CLEVER ](https://www.lastmile.lt/chain/IKI/product/Sveriamos-bulves-CLEVER-255264)                                                                                                    |        |    0.69 |             0.69 | 0.69€/kg    | 0.69€/kg       |        1 | 2025-08-20 |               |\n",
       "|  3 | RIMI   | [Šviežios lietuviškos fasuotos bulvės 45+, 1kg](https://www.rimi.lt/e-parduotuve/lt/produktai/vaisiai-darzoves-ir-geles/darzoves-ir-grybai/bulves/sviezios-lietuviskos-fasuotos-bulves-45-1kg/p/244697) |        |    1.35 |             1.35 | 1.35€/kg    | 1.35€/kg       |        1 | 2025-08-20 |               |"
      ],
      "text/plain": [
       "<IPython.core.display.Markdown object>"
      ]
     },
     "metadata": {},
     "output_type": "display_data"
    },
    {
     "data": {
      "text/markdown": [
       "|    | shop   | title                                                                                                                                                                                          | off   |   price |   discount_price | price_per   | discount_per   |   weight | date       | valid_until   |\n",
       "|---:|:-------|:-----------------------------------------------------------------------------------------------------------------------------------------------------------------------------------------------|:------|--------:|-----------------:|:------------|:---------------|---------:|:-----------|:--------------|\n",
       "|  0 | MAXIMA | [Lietuviški burokėliai, 1 kg](https://barbora.lt/produktai/lietuviski-burokeliai-1-kg)                                                                                                         |       |    0.79 |             0.79 | 0.79€/kg    | 0.79€/kg       |        1 | 2025-08-20 |               |\n",
       "|  2 | RIMI   | [Lietuviški burokėliai, 1 kg](https://www.rimi.lt/e-parduotuve/lt/produktai/vaisiai-darzoves-ir-geles/darzoves-ir-grybai/burokeliai-ir-kiti-sakniavaisiai/lietuviski-burokeliai-1-kg/p/920730) |       |    0.79 |             0.79 | 0.79€/kg    | 0.79€/kg       |        1 | 2025-08-20 |               |\n",
       "|  1 | IKI    | [Burokėliai CLEVER ](https://www.lastmile.lt/chain/IKI/product/Burokeliai-CLEVER-256255)                                                                                                       |       |    0.99 |             0.99 | 0.99€/kg    | 0.99€/kg       |        1 | 2025-08-20 |               |"
      ],
      "text/plain": [
       "<IPython.core.display.Markdown object>"
      ]
     },
     "metadata": {},
     "output_type": "display_data"
    },
    {
     "data": {
      "text/markdown": [
       "|    | shop   | title                                                                                                                                                    | off   |   price |   discount_price | price_per   | discount_per   |   weight | date       | valid_until   |\n",
       "|---:|:-------|:---------------------------------------------------------------------------------------------------------------------------------------------------------|:------|--------:|-----------------:|:------------|:---------------|---------:|:-----------|:--------------|\n",
       "|  2 | RIMI   | [Valgomoji druska RIMI SMART, 1 kg](https://www.rimi.lt/e-parduotuve/lt/produktai/bakaleja/prieskoniai/druska/valgomoji-druska-rimi-smart-1-kg/p/811466) |       |    0.39 |             0.39 | 0.39€/kg    | 0.39€/kg       |     1    | 2025-08-20 |               |\n",
       "|  0 | MAXIMA | [Joduotoji druska EXTRA LINE, 1kg, 1 kg](https://barbora.lt/produktai/joduotoji-druska-extra-line-1-kg-1-kg)                                             |       |    0.45 |             0.45 | 0.45€/kg    | 0.45€/kg       |     1    | 2025-08-20 |               |\n",
       "|  1 | IKI    | [Valgomoji akmens druska SALT HILL, 1 kg](https://www.lastmile.lt/chain/IKI/product/Valgomoji-akmens-druska-SALT-HILL-1-kg-271120)                       |       |    0.65 |             0.65 | 0.65€/kg    | 0.65€/kg       |     1.01 | 2025-08-20 |               |"
      ],
      "text/plain": [
       "<IPython.core.display.Markdown object>"
      ]
     },
     "metadata": {},
     "output_type": "display_data"
    },
    {
     "data": {
      "text/markdown": [
       "|    | shop   | title                                                                                                                                                                                                                     | off   |   price |   discount_price | price_per   | discount_per   |   weight | date       | valid_until   |\n",
       "|---:|:-------|:--------------------------------------------------------------------------------------------------------------------------------------------------------------------------------------------------------------------------|:------|--------:|-----------------:|:------------|:---------------|---------:|:-----------|:--------------|\n",
       "|  0 | MAXIMA | [Ant kraiko laikomų vištų kiaušiniai, 10 vnt.](https://barbora.lt/produktai/ant-kraiko-laikomu-vistu-kiausiniai-10-vnt-10-vnt)                                                                                            |       |    2.15 |             2.15 | 0.22€/vnt   | 0.22€/vnt      |    nan   | 2025-08-20 |               |\n",
       "|  2 | RIMI   | [Vištų kiaušiniai RIMI, A/LM Nr.2, 10vnt](https://www.rimi.lt/e-parduotuve/lt/produktai/pieno-produktai-ir-kiausiniai/kiausiniai/2---ant-kraiko-laikomu-vistu-kiausiniai-/vistu-kiausiniai-rimi-a-lm-nr-2-10vnt/p/816323) |       |    2.15 |             2.15 | 0.22€/vnt   | 0.22€/vnt      |    nan   | 2025-08-20 |               |\n",
       "|  1 | IKI    | [Kiaušiniai IKI ant kraiko laikomų vištų M dydžio, rudu lukštu, Nr.2, 10 vnt](https://www.lastmile.lt/chain/IKI/product/Kiausiniai-IKI-ant-kraiko-laikomu-vistu-M-dydzio-rudu-lukstu-Nr2-10-vnt-281345)                   |       |    2.49 |             2.49 | 0.25€/vnt   | 0.25€/vnt      |      0.6 | 2025-08-20 |               |"
      ],
      "text/plain": [
       "<IPython.core.display.Markdown object>"
      ]
     },
     "metadata": {},
     "output_type": "display_data"
    }
   ],
   "source": [
    "catalogue = collect_catalogue(items=items_asap, offline=False)\n",
    "display_catalogue(catalogue)"
   ]
  },
  {
   "cell_type": "code",
   "execution_count": 3,
   "id": "7f68bad6-bfd4-44ba-9956-cd43ae692be3",
   "metadata": {},
   "outputs": [
    {
     "name": "stdout",
     "output_type": "stream",
     "text": [
      "Please add urls for items: ['Agurkai']\n",
      "Done = SVOGŪNŲ LAIŠKAI ...  \n",
      "Done = BUROKĖLIAI ...  \n",
      "Done = KIAUŠINIAI ...  \n",
      "Done = RIDIKĖLIAI ...  \n",
      "Done = KEFYRAS ...  \n",
      "Done = DRUSKA ...  \n",
      "Done = BANANAI ...  \n"
     ]
    },
    {
     "data": {
      "text/markdown": [
       "|    | shop   | title                                                                                                                                                                                              | off   |   price |   discount_price | price_per   | discount_per   |   weight | date       | valid_until   |\n",
       "|---:|:-------|:---------------------------------------------------------------------------------------------------------------------------------------------------------------------------------------------------|:------|--------:|-----------------:|:------------|:---------------|---------:|:-----------|:--------------|\n",
       "|  2 | IKI    | [Svogūnų laiškai](https://www.lastmile.lt/chain/IKI/product/Svogunu-laiskai-289253)                                                                                                                |       |    6.99 |             6.99 | 6.99€/kg    | 6.99€/kg       |     1    | 2025-08-20 |               |\n",
       "|  3 | IKI    | [Svogūnų laiškai, 100 g](https://www.lastmile.lt/chain/IKI/product/Svogunu-laiskai-100-g-2674)                                                                                                     |       |    1.59 |             1.59 | 15.9€/kg    | 15.9€/kg       |     0.1  | 2025-08-20 |               |\n",
       "|  0 | MAXIMA | [Svogūnų laiškai LINKĖJIMAI IŠ KAIMO (fasuoti), 100 g](https://barbora.lt/produktai/svogunu-laiskai-linkejimai-is-kaimo-fasuoti-100-g)                                                             |       |    1.59 |             1.59 | 15.9€/kg    | 15.9€/kg       |     0.1  | 2025-08-20 |               |\n",
       "|  5 | RIMI   | [Fasuoti svogūnų laiškai, 50 g](https://www.rimi.lt/e-parduotuve/lt/produktai/vaisiai-darzoves-ir-geles/darzoves-ir-grybai/prieskonines-darzoves-ir-zoleles/fasuoti-svogunu-laiskai-50-g/p/950571) |       |    0.94 |             0.94 | 18.8€/kg    | 18.8€/kg       |     0.05 | 2025-08-20 |               |\n",
       "|  4 | IKI    | [Žalumynų rinkinys, 70 g](https://www.lastmile.lt/chain/IKI/product/Zalumynu-rinkinys-70-g-53953)                                                                                                  |       |    1.59 |             1.59 | 22.71€/kg   | 22.71€/kg      |     0.07 | 2025-08-20 |               |\n",
       "|  1 | MAXIMA | [Žalumynų rinkinys: svogūnų laiškai ir krapai, 1 vnt.](https://barbora.lt/produktai/zalumynu-rinkinys-svogunu-laiskai-ir-krapai-1-vnt)                                                             |       |    1.59 |             1.59 | 22.71€/kg   | 22.71€/kg      |     0.07 | 2025-08-20 |               |"
      ],
      "text/plain": [
       "<IPython.core.display.Markdown object>"
      ]
     },
     "metadata": {},
     "output_type": "display_data"
    },
    {
     "data": {
      "text/markdown": [
       "|    | shop   | title                                                                                                                                                                                          | off   |   price |   discount_price | price_per   | discount_per   |   weight | date       | valid_until   |\n",
       "|---:|:-------|:-----------------------------------------------------------------------------------------------------------------------------------------------------------------------------------------------|:------|--------:|-----------------:|:------------|:---------------|---------:|:-----------|:--------------|\n",
       "|  0 | MAXIMA | [Lietuviški burokėliai, 1 kg](https://barbora.lt/produktai/lietuviski-burokeliai-1-kg)                                                                                                         |       |    0.79 |             0.79 | 0.79€/kg    | 0.79€/kg       |        1 | 2025-08-20 |               |\n",
       "|  2 | RIMI   | [Lietuviški burokėliai, 1 kg](https://www.rimi.lt/e-parduotuve/lt/produktai/vaisiai-darzoves-ir-geles/darzoves-ir-grybai/burokeliai-ir-kiti-sakniavaisiai/lietuviski-burokeliai-1-kg/p/920730) |       |    0.79 |             0.79 | 0.79€/kg    | 0.79€/kg       |        1 | 2025-08-20 |               |\n",
       "|  1 | IKI    | [Burokėliai CLEVER ](https://www.lastmile.lt/chain/IKI/product/Burokeliai-CLEVER-256255)                                                                                                       |       |    0.99 |             0.99 | 0.99€/kg    | 0.99€/kg       |        1 | 2025-08-20 |               |"
      ],
      "text/plain": [
       "<IPython.core.display.Markdown object>"
      ]
     },
     "metadata": {},
     "output_type": "display_data"
    },
    {
     "data": {
      "text/markdown": [
       "|    | shop   | title                                                                                                                                                                                                                     | off   |   price |   discount_price | price_per   | discount_per   |   weight | date       | valid_until   |\n",
       "|---:|:-------|:--------------------------------------------------------------------------------------------------------------------------------------------------------------------------------------------------------------------------|:------|--------:|-----------------:|:------------|:---------------|---------:|:-----------|:--------------|\n",
       "|  0 | MAXIMA | [Ant kraiko laikomų vištų kiaušiniai, 10 vnt.](https://barbora.lt/produktai/ant-kraiko-laikomu-vistu-kiausiniai-10-vnt-10-vnt)                                                                                            |       |    2.15 |             2.15 | 0.22€/vnt   | 0.22€/vnt      |    nan   | 2025-08-20 |               |\n",
       "|  2 | RIMI   | [Vištų kiaušiniai RIMI, A/LM Nr.2, 10vnt](https://www.rimi.lt/e-parduotuve/lt/produktai/pieno-produktai-ir-kiausiniai/kiausiniai/2---ant-kraiko-laikomu-vistu-kiausiniai-/vistu-kiausiniai-rimi-a-lm-nr-2-10vnt/p/816323) |       |    2.15 |             2.15 | 0.22€/vnt   | 0.22€/vnt      |    nan   | 2025-08-20 |               |\n",
       "|  1 | IKI    | [Kiaušiniai IKI ant kraiko laikomų vištų M dydžio, rudu lukštu, Nr.2, 10 vnt](https://www.lastmile.lt/chain/IKI/product/Kiausiniai-IKI-ant-kraiko-laikomu-vistu-M-dydzio-rudu-lukstu-Nr2-10-vnt-281345)                   |       |    2.49 |             2.49 | 0.25€/vnt   | 0.25€/vnt      |      0.6 | 2025-08-20 |               |"
      ],
      "text/plain": [
       "<IPython.core.display.Markdown object>"
      ]
     },
     "metadata": {},
     "output_type": "display_data"
    },
    {
     "data": {
      "text/markdown": [
       "|    | shop   | title                                                                                                                                                                      | off   |   price |   discount_price | price_per   | discount_per   |   weight | date       | valid_until   |\n",
       "|---:|:-------|:---------------------------------------------------------------------------------------------------------------------------------------------------------------------------|:------|--------:|-----------------:|:------------|:---------------|---------:|:-----------|:--------------|\n",
       "|  3 | RIMI   | [Ridikėliai, 125 g](https://www.rimi.lt/e-parduotuve/lt/produktai/vaisiai-darzoves-ir-geles/darzoves-ir-grybai/burokeliai-ir-kiti-sakniavaisiai/ridikeliai-125-g/p/200640) |       |    0.62 |             0.62 | 4.96€/kg    | 4.96€/kg       |    0.125 | 2025-08-20 |               |\n",
       "|  1 | IKI    | [Raudonieji ridikėliai IKI, 300 g](https://www.lastmile.lt/chain/IKI/product/Raudonieji-ridikeliai-IKI-300-g-262683)                                                       |       |    1.49 |             1.49 | 4.97€/kg    | 4.97€/kg       |    0.33  | 2025-08-20 |               |\n",
       "|  0 | MAXIMA | [Ridikėliai, 300 g](https://barbora.lt/produktai/ridikeliai-300-g)                                                                                                         |       |    1.49 |             1.49 | 4.97€/kg    | 4.97€/kg       |    0.3   | 2025-08-20 |               |\n",
       "|  2 | RIMI   | [Ridikėliai, 300 g](https://www.rimi.lt/e-parduotuve/lt/produktai/vaisiai-darzoves-ir-geles/darzoves-ir-grybai/burokeliai-ir-kiti-sakniavaisiai/ridikeliai-300-g/p/997068) |       |    1.49 |             1.49 | 4.97€/kg    | 4.97€/kg       |    0.3   | 2025-08-20 |               |"
      ],
      "text/plain": [
       "<IPython.core.display.Markdown object>"
      ]
     },
     "metadata": {},
     "output_type": "display_data"
    },
    {
     "data": {
      "text/markdown": [
       "|    | shop   | title                                                                                                                                                                                                   | off   |   price |   discount_price | price_per   | discount_per   |   weight | date       | valid_until   |\n",
       "|---:|:-------|:--------------------------------------------------------------------------------------------------------------------------------------------------------------------------------------------------------|:------|--------:|-----------------:|:------------|:---------------|---------:|:-----------|:--------------|\n",
       "|  5 | RIMI   | [Kefyras RIMI SMART, 2,5 % rieb., 0,9 kg](https://www.rimi.lt/e-parduotuve/lt/produktai/pieno-produktai-ir-kiausiniai/kefyras-rugpienis-ir-pasukos/kefyras/kefyras-rimi-smart-2-5-rieb-0-9-kg/p/804862) |       |    0.74 |             0.74 | 0.82€/kg    | 0.82€/kg       |    0.902 | 2025-08-20 |               |\n",
       "|  3 | IKI    | [Kefyras 2,5% rieb. CLEVER, 900 g](https://www.lastmile.lt/chain/IKI/product/Kefyras-25percent-rieb-CLEVER-900-g-252431)                                                                                |       |    0.76 |             0.76 | 0.84€/kg    | 0.84€/kg       |    0.91  | 2025-08-20 |               |\n",
       "|  1 | MAXIMA | [Kefyras FARM MILK, 2,5 % rieb., 1 kg](https://barbora.lt/produktai/kefyras-farm-milk-2-5-proc-rieb-1-kg)                                                                                               |       |    0.85 |             0.85 | 0.85€/kg    | 0.85€/kg       |    1     | 2025-08-20 |               |\n",
       "|  0 | MAXIMA | [Kefyras FARM MILK, 2 % rieb., 1 kg](https://barbora.lt/produktai/kefyras-farm-milk-2-proc-rieb-1-kg)                                                                                                   |       |    0.95 |             0.95 | 0.95€/kg    | 0.95€/kg       |    1     | 2025-08-20 |               |\n",
       "|  2 | MAXIMA | [Šaltibarščių kefyras WELL DONE, 5 % rieb., 1 kg](https://barbora.lt/produktai/saltibarsciu-kefyras-well-done-5-proc-rieb-1-kg)                                                                         |       |    1.49 |             1.49 | 1.49€/kg    | 1.49€/kg       |    1     | 2025-08-20 |               |\n",
       "|  4 | IKI    | [Šaltibarščių kefyras ŽALOJI KARVUTĖ, 5% rieb., 1 kg](https://www.lastmile.lt/chain/IKI/product/Saltibarsciu-kefyras-ZALOJI-KARVUTE-5percent-rieb-1-kg-61058)                                           |       |    1.59 |             1.59 | 1.59€/kg    | 1.59€/kg       |    1     | 2025-08-20 |               |"
      ],
      "text/plain": [
       "<IPython.core.display.Markdown object>"
      ]
     },
     "metadata": {},
     "output_type": "display_data"
    },
    {
     "data": {
      "text/markdown": [
       "|    | shop   | title                                                                                                                                                    | off   |   price |   discount_price | price_per   | discount_per   |   weight | date       | valid_until   |\n",
       "|---:|:-------|:---------------------------------------------------------------------------------------------------------------------------------------------------------|:------|--------:|-----------------:|:------------|:---------------|---------:|:-----------|:--------------|\n",
       "|  2 | RIMI   | [Valgomoji druska RIMI SMART, 1 kg](https://www.rimi.lt/e-parduotuve/lt/produktai/bakaleja/prieskoniai/druska/valgomoji-druska-rimi-smart-1-kg/p/811466) |       |    0.39 |             0.39 | 0.39€/kg    | 0.39€/kg       |     1    | 2025-08-20 |               |\n",
       "|  0 | MAXIMA | [Joduotoji druska EXTRA LINE, 1kg, 1 kg](https://barbora.lt/produktai/joduotoji-druska-extra-line-1-kg-1-kg)                                             |       |    0.45 |             0.45 | 0.45€/kg    | 0.45€/kg       |     1    | 2025-08-20 |               |\n",
       "|  1 | IKI    | [Valgomoji akmens druska SALT HILL, 1 kg](https://www.lastmile.lt/chain/IKI/product/Valgomoji-akmens-druska-SALT-HILL-1-kg-271120)                       |       |    0.65 |             0.65 | 0.65€/kg    | 0.65€/kg       |     1.01 | 2025-08-20 |               |"
      ],
      "text/plain": [
       "<IPython.core.display.Markdown object>"
      ]
     },
     "metadata": {},
     "output_type": "display_data"
    },
    {
     "data": {
      "text/markdown": [
       "|    | shop   | title                                                                                                                                                                   | off    |   price |   discount_price | price_per   | discount_per   |   weight | date       | valid_until   |\n",
       "|---:|:-------|:------------------------------------------------------------------------------------------------------------------------------------------------------------------------|:-------|--------:|-----------------:|:------------|:---------------|---------:|:-----------|:--------------|\n",
       "|  1 | IKI    | [Bananai BON VIA](https://www.lastmile.lt/chain/IKI/product/Bananai-BON-VIA-287376)                                                                                     | -28.8% |    1.39 |             0.99 | 1.39€/kg    | 0.99€/kg       |        1 | 2025-08-20 | 2025-08-24    |\n",
       "|  0 | MAXIMA | [Bananai, nuo 20 cm, 1 kg](https://barbora.lt/produktai/bananai-1-kg)                                                                                                   |        |    1.39 |             1.39 | 1.39€/kg    | 1.39€/kg       |        1 | 2025-08-20 |               |\n",
       "|  2 | RIMI   | [Bananai Cavendish, 20+cm , 1kg](https://www.rimi.lt/e-parduotuve/lt/produktai/vaisiai-darzoves-ir-geles/vaisiai-ir-uogos/bananai/bananai-cavendish-20-cm-1kg/p/270939) |        |    1.39 |             1.39 | 1.39€/kg    | 1.39€/kg       |        1 | 2025-08-20 |               |"
      ],
      "text/plain": [
       "<IPython.core.display.Markdown object>"
      ]
     },
     "metadata": {},
     "output_type": "display_data"
    }
   ],
   "source": [
    "catalogue = collect_catalogue(items=items_await, offline=False)\n",
    "display_catalogue(catalogue)"
   ]
  },
  {
   "cell_type": "code",
   "execution_count": null,
   "id": "d7395283-ae48-40a4-a6b3-9a3c0964a058",
   "metadata": {},
   "outputs": [],
   "source": [
    "* Pievagrybiai Lidl 4€/kg\n",
    "* Salota (su šaknimis) Lidl 0.89vnt, Maxima 0.99vnt\n",
    "* žaliosios vynuogės Lidl 3.38€/kg, Maxima 3.38€/kg\n",
    "* nektarinai Lidl 2.49€/kg, persikai Maxima 2.49€/kg\n",
    "* duona su saulėgrąžomis Lidl 2.48€/kg\n",
    "* duona su grūdais ir sėklomis Lidl 2.32€/kg\n",
    "* jogurtas\n",
    "* kiaušai Lidl 1.89, Maxima 1.79\n",
    "* šaltibarščių kefyras Lidl 0.99€/kg\n",
    "* burokėliai šaltibarščiams Lidl 2.06€/kg\n",
    "* majonezas\n",
    "* grietinė 18% - Lidl 2.39€/kg\n",
    "* menkių filė Lidl 7.99€/kg\n",
    "* lašišos filė Lidl 9.99€/kg Maxima 9.99€/kg\n",
    "* švežia smulkinta kalakutienos krūtinėlė Lidl 6.98€/kg\n",
    "* bananai Lidl 0.89€/kg\n",
    "* šilauogės Lidl 7.49€/kg Maxima 8.38€/kg\n",
    "* braškės Maxima 6.98€/kg\n",
    "* šlaunelės\n",
    "\n",
    "* varškė -------------------------------------\n",
    "* braškių uogienė kėdainių\n",
    "* pjaustyta kiauliena guliašui Maxima 6.98€/kg\n",
    "* mėsai ar nuolaida?\n",
    "* druska \n",
    "* kokosų kremas 1.79\n",
    "* lavazza 5.99\n",
    "* dušui (aras -30) \n",
    "* colgate\n",
    "* bananai kaip Lidl\n",
    "* kiaulienos sprandinė vakumuota 3.99 iš 5.99\n",
    "* namų kvapai"
   ]
  }
 ],
 "metadata": {
  "kernelspec": {
   "display_name": "Python 3 (ipykernel)",
   "language": "python",
   "name": "python3"
  },
  "language_info": {
   "codemirror_mode": {
    "name": "ipython",
    "version": 3
   },
   "file_extension": ".py",
   "mimetype": "text/x-python",
   "name": "python",
   "nbconvert_exporter": "python",
   "pygments_lexer": "ipython3",
   "version": "3.12.7"
  }
 },
 "nbformat": 4,
 "nbformat_minor": 5
}
