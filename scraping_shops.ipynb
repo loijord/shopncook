{
 "cells": [
  {
   "cell_type": "markdown",
   "id": "42ef65ab-c6a1-47d8-aafe-cfdbfb8c35a8",
   "metadata": {},
   "source": [
    "### References \n",
    "* https://www.reddit.com/r/lithuania/comments/1l7vt16/prekybos_centru_preki%C5%B3_kain%C5%B3_tinklapis/\n",
    "* https://www.svidras.lt/barbora-prekiu-palyginimas/\n",
    "* Daugiau parametrų ieškoti: https://github.com/ketsuraq/shop-scraper"
   ]
  },
  {
   "cell_type": "markdown",
   "id": "b80d0d86-bc1f-4b25-b780-762d335bc252",
   "metadata": {},
   "source": [
    "### Sites\n",
    "* [Iki](https://www.lastmile.lt/)\n",
    "* [Maxima](https://barbora.lt)\n",
    "* [Rimi](https://www.rimi.lt/e-parduotuve/)\n",
    "* [Lidl](https://www.lidl.lt)"
   ]
  },
  {
   "cell_type": "markdown",
   "id": "cac65764-bb60-412a-9524-c07b7139bea0",
   "metadata": {},
   "source": [
    "|Ingredientas|Maxima|Iki|Rimi|Lidl|Turgus|\n",
    "|---|---|---|---|---|---|\n",
    "|Gaudos sūris|[7.99€/kg (1kg)](https://barbora.lt/produktai/gaudos-suris-farm-milk-45-proc-rieb-s-m-1-kg) arba [7.16€/kg (250g)](https://barbora.lt/produktai/gaudos-suris-farm-milk-45-proc-rieb-s-m-250-g)|||\n",
    "|Tilžės sūris|[5.99€/kg (1kg)](https://barbora.lt/produktai/tilzes-suris-farm-milk-43-proc-rieb-s-m-1-kg) arba [7.4€/kg (250g)](https://barbora.lt/produktai/tilzes-suris-farm-milk-45-proc-rieb-s-m-250-g)||[5.99€/kg (1kg)](https://www.rimi.lt/e-parduotuve/lt/produktai/pieno-produktai-ir-kiausiniai/suris/fermentiniai-suriai/suris-rimi-smart-tilsit-45-rieb-1-kg/p/814405) arba [6.2€/kg (250g)](https://www.rimi.lt/e-parduotuve/lt/produktai/pieno-produktai-ir-kiausiniai/suris/fermentiniai-suriai/suris-rimi-smart-tilsit-45-250-g/p/812217)\n",
    "|Karšto rūkymo skumbrė|7.49€/kg|10.43€/kg|7.19€/kg|\n",
    "|Kiaušiniai|2.15€ (M dydis) arba €2.55€ (L dydis)|2.24€ (L dydis) arba 2.4€/kg (L dydis)|2.19€ (LM dydis)|\n",
    "|Svogūnlaiškiai|Laikinai nėra|sveriami 11.49€/kg, fasuoti 16.20€/kg|19.8€/kg|\n",
    "|Kefyras|0.85€ (1kg)|1.25€/kg|0.82€/1kg (900g)|"
   ]
  },
  {
   "cell_type": "markdown",
   "id": "d6109575-640f-4417-a0c6-2eee2799fb15",
   "metadata": {},
   "source": [
    "### Scraping and processing single url\n",
    "Following example is for debugging only"
   ]
  },
  {
   "cell_type": "code",
   "execution_count": 1,
   "id": "d59c647f-4f26-4afc-82be-47ed8a05546b",
   "metadata": {},
   "outputs": [
    {
     "data": {
      "text/plain": [
       "{'url': 'https://www.rimi.lt/e-parduotuve/lt/produktai/mesa-ir-zuvis-/sviezia-paukstiena/vistiena/broileriu-file-gabaliukai-be-antibiotiku-500g/p/971720',\n",
       " 'image': 'https://rimibaltic-res.cloudinary.com/image/upload/b_white,c_limit,dpr_auto,f_auto,q_auto:low,w_auto/d_ecommerce:backend-fallback.png/MAT_971720_PCE_LT',\n",
       " 'title': 'Broilerių filė gabaliukai be antibiotikų,500g',\n",
       " 'date': '2025-08-19',\n",
       " 'shop': 'RIMI',\n",
       " 'price': 5.49,\n",
       " 'comparative_unit': 'kg',\n",
       " 'comparative_unit_price': 10.98,\n",
       " 'discount': True,\n",
       " 'discount_price': 3.29,\n",
       " 'comparative_unit_discount_price': 6.58,\n",
       " 'weight': 0.5,\n",
       " 'valid_until': '2025-08-25'}"
      ]
     },
     "execution_count": 1,
     "metadata": {},
     "output_type": "execute_result"
    }
   ],
   "source": [
    "from shopscraping import get_maxima_elements, get_maxima_data, get_iki_elements, get_iki_data, get_rimi_elements, get_rimi_data\n",
    "urls_maxima = [r'https://barbora.lt/produktai/grudetoji-varske-pieno-zvaigzdes-su-melynemis-7-proc-rieb-150-g', #promotion_type: X_FOR_Y\n",
    "               r'https://www.barbora.lt/produktai/gazuotas-gerimas-pepsi-1-5-l-1-5-l', #promotion_type: CATEGORY_PERCENTAGE\n",
    "               r'https://barbora.lt/produktai/desertas-krembriule-mes-recettes-gourmandes-200-g', #promotion_type: LOYALTY_PRICE\n",
    "               r'https://barbora.lt/produktai/kiausiniai-rido-omega-3-10-vnt', #promotion_type: DISCOUNT_PRICE\n",
    "               r'https://barbora.lt/produktai/kaimiski-vistu-kiausiniai-10-vnt'] #promotion_type: None \n",
    "\n",
    "urls_iki = [r'https://www.lastmile.lt/chain/PROMO-CashandCarry/product/Makaronai-kiausininiai-SANTA-MARIA-Wok-200-g-V27S11F',\n",
    "            r'https://www.lastmile.lt/chain/IKI/product/IKI-Karstai-rukyta-atlantine-skumbre-isdarineta-be-galvos-263311',\n",
    "            r'https://www.lastmile.lt/chain/IKI/product/Skumbres-savo-sultyse-su-aliejumi-KAIJA-240-g-42490',\n",
    "            r'https://www.lastmile.lt/chain/PROMO-CashandCarry/product/Energinis-gerimas-MONSTER-Ultra-Fiesta-05-l-skardine-D-V9H2U9U',\n",
    "            r'https://www.lastmile.lt/chain/IKI/product/Ledai-DADU-Dice-Tutti-Frutti-110ml-226027',\n",
    "            r'https://www.lastmile.lt/chain/IKI/product/SVIESTINIS-KRUASANAS-48-g-257981']\n",
    "\n",
    "urls_rimi = [r'https://www.rimi.lt/e-parduotuve/lt/produktai/gerimai/gaivieji-gerimai/gazuoti-vaisvandeniai/gaivusis-gerimas-pepsi-1-5l/p/1360378',\n",
    "            r'https://www.rimi.lt/e-parduotuve/lt/produktai/saldytas-maistas/ledai-/ledai-porcijomis/sorbetas-sun365-mango-80-ml-70-g/p/977170',\n",
    "            r'https://www.rimi.lt/e-parduotuve/lt/produktai/vaisiai-darzoves-ir-geles/vaisiai-ir-uogos/melionai-ir-arbuzai/arbuzas-1-kg/p/212330',\n",
    "            r'https://www.rimi.lt/e-parduotuve/lt/produktai/saldytas-maistas/ledai-/ledai-porcijomis/plombyras-klasika-vanilla-120-ml-65-g/p/285260',\n",
    "            r'https://www.rimi.lt/e-parduotuve/lt/produktai/vaisiai-darzoves-ir-geles/vaisiai-ir-uogos/uogos/silauoges-rimi-400-g/p/974977',\n",
    "            r'https://www.rimi.lt/e-parduotuve/lt/produktai/mesa-ir-zuvis-/sviezia-paukstiena/vistiena/broileriu-file-gabaliukai-be-antibiotiku-500g/p/971720']\n",
    "\n",
    "#https://www.lastmile.lt/chain/PROMO-CashandCarry/product/Avieciu-uogiene-VILROKA-12-kg-V26P818\n",
    "url = r'https://www.lastmile.lt/chain/PROMO-CashandCarry/product/Kiausiniai-L-dydis-rudi-fasuoti-10-vnt-3L10-U4D8D74'\n",
    "url = r'https://www.rimi.lt/e-parduotuve/lt/produktai/mesa-ir-zuvis-/sviezia-paukstiena/vistiena/broileriu-file-gabaliukai-be-antibiotiku-500g/p/971720'\n",
    "\n",
    "\n",
    "rimi_elements = get_rimi_elements(url)#, return_soup=True)\n",
    "rimi_data = get_rimi_data(rimi_elements)\n",
    "rimi_data"
   ]
  },
  {
   "cell_type": "markdown",
   "id": "06b5d32b-31b1-469a-a9bc-974a8840b453",
   "metadata": {},
   "source": [
    "## Scraping a collection of urls in a more fexible way\n",
    "Make sure you declare `candidates` and following methods:"
   ]
  },
  {
   "cell_type": "code",
   "execution_count": 6,
   "id": "be95552a-cbe0-4df9-9abf-8db7fd71cd32",
   "metadata": {},
   "outputs": [],
   "source": [
    "#Better run!\n",
    "from items import candidates\n",
    "from shopscraping import scrape, get_view\n",
    "from IPython.display import Markdown, display\n",
    "import pandas as pd\n",
    "\n",
    "def collect_catalogue(items=None, offline=False, ignore_missing=True):\n",
    "    '''Return mapping (items -> df of scrape). \n",
    "    If offline is True: use results of history file. \n",
    "    Otherwise, scrape items given and update history file\n",
    "    \n",
    "    Input: list of items or None\n",
    "    Output: mapping (item -> df of scrape) or None if there are some missing items in candidates\n",
    "    ''' \n",
    "    item_dfs = dict()\n",
    "    \n",
    "    if items is None:\n",
    "        d = candidates\n",
    "    else:    \n",
    "        d = {key: candidates[key] for key in items if key in candidates}\n",
    "        missing_items = [key for key in items if key not in candidates]\n",
    "        if missing_items:\n",
    "            print('Please add urls for items:', missing_items)\n",
    "            if not(ignore_missing):\n",
    "                return\n",
    "            \n",
    "    for item, item_urls in d.items():\n",
    "        if not(offline):\n",
    "            print(f'Item = {item.upper()} ... ', end=' ')\n",
    "        item_dfs[item] = scrape(item_urls, offline=offline)\n",
    "        if not(offline):\n",
    "            print('Done', end='\\n')\n",
    "    return item_dfs\n",
    "\n",
    "def display_items(df, extra_columns=[]):\n",
    "    display(Markdown(get_view(df, extra_columns=extra_columns).to_markdown()))\n",
    "\n",
    "def display_catalogue(cart, extra_columns=[]):\n",
    "    for item in cart:\n",
    "        display_items(cart[item], extra_columns=extra_columns)"
   ]
  },
  {
   "cell_type": "markdown",
   "id": "28d43af7-526e-46ff-a682-e0c3f0118623",
   "metadata": {},
   "source": [
    "### Example 1:"
   ]
  },
  {
   "cell_type": "code",
   "execution_count": 13,
   "id": "5ef51c4e-5c09-43a3-8d39-e26ff0dba188",
   "metadata": {},
   "outputs": [
    {
     "data": {
      "text/markdown": [
       "|    | shop   | title                                                                                                                                                                   | off    |   price |   discount_price | price_per   | discount_per   | date       | valid_until   |\n",
       "|---:|:-------|:------------------------------------------------------------------------------------------------------------------------------------------------------------------------|:-------|--------:|-----------------:|:------------|:---------------|:-----------|:--------------|\n",
       "|  4 | IKI    | [Bananai BON VIA](https://www.lastmile.lt/chain/IKI/product/Bananai-BON-VIA-287376)                                                                                     | -43.2% |    1.39 |             0.79 | 1.39€/kg    | 0.79€/kg       | 2025-08-10 | 2025-08-10    |\n",
       "|  5 | RIMI   | [Bananai Cavendish, 20+cm , 1kg](https://www.rimi.lt/e-parduotuve/lt/produktai/vaisiai-darzoves-ir-geles/vaisiai-ir-uogos/bananai/bananai-cavendish-20-cm-1kg/p/270939) | -43.2% |    1.39 |             0.79 | 1.39€/kg    | 0.79€/kg       | 2025-08-10 | 2025-08-10    |\n",
       "|  3 | MAXIMA | [Bananai, 1 kg](https://barbora.lt/produktai/bananai-1-kg)                                                                                                              |        |    1.39 |             1.39 | 1.39€/kg    | 1.39€/kg       | 2025-08-10 | nan           |"
      ],
      "text/plain": [
       "<IPython.core.display.Markdown object>"
      ]
     },
     "metadata": {},
     "output_type": "display_data"
    }
   ],
   "source": [
    "urls = [r'https://barbora.lt/produktai/bananai-1-kg',\n",
    "r'https://www.lastmile.lt/chain/IKI/product/Bananai-BON-VIA-287376',\n",
    "r'https://www.rimi.lt/e-parduotuve/lt/produktai/vaisiai-darzoves-ir-geles/vaisiai-ir-uogos/bananai/bananai-cavendish-20-cm-1kg/p/270939']\n",
    "\n",
    "#if offline==False, takes some time to fetch results and update history file\n",
    "df = scrape(urls, offline=True)\n",
    "display_items(df)"
   ]
  },
  {
   "cell_type": "markdown",
   "id": "121450e5-3bd1-47ac-9c7d-ddd5461a8cfe",
   "metadata": {},
   "source": [
    "### Example 2:"
   ]
  },
  {
   "cell_type": "code",
   "execution_count": 8,
   "id": "f4afdc75-cd2f-4506-a961-90251165dab9",
   "metadata": {},
   "outputs": [
    {
     "data": {
      "text/markdown": [
       "|    | shop   | title                                                                                                                                                                                   | off   |   price |   discount_price | price_per   | discount_per   | date       | valid_until   |\n",
       "|---:|:-------|:----------------------------------------------------------------------------------------------------------------------------------------------------------------------------------------|:------|--------:|-----------------:|:------------|:---------------|:-----------|:--------------|\n",
       "|  2 | IKI    | [Džiovinti krapai, 100 g](https://www.lastmile.lt/chain/PROMO-CashandCarry/product/Dziovinti-krapai-100-g-V3125E3)                                                                      |       |    0.86 |             0.86 | 0.86€/vnt   | 0.86€/vnt      | 2025-08-19 |               |\n",
       "|  3 | IKI    | [Džiovinti krapai, 500 g](https://www.lastmile.lt/chain/PROMO-CashandCarry/product/Dziovinti-krapai-500-g-V3641EY)                                                                      |       |    3.44 |             3.44 | 3.44€/vnt   | 3.44€/vnt      | 2025-08-19 |               |\n",
       "|  1 | MAXIMA | [Krapai WELL DONE, 30 g](https://barbora.lt/produktai/krapai-well-done-30-g)                                                                                                            |       |    0.99 |             0.99 | 33.0€/kg    | 33.0€/kg       | 2025-08-19 |               |\n",
       "|  0 | MAXIMA | [Džiovinti krapai SAUDA, 15 g](https://barbora.lt/produktai/dziovinti-krapai-sauda-15-g)                                                                                                |       |    0.55 |             0.55 | 36.67€/kg   | 36.67€/kg      | 2025-08-19 |               |\n",
       "|  4 | RIMI   | [Krapų viršūnėlės TASTE FROM GARDEN, 30 g](https://www.rimi.lt/e-parduotuve/lt/produktai/bakaleja/prieskoniai/prieskoniai-ir-zoleles/krapu-virsuneles-taste-from-garden-30-g/p/1005611) |       |    1.25 |             1.25 | 41.67€/kg   | 41.67€/kg      | 2025-08-19 |               |"
      ],
      "text/plain": [
       "<IPython.core.display.Markdown object>"
      ]
     },
     "metadata": {},
     "output_type": "display_data"
    }
   ],
   "source": [
    "df = scrape(candidates['Džiovinti krapai'], offline=False)\n",
    "display_items(df)"
   ]
  },
  {
   "cell_type": "markdown",
   "id": "c0ae8fa5-7802-47a7-be1b-cd72e9337318",
   "metadata": {},
   "source": [
    "### Example 3:"
   ]
  },
  {
   "cell_type": "code",
   "execution_count": 2,
   "id": "7462acbe-7372-4bb5-b110-bd057ecec2f5",
   "metadata": {},
   "outputs": [
    {
     "data": {
      "text/plain": [
       "['Avietės',\n",
       " 'Aviečių uogienė',\n",
       " 'Avižų gėrimas',\n",
       " 'Bananai',\n",
       " 'Bulvės',\n",
       " 'Burokėliai',\n",
       " 'Druska',\n",
       " 'Džiovinti krapai',\n",
       " 'Grietinė',\n",
       " 'Imbieras',\n",
       " 'Karis',\n",
       " 'Kefyras',\n",
       " 'Kiaušiniai',\n",
       " 'Kokosų gėrimas',\n",
       " 'Maltos aitriosios paprikos',\n",
       " 'Pienas UAT',\n",
       " 'Rausvieji svogūnai',\n",
       " 'Ridikėliai',\n",
       " 'Skumbrė',\n",
       " 'Sviestinis moliūgas',\n",
       " 'Svogūnai',\n",
       " 'Svogūnų laiškai',\n",
       " 'Trumpavaisiai agurkai',\n",
       " 'Viščiukų filė',\n",
       " 'Šilauogės',\n",
       " 'Špinatai']"
      ]
     },
     "execution_count": 2,
     "metadata": {},
     "output_type": "execute_result"
    }
   ],
   "source": [
    "sorted(candidates.keys())"
   ]
  },
  {
   "cell_type": "markdown",
   "id": "dcd16779-4da6-4831-9bc3-ebfa8bd5377a",
   "metadata": {},
   "source": [
    "## Daily USAGE\n",
    "* **Decide**. Choose `ingredients` you want to buy (HELP: [https://www.raskakcija.lt/visos-akcijos.html](https://www.raskakcija.lt/visos-akcijos.html))\n",
    "* **Update urls**. Open [`items.py`](items.py) in text editor. Include links for each new candidate if need.\n",
    "* **Update history file**. Collect catalague of `items = candidates.values()` in `offline=False` mode to make sure history file updates.\n",
    "* **Schedule your shopping**. Make a list of `items` you need to buy in each shop. Include substitute items in case you can't find main ones on the shopping route scheduled."
   ]
  },
  {
   "cell_type": "markdown",
   "id": "46aeb529-fbe4-4610-a7a7-239ab0b53cae",
   "metadata": {
    "scrolled": true
   },
   "source": [
    "### Schedule your shopping\n",
    "You can update only items you need"
   ]
  },
  {
   "cell_type": "code",
   "execution_count": 14,
   "id": "377ca71e-b73b-416a-b837-c66ad1b3693a",
   "metadata": {},
   "outputs": [
    {
     "name": "stdout",
     "output_type": "stream",
     "text": [
      "Item = VIŠČIUKŲ BLAUZDELĖS ...  Done\n",
      "url = https://www.rimi.lt/e-parduotuve/lt/produktai/mesa-ir-zuvis-/sviezia-paukstiena/vistiena/broileriu-file-gabaliukai-be-antibiotiku-500g/p/971720 DIDN'T PASS\n",
      "Done\n"
     ]
    },
    {
     "data": {
      "text/html": [
       "<div>\n",
       "<style scoped>\n",
       "    .dataframe tbody tr th:only-of-type {\n",
       "        vertical-align: middle;\n",
       "    }\n",
       "\n",
       "    .dataframe tbody tr th {\n",
       "        vertical-align: top;\n",
       "    }\n",
       "\n",
       "    .dataframe thead th {\n",
       "        text-align: right;\n",
       "    }\n",
       "</style>\n",
       "<table border=\"1\" class=\"dataframe\">\n",
       "  <thead>\n",
       "    <tr style=\"text-align: right;\">\n",
       "      <th></th>\n",
       "      <th>url</th>\n",
       "      <th>image</th>\n",
       "      <th>title</th>\n",
       "      <th>date</th>\n",
       "      <th>shop</th>\n",
       "      <th>price</th>\n",
       "      <th>comparative_unit</th>\n",
       "      <th>comparative_unit_price</th>\n",
       "      <th>discount</th>\n",
       "      <th>discount_price</th>\n",
       "      <th>comparative_unit_discount_price</th>\n",
       "      <th>valid_until</th>\n",
       "      <th>weight</th>\n",
       "    </tr>\n",
       "  </thead>\n",
       "  <tbody>\n",
       "    <tr>\n",
       "      <th>8</th>\n",
       "      <td>https://www.lastmile.lt/chain/PROMO-CashandCar...</td>\n",
       "      <td>https://firebasestorage.googleapis.com/v0/b/la...</td>\n",
       "      <td>Šviežios viščiukų broilerių blauzdelės VILNIAU...</td>\n",
       "      <td>2025-08-19</td>\n",
       "      <td>IKI</td>\n",
       "      <td>3.47</td>\n",
       "      <td>vnt</td>\n",
       "      <td>3.47</td>\n",
       "      <td>True</td>\n",
       "      <td>2.51</td>\n",
       "      <td>2.51</td>\n",
       "      <td>2025-08-19</td>\n",
       "      <td>0.50</td>\n",
       "    </tr>\n",
       "    <tr>\n",
       "      <th>6</th>\n",
       "      <td>https://www.lastmile.lt/chain/IKI/product/Visc...</td>\n",
       "      <td>https://firebasestorage.googleapis.com/v0/b/la...</td>\n",
       "      <td>Viščiukų broilerių blauzdelės CLEVER</td>\n",
       "      <td>2025-08-19</td>\n",
       "      <td>IKI</td>\n",
       "      <td>3.29</td>\n",
       "      <td>kg</td>\n",
       "      <td>3.29</td>\n",
       "      <td>False</td>\n",
       "      <td>3.29</td>\n",
       "      <td>3.29</td>\n",
       "      <td>None</td>\n",
       "      <td>1.02</td>\n",
       "    </tr>\n",
       "    <tr>\n",
       "      <th>2</th>\n",
       "      <td>https://barbora.lt/produktai/sviezios-visciuku...</td>\n",
       "      <td>https://cdn.barbora.lt/products/87902a59-f768-...</td>\n",
       "      <td>Šviežios viščiukų broilerių blauzdelės WELL DO...</td>\n",
       "      <td>2025-08-19</td>\n",
       "      <td>MAXIMA</td>\n",
       "      <td>3.29</td>\n",
       "      <td>kg</td>\n",
       "      <td>3.29</td>\n",
       "      <td>False</td>\n",
       "      <td>3.29</td>\n",
       "      <td>3.29</td>\n",
       "      <td>None</td>\n",
       "      <td>NaN</td>\n",
       "    </tr>\n",
       "    <tr>\n",
       "      <th>9</th>\n",
       "      <td>https://www.lastmile.lt/chain/PROMO-CashandCar...</td>\n",
       "      <td>https://firebasestorage.googleapis.com/v0/b/la...</td>\n",
       "      <td>Šviežios viščiukų broilerių blauzdelės VILNIAU...</td>\n",
       "      <td>2025-08-19</td>\n",
       "      <td>IKI</td>\n",
       "      <td>3.59</td>\n",
       "      <td>vnt</td>\n",
       "      <td>3.59</td>\n",
       "      <td>False</td>\n",
       "      <td>3.59</td>\n",
       "      <td>3.59</td>\n",
       "      <td>None</td>\n",
       "      <td>0.50</td>\n",
       "    </tr>\n",
       "    <tr>\n",
       "      <th>11</th>\n",
       "      <td>https://www.rimi.lt/e-parduotuve/lt/produktai/...</td>\n",
       "      <td>https://rimibaltic-res.cloudinary.com/image/up...</td>\n",
       "      <td>Viščiukų broilerių blauzdelės RIMI,A,1kg</td>\n",
       "      <td>2025-08-19</td>\n",
       "      <td>RIMI</td>\n",
       "      <td>3.89</td>\n",
       "      <td>kg</td>\n",
       "      <td>3.89</td>\n",
       "      <td>False</td>\n",
       "      <td>3.89</td>\n",
       "      <td>3.89</td>\n",
       "      <td>None</td>\n",
       "      <td>1.00</td>\n",
       "    </tr>\n",
       "    <tr>\n",
       "      <th>0</th>\n",
       "      <td>https://barbora.lt/produktai/visciuku-blauzdel...</td>\n",
       "      <td>https://cdn.barbora.lt/products/ca62d055-d964-...</td>\n",
       "      <td>Viščiukų blauzdelės FIESTA su česnakiniu marin...</td>\n",
       "      <td>2025-08-19</td>\n",
       "      <td>MAXIMA</td>\n",
       "      <td>4.49</td>\n",
       "      <td>kg</td>\n",
       "      <td>5.28</td>\n",
       "      <td>True</td>\n",
       "      <td>3.59</td>\n",
       "      <td>4.22</td>\n",
       "      <td>2025-08-25</td>\n",
       "      <td>NaN</td>\n",
       "    </tr>\n",
       "    <tr>\n",
       "      <th>7</th>\n",
       "      <td>https://www.lastmile.lt/chain/PROMO-CashandCar...</td>\n",
       "      <td>https://storage.googleapis.com/download/storag...</td>\n",
       "      <td>Šaldytos viščiukų broilerių blauzdelės, ROG</td>\n",
       "      <td>2025-08-19</td>\n",
       "      <td>IKI</td>\n",
       "      <td>4.47</td>\n",
       "      <td>kg</td>\n",
       "      <td>4.47</td>\n",
       "      <td>False</td>\n",
       "      <td>4.47</td>\n",
       "      <td>4.47</td>\n",
       "      <td>None</td>\n",
       "      <td>1.00</td>\n",
       "    </tr>\n",
       "    <tr>\n",
       "      <th>1</th>\n",
       "      <td>https://barbora.lt/produktai/sviezios-visciuku...</td>\n",
       "      <td>https://cdn.barbora.lt/products/9ad84447-5684-...</td>\n",
       "      <td>Šviežios viščiukų broilerių blauzdelės WELL DO...</td>\n",
       "      <td>2025-08-19</td>\n",
       "      <td>MAXIMA</td>\n",
       "      <td>2.29</td>\n",
       "      <td>kg</td>\n",
       "      <td>4.58</td>\n",
       "      <td>False</td>\n",
       "      <td>2.29</td>\n",
       "      <td>4.58</td>\n",
       "      <td>None</td>\n",
       "      <td>NaN</td>\n",
       "    </tr>\n",
       "    <tr>\n",
       "      <th>3</th>\n",
       "      <td>https://barbora.lt/produktai/sv-visciuku-broil...</td>\n",
       "      <td>https://cdn.barbora.lt/products/e9c5406a-9e63-...</td>\n",
       "      <td>Šv. viščiukų broilerių blauzdelės, užauginta b...</td>\n",
       "      <td>2025-08-19</td>\n",
       "      <td>MAXIMA</td>\n",
       "      <td>4.69</td>\n",
       "      <td>kg</td>\n",
       "      <td>4.69</td>\n",
       "      <td>False</td>\n",
       "      <td>4.69</td>\n",
       "      <td>4.69</td>\n",
       "      <td>None</td>\n",
       "      <td>NaN</td>\n",
       "    </tr>\n",
       "    <tr>\n",
       "      <th>12</th>\n",
       "      <td>https://www.rimi.lt/e-parduotuve/lt/produktai/...</td>\n",
       "      <td>https://rimibaltic-res.cloudinary.com/image/up...</td>\n",
       "      <td>Švž.viščiukų broilerių blauzd.be ant.RIMI,1kg</td>\n",
       "      <td>2025-08-19</td>\n",
       "      <td>RIMI</td>\n",
       "      <td>4.79</td>\n",
       "      <td>kg</td>\n",
       "      <td>4.79</td>\n",
       "      <td>False</td>\n",
       "      <td>4.79</td>\n",
       "      <td>4.79</td>\n",
       "      <td>None</td>\n",
       "      <td>1.00</td>\n",
       "    </tr>\n",
       "    <tr>\n",
       "      <th>13</th>\n",
       "      <td>https://www.rimi.lt/e-parduotuve/lt/produktai/...</td>\n",
       "      <td>https://rimibaltic-res.cloudinary.com/image/up...</td>\n",
       "      <td>Višč. br. blauzdelės be sąn. RIMI, A kl. 500g</td>\n",
       "      <td>2025-08-19</td>\n",
       "      <td>RIMI</td>\n",
       "      <td>2.69</td>\n",
       "      <td>kg</td>\n",
       "      <td>5.38</td>\n",
       "      <td>False</td>\n",
       "      <td>2.69</td>\n",
       "      <td>5.38</td>\n",
       "      <td>None</td>\n",
       "      <td>0.50</td>\n",
       "    </tr>\n",
       "    <tr>\n",
       "      <th>5</th>\n",
       "      <td>https://www.lastmile.lt/chain/IKI/product/Svie...</td>\n",
       "      <td>https://storage.googleapis.com/download/storag...</td>\n",
       "      <td>Šviežios viščiukų broilerių blauzdelės IKI MĖS...</td>\n",
       "      <td>2025-08-19</td>\n",
       "      <td>IKI</td>\n",
       "      <td>2.99</td>\n",
       "      <td>kg</td>\n",
       "      <td>5.98</td>\n",
       "      <td>False</td>\n",
       "      <td>2.99</td>\n",
       "      <td>5.98</td>\n",
       "      <td>None</td>\n",
       "      <td>0.52</td>\n",
       "    </tr>\n",
       "    <tr>\n",
       "      <th>4</th>\n",
       "      <td>https://barbora.lt/produktai/svz-broileriu-uza...</td>\n",
       "      <td>https://cdn.barbora.lt/products/d82f0b0e-abb4-...</td>\n",
       "      <td>Švž. broilerių, užaugintų be antibiotikų, blau...</td>\n",
       "      <td>2025-08-19</td>\n",
       "      <td>MAXIMA</td>\n",
       "      <td>2.99</td>\n",
       "      <td>kg</td>\n",
       "      <td>5.98</td>\n",
       "      <td>False</td>\n",
       "      <td>2.99</td>\n",
       "      <td>5.98</td>\n",
       "      <td>None</td>\n",
       "      <td>NaN</td>\n",
       "    </tr>\n",
       "    <tr>\n",
       "      <th>10</th>\n",
       "      <td>https://www.rimi.lt/e-parduotuve/lt/produktai/...</td>\n",
       "      <td>https://rimibaltic-res.cloudinary.com/image/up...</td>\n",
       "      <td>Broilerių blauzdelės be sąn. be ant. VP, 500g</td>\n",
       "      <td>2025-08-19</td>\n",
       "      <td>RIMI</td>\n",
       "      <td>3.49</td>\n",
       "      <td>kg</td>\n",
       "      <td>6.98</td>\n",
       "      <td>False</td>\n",
       "      <td>3.49</td>\n",
       "      <td>6.98</td>\n",
       "      <td>None</td>\n",
       "      <td>0.50</td>\n",
       "    </tr>\n",
       "  </tbody>\n",
       "</table>\n",
       "</div>"
      ],
      "text/plain": [
       "                                                  url  \\\n",
       "8   https://www.lastmile.lt/chain/PROMO-CashandCar...   \n",
       "6   https://www.lastmile.lt/chain/IKI/product/Visc...   \n",
       "2   https://barbora.lt/produktai/sviezios-visciuku...   \n",
       "9   https://www.lastmile.lt/chain/PROMO-CashandCar...   \n",
       "11  https://www.rimi.lt/e-parduotuve/lt/produktai/...   \n",
       "0   https://barbora.lt/produktai/visciuku-blauzdel...   \n",
       "7   https://www.lastmile.lt/chain/PROMO-CashandCar...   \n",
       "1   https://barbora.lt/produktai/sviezios-visciuku...   \n",
       "3   https://barbora.lt/produktai/sv-visciuku-broil...   \n",
       "12  https://www.rimi.lt/e-parduotuve/lt/produktai/...   \n",
       "13  https://www.rimi.lt/e-parduotuve/lt/produktai/...   \n",
       "5   https://www.lastmile.lt/chain/IKI/product/Svie...   \n",
       "4   https://barbora.lt/produktai/svz-broileriu-uza...   \n",
       "10  https://www.rimi.lt/e-parduotuve/lt/produktai/...   \n",
       "\n",
       "                                                image  \\\n",
       "8   https://firebasestorage.googleapis.com/v0/b/la...   \n",
       "6   https://firebasestorage.googleapis.com/v0/b/la...   \n",
       "2   https://cdn.barbora.lt/products/87902a59-f768-...   \n",
       "9   https://firebasestorage.googleapis.com/v0/b/la...   \n",
       "11  https://rimibaltic-res.cloudinary.com/image/up...   \n",
       "0   https://cdn.barbora.lt/products/ca62d055-d964-...   \n",
       "7   https://storage.googleapis.com/download/storag...   \n",
       "1   https://cdn.barbora.lt/products/9ad84447-5684-...   \n",
       "3   https://cdn.barbora.lt/products/e9c5406a-9e63-...   \n",
       "12  https://rimibaltic-res.cloudinary.com/image/up...   \n",
       "13  https://rimibaltic-res.cloudinary.com/image/up...   \n",
       "5   https://storage.googleapis.com/download/storag...   \n",
       "4   https://cdn.barbora.lt/products/d82f0b0e-abb4-...   \n",
       "10  https://rimibaltic-res.cloudinary.com/image/up...   \n",
       "\n",
       "                                                title        date    shop  \\\n",
       "8   Šviežios viščiukų broilerių blauzdelės VILNIAU...  2025-08-19     IKI   \n",
       "6                Viščiukų broilerių blauzdelės CLEVER  2025-08-19     IKI   \n",
       "2   Šviežios viščiukų broilerių blauzdelės WELL DO...  2025-08-19  MAXIMA   \n",
       "9   Šviežios viščiukų broilerių blauzdelės VILNIAU...  2025-08-19     IKI   \n",
       "11           Viščiukų broilerių blauzdelės RIMI,A,1kg  2025-08-19    RIMI   \n",
       "0   Viščiukų blauzdelės FIESTA su česnakiniu marin...  2025-08-19  MAXIMA   \n",
       "7         Šaldytos viščiukų broilerių blauzdelės, ROG  2025-08-19     IKI   \n",
       "1   Šviežios viščiukų broilerių blauzdelės WELL DO...  2025-08-19  MAXIMA   \n",
       "3   Šv. viščiukų broilerių blauzdelės, užauginta b...  2025-08-19  MAXIMA   \n",
       "12      Švž.viščiukų broilerių blauzd.be ant.RIMI,1kg  2025-08-19    RIMI   \n",
       "13      Višč. br. blauzdelės be sąn. RIMI, A kl. 500g  2025-08-19    RIMI   \n",
       "5   Šviežios viščiukų broilerių blauzdelės IKI MĖS...  2025-08-19     IKI   \n",
       "4   Švž. broilerių, užaugintų be antibiotikų, blau...  2025-08-19  MAXIMA   \n",
       "10      Broilerių blauzdelės be sąn. be ant. VP, 500g  2025-08-19    RIMI   \n",
       "\n",
       "    price comparative_unit  comparative_unit_price  discount  discount_price  \\\n",
       "8    3.47              vnt                    3.47      True            2.51   \n",
       "6    3.29               kg                    3.29     False            3.29   \n",
       "2    3.29               kg                    3.29     False            3.29   \n",
       "9    3.59              vnt                    3.59     False            3.59   \n",
       "11   3.89               kg                    3.89     False            3.89   \n",
       "0    4.49               kg                    5.28      True            3.59   \n",
       "7    4.47               kg                    4.47     False            4.47   \n",
       "1    2.29               kg                    4.58     False            2.29   \n",
       "3    4.69               kg                    4.69     False            4.69   \n",
       "12   4.79               kg                    4.79     False            4.79   \n",
       "13   2.69               kg                    5.38     False            2.69   \n",
       "5    2.99               kg                    5.98     False            2.99   \n",
       "4    2.99               kg                    5.98     False            2.99   \n",
       "10   3.49               kg                    6.98     False            3.49   \n",
       "\n",
       "    comparative_unit_discount_price valid_until  weight  \n",
       "8                              2.51  2025-08-19    0.50  \n",
       "6                              3.29        None    1.02  \n",
       "2                              3.29        None     NaN  \n",
       "9                              3.59        None    0.50  \n",
       "11                             3.89        None    1.00  \n",
       "0                              4.22  2025-08-25     NaN  \n",
       "7                              4.47        None    1.00  \n",
       "1                              4.58        None     NaN  \n",
       "3                              4.69        None     NaN  \n",
       "12                             4.79        None    1.00  \n",
       "13                             5.38        None    0.50  \n",
       "5                              5.98        None    0.52  \n",
       "4                              5.98        None     NaN  \n",
       "10                             6.98        None    0.50  "
      ]
     },
     "execution_count": 14,
     "metadata": {},
     "output_type": "execute_result"
    }
   ],
   "source": [
    "items = ('Viščiukų blauzdelės', 'Viščiukų filė')\n",
    "## Run online search if need updates; see if any error happens\n",
    "#catalogue = collect_catalogue(items=items, offline=False)\n",
    "#If allgood run it offline\n",
    "catalogue = collect_catalogue(items=items, offline=False)\n",
    "#display_catalogue(catalogue)\n",
    "catalogue['Viščiukų blauzdelės']"
   ]
  },
  {
   "cell_type": "code",
   "execution_count": null,
   "id": "c68bb348-e38f-4cbe-9c5f-89478880069e",
   "metadata": {},
   "outputs": [],
   "source": [
    "def schedule_shopping(df, choice, route):  \n",
    "    mapper = {n:i for i, n in enumerate(route)} \n",
    "    subs = []\n",
    "    for n in choice:\n",
    "        sub = df.loc[n]\n",
    "        sub['visit_id'] = sub['shop'].map(mapper) + 1\n",
    "        sub['priority_id'] = sub['shop'].map(mapper).argsort() + 1\n",
    "        subs.append(sub)\n",
    "    return pd.concat(subs).sort_values(by = ['visit_id', 'priority_id'])\n",
    "\n",
    "df = pd.concat(catalogue.values())\n",
    "choice = [[207, 208, 209], [223], [261, 262], [226], [258], [196], [192, 191]]\n",
    "route = ['MAXIMA', 'IKI', 'RIMI']\n",
    "display_items(schedule_shopping(df, choice, route), \n",
    "              extra_columns=['visit_id', 'priority_id'])"
   ]
  },
  {
   "cell_type": "code",
   "execution_count": 9,
   "id": "5bd3016f-ba3a-4cba-8fcd-03e788f0a6e8",
   "metadata": {},
   "outputs": [],
   "source": [
    "#Kas tai per dalykas yra pasukos?\n",
    "#Kuo skiriasi šaltibarščių kefyras nuo paprasto?\n",
    "#Try: avižų ir braškių - ban. sulčių gėr CIDO\n",
    "#https://www.rimi.lt/e-parduotuve/lt/produktai/augaliniai-produktai/augalinibai-gerimai/augaliniai-kavos-gerimai/avizu-ir-braskiu---ban-sulciu-ger-cido-1-l/p/1019843"
   ]
  },
  {
   "cell_type": "markdown",
   "id": "d609946b-0c71-4d48-83fd-e2073f1b2cc5",
   "metadata": {},
   "source": [
    "### Update history file\n",
    "Update every item on a database (set `offline=False`). Meanwhile `offline=True` allows to see expected prices."
   ]
  },
  {
   "cell_type": "code",
   "execution_count": null,
   "id": "3c34f512-e471-4140-a208-0c2f3ddc582a",
   "metadata": {},
   "outputs": [
    {
     "name": "stdout",
     "output_type": "stream",
     "text": [
      "Item = SKUMBRĖ ...  "
     ]
    }
   ],
   "source": [
    "items = candidates.keys()\n",
    "catalogue = collect_catalogue(items=items, offline=False)\n",
    "#display_catalogue(catalogue)\n",
    "#or: \n",
    "display_items(pd.concat(catalogue.values()))\n",
    "\n",
    "#ISSUES\n",
    "#https://www.rimi.lt/e-parduotuve/lt/produktai/vaisiai-darzoves-ir-geles/vaisiai-ir-uogos/uogos/avietes-rimi-225g/p/988086"
   ]
  },
  {
   "cell_type": "markdown",
   "id": "87ead003-76ad-48e1-8b8a-6b11d06e8982",
   "metadata": {},
   "source": [
    "## Extra USAGE"
   ]
  },
  {
   "cell_type": "code",
   "execution_count": 2,
   "id": "e184c21f-0860-4db2-8c5e-04886c7e32a1",
   "metadata": {},
   "outputs": [
    {
     "data": {
      "text/html": [
       "<div>\n",
       "<style scoped>\n",
       "    .dataframe tbody tr th:only-of-type {\n",
       "        vertical-align: middle;\n",
       "    }\n",
       "\n",
       "    .dataframe tbody tr th {\n",
       "        vertical-align: top;\n",
       "    }\n",
       "\n",
       "    .dataframe thead th {\n",
       "        text-align: right;\n",
       "    }\n",
       "</style>\n",
       "<table border=\"1\" class=\"dataframe\">\n",
       "  <thead>\n",
       "    <tr style=\"text-align: right;\">\n",
       "      <th></th>\n",
       "      <th>amount</th>\n",
       "      <th>units</th>\n",
       "      <th>name</th>\n",
       "    </tr>\n",
       "  </thead>\n",
       "  <tbody>\n",
       "    <tr>\n",
       "      <th>0</th>\n",
       "      <td>1.00</td>\n",
       "      <td>kg</td>\n",
       "      <td>Bulvės</td>\n",
       "    </tr>\n",
       "    <tr>\n",
       "      <th>1</th>\n",
       "      <td>1.00</td>\n",
       "      <td>kg</td>\n",
       "      <td>Kefyras</td>\n",
       "    </tr>\n",
       "    <tr>\n",
       "      <th>2</th>\n",
       "      <td>0.40</td>\n",
       "      <td>l</td>\n",
       "      <td>Pienas UAT</td>\n",
       "    </tr>\n",
       "    <tr>\n",
       "      <th>3</th>\n",
       "      <td>0.20</td>\n",
       "      <td>kg</td>\n",
       "      <td>Burokėliai</td>\n",
       "    </tr>\n",
       "    <tr>\n",
       "      <th>4</th>\n",
       "      <td>0.20</td>\n",
       "      <td>kg</td>\n",
       "      <td>Trumpavaisiai agurkai</td>\n",
       "    </tr>\n",
       "    <tr>\n",
       "      <th>5</th>\n",
       "      <td>3.00</td>\n",
       "      <td>vnt.</td>\n",
       "      <td>Kiaušiniai</td>\n",
       "    </tr>\n",
       "    <tr>\n",
       "      <th>6</th>\n",
       "      <td>0.07</td>\n",
       "      <td>kg</td>\n",
       "      <td>Svogūnų laiškai</td>\n",
       "    </tr>\n",
       "    <tr>\n",
       "      <th>7</th>\n",
       "      <td>NaN</td>\n",
       "      <td>None</td>\n",
       "      <td>Džiovinti krapai</td>\n",
       "    </tr>\n",
       "    <tr>\n",
       "      <th>8</th>\n",
       "      <td>NaN</td>\n",
       "      <td>None</td>\n",
       "      <td>Druska</td>\n",
       "    </tr>\n",
       "  </tbody>\n",
       "</table>\n",
       "</div>"
      ],
      "text/plain": [
       "   amount units                   name\n",
       "0    1.00    kg                 Bulvės\n",
       "1    1.00    kg                Kefyras\n",
       "2    0.40     l             Pienas UAT\n",
       "3    0.20    kg             Burokėliai\n",
       "4    0.20    kg  Trumpavaisiai agurkai\n",
       "5    3.00  vnt.             Kiaušiniai\n",
       "6    0.07    kg        Svogūnų laiškai\n",
       "7     NaN  None       Džiovinti krapai\n",
       "8     NaN  None                 Druska"
      ]
     },
     "execution_count": 2,
     "metadata": {},
     "output_type": "execute_result"
    }
   ],
   "source": [
    "from recipe_formatter import normalise_recipe, parse_recipe\n",
    "df = normalise_recipe(parse_recipe(r'recipes\\Šaltibarščiai.txt'))\n",
    "df"
   ]
  },
  {
   "cell_type": "code",
   "execution_count": 13,
   "id": "6788f876-0185-44fa-ac81-4f85ad64709a",
   "metadata": {},
   "outputs": [
    {
     "data": {
      "text/html": [
       "<div>\n",
       "<style scoped>\n",
       "    .dataframe tbody tr th:only-of-type {\n",
       "        vertical-align: middle;\n",
       "    }\n",
       "\n",
       "    .dataframe tbody tr th {\n",
       "        vertical-align: top;\n",
       "    }\n",
       "\n",
       "    .dataframe thead th {\n",
       "        text-align: right;\n",
       "    }\n",
       "</style>\n",
       "<table border=\"1\" class=\"dataframe\">\n",
       "  <thead>\n",
       "    <tr style=\"text-align: right;\">\n",
       "      <th></th>\n",
       "      <th>amount</th>\n",
       "      <th>units</th>\n",
       "      <th>name</th>\n",
       "      <th>price</th>\n",
       "      <th>discount_price</th>\n",
       "      <th>discount</th>\n",
       "    </tr>\n",
       "  </thead>\n",
       "  <tbody>\n",
       "    <tr>\n",
       "      <th>0</th>\n",
       "      <td>1.00</td>\n",
       "      <td>kg</td>\n",
       "      <td>Bulvės</td>\n",
       "      <td>0.56</td>\n",
       "      <td>0.49</td>\n",
       "      <td>0.07</td>\n",
       "    </tr>\n",
       "    <tr>\n",
       "      <th>1</th>\n",
       "      <td>1.00</td>\n",
       "      <td>kg</td>\n",
       "      <td>Kefyras</td>\n",
       "      <td>0.82</td>\n",
       "      <td>0.82</td>\n",
       "      <td>0.00</td>\n",
       "    </tr>\n",
       "    <tr>\n",
       "      <th>2</th>\n",
       "      <td>0.40</td>\n",
       "      <td>l</td>\n",
       "      <td>Pienas UAT</td>\n",
       "      <td>0.40</td>\n",
       "      <td>0.40</td>\n",
       "      <td>0.00</td>\n",
       "    </tr>\n",
       "    <tr>\n",
       "      <th>3</th>\n",
       "      <td>0.20</td>\n",
       "      <td>kg</td>\n",
       "      <td>Burokėliai</td>\n",
       "      <td>0.16</td>\n",
       "      <td>0.16</td>\n",
       "      <td>0.00</td>\n",
       "    </tr>\n",
       "    <tr>\n",
       "      <th>4</th>\n",
       "      <td>0.20</td>\n",
       "      <td>kg</td>\n",
       "      <td>Trumpavaisiai agurkai</td>\n",
       "      <td>0.60</td>\n",
       "      <td>0.40</td>\n",
       "      <td>0.20</td>\n",
       "    </tr>\n",
       "    <tr>\n",
       "      <th>5</th>\n",
       "      <td>3.00</td>\n",
       "      <td>vnt.</td>\n",
       "      <td>Kiaušiniai</td>\n",
       "      <td>0.66</td>\n",
       "      <td>0.66</td>\n",
       "      <td>0.00</td>\n",
       "    </tr>\n",
       "    <tr>\n",
       "      <th>6</th>\n",
       "      <td>0.07</td>\n",
       "      <td>kg</td>\n",
       "      <td>Svogūnų laiškai</td>\n",
       "      <td>0.49</td>\n",
       "      <td>0.49</td>\n",
       "      <td>0.00</td>\n",
       "    </tr>\n",
       "    <tr>\n",
       "      <th>7</th>\n",
       "      <td>NaN</td>\n",
       "      <td>None</td>\n",
       "      <td>Džiovinti krapai</td>\n",
       "      <td>NaN</td>\n",
       "      <td>NaN</td>\n",
       "      <td>NaN</td>\n",
       "    </tr>\n",
       "    <tr>\n",
       "      <th>8</th>\n",
       "      <td>NaN</td>\n",
       "      <td>None</td>\n",
       "      <td>Druska</td>\n",
       "      <td>NaN</td>\n",
       "      <td>NaN</td>\n",
       "      <td>NaN</td>\n",
       "    </tr>\n",
       "  </tbody>\n",
       "</table>\n",
       "</div>"
      ],
      "text/plain": [
       "   amount units                   name  price  discount_price  discount\n",
       "0    1.00    kg                 Bulvės   0.56            0.49      0.07\n",
       "1    1.00    kg                Kefyras   0.82            0.82      0.00\n",
       "2    0.40     l             Pienas UAT   0.40            0.40      0.00\n",
       "3    0.20    kg             Burokėliai   0.16            0.16      0.00\n",
       "4    0.20    kg  Trumpavaisiai agurkai   0.60            0.40      0.20\n",
       "5    3.00  vnt.             Kiaušiniai   0.66            0.66      0.00\n",
       "6    0.07    kg        Svogūnų laiškai   0.49            0.49      0.00\n",
       "7     NaN  None       Džiovinti krapai    NaN             NaN       NaN\n",
       "8     NaN  None                 Druska    NaN             NaN       NaN"
      ]
     },
     "metadata": {},
     "output_type": "display_data"
    },
    {
     "name": "stdout",
     "output_type": "stream",
     "text": [
      "['Bulvės', 'Kefyras', 'Pienas UAT', 'Burokėliai', 'Trumpavaisiai agurkai', 'Kiaušiniai', 'Svogūnų laiškai', 'Džiovinti krapai', 'Druska']\n",
      "KAINA: 3.69\n",
      "NUOLAIDOS: 0.27\n",
      "SVORIS: 2.87\n"
     ]
    }
   ],
   "source": [
    "from recipe_formatter import normalise_recipe, parse_recipe\n",
    "\n",
    "def investigate_recipe(name, offline=True):\n",
    "    recipe_data = parse_recipe(name)\n",
    "    recipe_df = normalise_recipe(recipe_data)\n",
    "    #display(recipe_df)\n",
    "    catalogue = collect_catalogue(items=recipe_df['name'], offline=offline, ignore_missing=True)\n",
    "    if catalogue:\n",
    "        prices, discount_prices, discounts = [], [], []\n",
    "        for weight, unit, title in recipe_df.values:\n",
    "            price = None\n",
    "            discount_price = None\n",
    "            discount = None\n",
    "            \n",
    "            if title not in catalogue:\n",
    "                pass\n",
    "                #print('Please update candidate file with:', title)\n",
    "\n",
    "            elif unit is None:\n",
    "                pass\n",
    "                \n",
    "            elif not(all(catalogue[title]['comparative_unit'].isin([unit.replace('.', ''), \n",
    "                                                                  unit.replace('.', '')+'.']))):\n",
    "                print(f'Inconsistent weight units: [{title}] is in {unit} but catalogue contains:', \n",
    "                      catalogue[title]['comparative_unit'].tolist())\n",
    "            else:\n",
    "                #display_items(catalogue[title])\n",
    "                price = weight * catalogue[title]['comparative_unit_price'].min()\n",
    "                discount_price = weight * catalogue[title]['comparative_unit_discount_price'].min()\n",
    "                discount = price - discount_price\n",
    "            prices.append(price)\n",
    "            discount_prices.append(discount_price)\n",
    "            discounts.append(discount)\n",
    "            \n",
    "        recipe_df['price'] = [round(n, 2) if n else n for n in prices]\n",
    "        recipe_df['discount_price'] = [round(n, 2) if n else n for n in discount_prices]\n",
    "        recipe_df['discount'] = [round(n, 2) if n else n for n in discounts]\n",
    "        return recipe_df\n",
    "\n",
    "df = investigate_recipe(r'recipes\\Šaltibarščiai.txt', offline=True)\n",
    "display(df)\n",
    "print(df['name'].tolist())\n",
    "print('KAINA:', round(df['price'].sum(), 2))\n",
    "print('NUOLAIDOS:', round(df['discount'].sum(), 2))\n",
    "print('SVORIS:', round(df.loc[df['units'].isin(['kg', 'l']), 'amount'].sum(), 2))"
   ]
  },
  {
   "cell_type": "code",
   "execution_count": 10,
   "id": "9d217a3a-7dd2-4b89-ab7d-45a3254bb65b",
   "metadata": {},
   "outputs": [
    {
     "name": "stdout",
     "output_type": "stream",
     "text": [
      "['Bulvės', 'Kefyras', 'Pienas UAT', 'Burokėliai', 'Trumpavaisiai agurkai', 'Kiaušiniai', 'Svogūnų laiškai', 'Džiovinti krapai', 'Druska']\n",
      "KAINA: 3.69\n",
      "NUOLAIDOS: 0.27\n",
      "SVORIS: 2.87\n"
     ]
    }
   ],
   "source": [
    "print(df['name'].tolist())\n",
    "print('KAINA:', round(df['price'].sum(), 2))\n",
    "print('NUOLAIDOS:', round(df['discount'].sum(), 2))\n",
    "print('SVORIS:', round(df.loc[df['units'].isin(['kg', 'l']), 'amount'].sum(), 2))"
   ]
  },
  {
   "cell_type": "code",
   "execution_count": 11,
   "id": "1a77b66b-9b75-434c-8c4a-fd3cd1398904",
   "metadata": {},
   "outputs": [
    {
     "name": "stdout",
     "output_type": "stream",
     "text": [
      "Please add urls for items: ['Pienas']\n"
     ]
    },
    {
     "data": {
      "text/markdown": [
       "|     | shop   | title                                                                                                                                                                                                   | off    |   price |   discount_price | price_per   | discount_per   | date       | valid_until   |\n",
       "|----:|:-------|:--------------------------------------------------------------------------------------------------------------------------------------------------------------------------------------------------------|:-------|--------:|-----------------:|:------------|:---------------|:-----------|:--------------|\n",
       "| 315 | IKI    | [Sveriamos bulvės CLEVER ](https://www.lastmile.lt/chain/IKI/product/Sveriamos-bulves-CLEVER-255264)                                                                                                    | -50.5% |    0.99 |             0.49 | 0.99€/kg    | 0.49€/kg       | 2025-08-17 | 2025-08-17    |\n",
       "| 316 | IKI    | [Sveriamos bulvės, 50-70 mm, I klasė, kg](https://www.lastmile.lt/chain/PROMO-CashandCarry/product/Sveriamos-bulves-50-70-mm-I-klase-kg-X401739)                                                        |        |    0.56 |             0.56 | 0.56€/kg    | 0.56€/kg       | 2025-08-17 | nan           |\n",
       "| 317 | MAXIMA | [Lietuviškos šviežios bulvės, 40-60 mm, 1 kg](https://barbora.lt/produktai/lietuviskos-sviezios-bulves-40-60-mm-1-kg-90335)                                                                             |        |    0.75 |             0.75 | 0.75€/kg    | 0.75€/kg       | 2025-08-17 | nan           |\n",
       "| 318 | RIMI   | [Šviežios lietuviškos fasuotos bulvės 45+, 1kg](https://www.rimi.lt/e-parduotuve/lt/produktai/vaisiai-darzoves-ir-geles/darzoves-ir-grybai/bulves/sviezios-lietuviskos-fasuotos-bulves-45-1kg/p/244697) |        |    1.35 |             1.35 | 1.35€/kg    | 1.35€/kg       | 2025-08-17 | nan           |"
      ],
      "text/plain": [
       "<IPython.core.display.Markdown object>"
      ]
     },
     "metadata": {},
     "output_type": "display_data"
    },
    {
     "data": {
      "text/markdown": [
       "|     | shop   | title                                                                                                                                                                                                   | off   |   price |   discount_price | price_per   | discount_per   | date       |   valid_until |\n",
       "|----:|:-------|:--------------------------------------------------------------------------------------------------------------------------------------------------------------------------------------------------------|:------|--------:|-----------------:|:------------|:---------------|:-----------|--------------:|\n",
       "| 319 | RIMI   | [Kefyras RIMI SMART, 2,5 % rieb., 0,9 kg](https://www.rimi.lt/e-parduotuve/lt/produktai/pieno-produktai-ir-kiausiniai/kefyras-rugpienis-ir-pasukos/kefyras/kefyras-rimi-smart-2-5-rieb-0-9-kg/p/804862) |       |    0.74 |             0.74 | 0.82€/kg    | 0.82€/kg       | 2025-08-17 |           nan |\n",
       "| 320 | MAXIMA | [Kefyras FARM MILK, 2,5 % rieb., 1 kg](https://barbora.lt/produktai/kefyras-farm-milk-2-5-proc-rieb-1-kg)                                                                                               |       |    0.85 |             0.85 | 0.85€/kg    | 0.85€/kg       | 2025-08-17 |           nan |\n",
       "| 321 | IKI    | [Kefyras 2,5% rieb. CLEVER, 900 g](https://www.lastmile.lt/chain/IKI/product/Kefyras-25percent-rieb-CLEVER-900-g-252431)                                                                                |       |    0.79 |             0.79 | 0.88€/kg    | 0.88€/kg       | 2025-08-17 |           nan |\n",
       "| 322 | MAXIMA | [Kefyras FARM MILK, 2 % rieb., 1 kg](https://barbora.lt/produktai/kefyras-farm-milk-2-proc-rieb-1-kg)                                                                                                   |       |    0.95 |             0.95 | 0.95€/kg    | 0.95€/kg       | 2025-08-17 |           nan |\n",
       "| 323 | MAXIMA | [Šaltibarščių kefyras WELL DONE, 5 % rieb., 1 kg](https://barbora.lt/produktai/saltibarsciu-kefyras-well-done-5-proc-rieb-1-kg)                                                                         |       |    1.49 |             1.49 | 1.49€/kg    | 1.49€/kg       | 2025-08-17 |           nan |\n",
       "| 324 | IKI    | [Šaltibarščių kefyras ŽALOJI KARVUTĖ, 5% rieb., 1 kg](https://www.lastmile.lt/chain/IKI/product/Saltibarsciu-kefyras-ZALOJI-KARVUTE-5percent-rieb-1-kg-61058)                                           |       |    1.59 |             1.59 | 1.59€/kg    | 1.59€/kg       | 2025-08-17 |           nan |"
      ],
      "text/plain": [
       "<IPython.core.display.Markdown object>"
      ]
     },
     "metadata": {},
     "output_type": "display_data"
    },
    {
     "data": {
      "text/markdown": [
       "|     | shop   | title                                                                                                                                                                                          | off   |   price |   discount_price | price_per   | discount_per   | date       |   valid_until |\n",
       "|----:|:-------|:-----------------------------------------------------------------------------------------------------------------------------------------------------------------------------------------------|:------|--------:|-----------------:|:------------|:---------------|:-----------|--------------:|\n",
       "| 328 | MAXIMA | [Lietuviški burokėliai, 1 kg](https://barbora.lt/produktai/lietuviski-burokeliai-1-kg)                                                                                                         |       |    0.79 |             0.79 | 0.79€/kg    | 0.79€/kg       | 2025-08-17 |           nan |\n",
       "| 329 | RIMI   | [Lietuviški burokėliai, 1 kg](https://www.rimi.lt/e-parduotuve/lt/produktai/vaisiai-darzoves-ir-geles/darzoves-ir-grybai/burokeliai-ir-kiti-sakniavaisiai/lietuviski-burokeliai-1-kg/p/920730) |       |    0.79 |             0.79 | 0.79€/kg    | 0.79€/kg       | 2025-08-17 |           nan |\n",
       "| 330 | IKI    | [Burokėliai CLEVER ](https://www.lastmile.lt/chain/IKI/product/Burokeliai-CLEVER-256255)                                                                                                       |       |    0.99 |             0.99 | 0.99€/kg    | 0.99€/kg       | 2025-08-17 |           nan |"
      ],
      "text/plain": [
       "<IPython.core.display.Markdown object>"
      ]
     },
     "metadata": {},
     "output_type": "display_data"
    },
    {
     "data": {
      "text/markdown": [
       "|     | shop   | title                                                                                                                                                                                                      | off    |   price |   discount_price | price_per   | discount_per   | date       | valid_until   |\n",
       "|----:|:-------|:-----------------------------------------------------------------------------------------------------------------------------------------------------------------------------------------------------------|:-------|--------:|-----------------:|:------------|:---------------|:-----------|:--------------|\n",
       "| 331 | IKI    | [Lietuviški trumpavaisiai agurkai ](https://www.lastmile.lt/chain/IKI/product/Lietuviski-trumpavaisiai-agurkai-2488)                                                                                       | -39.5% |    3.29 |             1.99 | 3.29€/kg    | 1.99€/kg       | 2025-08-17 | 2025-08-17    |\n",
       "| 332 | MAXIMA | [Lietuviški trumpavaisiai agurkai, 1 kg](https://barbora.lt/produktai/lietuviski-trumpavaisiai-agurkai-1-kg)                                                                                               |        |    2.99 |             2.99 | 2.99€/kg    | 2.99€/kg       | 2025-08-17 | nan           |\n",
       "| 333 | RIMI   | [Lietuviški fasuoti trumpavaisiai agurkai,500g](https://www.rimi.lt/e-parduotuve/lt/produktai/vaisiai-darzoves-ir-geles/darzoves-ir-grybai/agurkai/lietuviski-fasuoti-trumpavaisiai-agurkai-500g/p/946894) |        |    1.89 |             1.89 | 3.78€/kg    | 3.78€/kg       | 2025-08-17 | nan           |\n",
       "| 334 | RIMI   | [Lietuviški trumpavaisiai agurkai, kg](https://www.rimi.lt/e-parduotuve/lt/produktai/vaisiai-darzoves-ir-geles/darzoves-ir-grybai/agurkai/lietuviski-trumpavaisiai-agurkai-kg/p/245039)                    |        |    3.79 |             3.79 | 3.79€/kg    | 3.79€/kg       | 2025-08-17 | nan           |"
      ],
      "text/plain": [
       "<IPython.core.display.Markdown object>"
      ]
     },
     "metadata": {},
     "output_type": "display_data"
    },
    {
     "data": {
      "text/markdown": [
       "|     | shop   | title                                                                                                                                                                                                                     | off   |   price |   discount_price | price_per   | discount_per   | date       |   valid_until |\n",
       "|----:|:-------|:--------------------------------------------------------------------------------------------------------------------------------------------------------------------------------------------------------------------------|:------|--------:|-----------------:|:------------|:---------------|:-----------|--------------:|\n",
       "| 335 | MAXIMA | [Ant kraiko laikomų vištų kiaušiniai, 10 vnt.](https://barbora.lt/produktai/ant-kraiko-laikomu-vistu-kiausiniai-10-vnt-10-vnt)                                                                                            |       |    2.15 |             2.15 | 0.22€/vnt.  | 0.22€/vnt.     | 2025-08-17 |           nan |\n",
       "| 299 | RIMI   | [Vištų kiaušiniai RIMI, A/LM Nr.2, 10vnt](https://www.rimi.lt/e-parduotuve/lt/produktai/pieno-produktai-ir-kiausiniai/kiausiniai/2---ant-kraiko-laikomu-vistu-kiausiniai-/vistu-kiausiniai-rimi-a-lm-nr-2-10vnt/p/816323) |       |    2.15 |             2.15 | 0.22€/vnt   | 0.22€/vnt      | 2025-08-15 |           nan |\n",
       "| 336 | IKI    | [Kiaušiniai IKI ant kraiko laikomų vištų M dydžio, rudu lukštu, Nr.2, 10 vnt](https://www.lastmile.lt/chain/IKI/product/Kiausiniai-IKI-ant-kraiko-laikomu-vistu-M-dydzio-rudu-lukstu-Nr2-10-vnt-281345)                   |       |    2.49 |             2.49 | 0.25€/vnt   | 0.25€/vnt      | 2025-08-17 |           nan |"
      ],
      "text/plain": [
       "<IPython.core.display.Markdown object>"
      ]
     },
     "metadata": {},
     "output_type": "display_data"
    },
    {
     "data": {
      "text/markdown": [
       "|     | shop   | title                                                                                                                                                                                              | off   |   price |   discount_price | price_per   | discount_per   | date       |   valid_until |\n",
       "|----:|:-------|:---------------------------------------------------------------------------------------------------------------------------------------------------------------------------------------------------|:------|--------:|-----------------:|:------------|:---------------|:-----------|--------------:|\n",
       "| 337 | IKI    | [Svogūnų laiškai](https://www.lastmile.lt/chain/IKI/product/Svogunu-laiskai-289253)                                                                                                                |       |    6.99 |             6.99 | 6.99€/kg    | 6.99€/kg       | 2025-08-17 |           nan |\n",
       "| 338 | IKI    | [Svogūnų laiškai, 100 g](https://www.lastmile.lt/chain/IKI/product/Svogunu-laiskai-100-g-2674)                                                                                                     |       |    1.59 |             1.59 | 15.9€/kg    | 15.9€/kg       | 2025-08-17 |           nan |\n",
       "| 339 | MAXIMA | [Svogūnų laiškai LINKĖJIMAI IŠ KAIMO (fasuoti), 100 g](https://barbora.lt/produktai/svogunu-laiskai-linkejimai-is-kaimo-fasuoti-100-g)                                                             |       |    1.59 |             1.59 | 15.9€/kg    | 15.9€/kg       | 2025-08-17 |           nan |\n",
       "| 340 | RIMI   | [Fasuoti svogūnų laiškai, 50 g](https://www.rimi.lt/e-parduotuve/lt/produktai/vaisiai-darzoves-ir-geles/darzoves-ir-grybai/prieskonines-darzoves-ir-zoleles/fasuoti-svogunu-laiskai-50-g/p/950571) |       |    0.94 |             0.94 | 18.8€/kg    | 18.8€/kg       | 2025-08-17 |           nan |\n",
       "| 341 | IKI    | [Žalumynų rinkinys, 70 g](https://www.lastmile.lt/chain/IKI/product/Zalumynu-rinkinys-70-g-53953)                                                                                                  |       |    1.59 |             1.59 | 22.71€/kg   | 22.71€/kg      | 2025-08-17 |           nan |\n",
       "| 342 | MAXIMA | [Žalumynų rinkinys: svogūnų laiškai ir krapai, 1 vnt.](https://barbora.lt/produktai/zalumynu-rinkinys-svogunu-laiskai-ir-krapai-1-vnt)                                                             |       |    1.59 |             1.59 | 22.71€/kg   | 22.71€/kg      | 2025-08-17 |           nan |"
      ],
      "text/plain": [
       "<IPython.core.display.Markdown object>"
      ]
     },
     "metadata": {},
     "output_type": "display_data"
    },
    {
     "data": {
      "text/markdown": [
       "|     | shop   | title                                                                                                                                                    | off   |   price |   discount_price | price_per   | discount_per   | date       |   valid_until |\n",
       "|----:|:-------|:---------------------------------------------------------------------------------------------------------------------------------------------------------|:------|--------:|-----------------:|:------------|:---------------|:-----------|--------------:|\n",
       "| 348 | RIMI   | [Valgomoji druska RIMI SMART, 1 kg](https://www.rimi.lt/e-parduotuve/lt/produktai/bakaleja/prieskoniai/druska/valgomoji-druska-rimi-smart-1-kg/p/811466) |       |    0.39 |             0.39 | 0.39€/kg    | 0.39€/kg       | 2025-08-17 |           nan |\n",
       "| 349 | MAXIMA | [Joduotoji druska EXTRA LINE, 1kg, 1 kg](https://barbora.lt/produktai/joduotoji-druska-extra-line-1-kg-1-kg)                                             |       |    0.45 |             0.45 | 0.45€/kg    | 0.45€/kg       | 2025-08-17 |           nan |\n",
       "| 350 | IKI    | [Valgomoji akmens druska SALT HILL, 1 kg](https://www.lastmile.lt/chain/IKI/product/Valgomoji-akmens-druska-SALT-HILL-1-kg-271120)                       |       |    0.65 |             0.65 | 0.65€/kg    | 0.65€/kg       | 2025-08-17 |           nan |"
      ],
      "text/plain": [
       "<IPython.core.display.Markdown object>"
      ]
     },
     "metadata": {},
     "output_type": "display_data"
    }
   ],
   "source": [
    "items = ['Bulvės', 'Kefyras', 'Pienas', 'Burokėliai', 'Trumpavaisiai agurkai',  'Kiaušiniai', 'Svogūnų laiškai', 'Druska']\n",
    "catalogue = collect_catalogue(items=items, offline=True)\n",
    "display_catalogue(catalogue)"
   ]
  },
  {
   "cell_type": "markdown",
   "id": "aebb6fc6-aa78-4381-b9e4-54ec5f51f36b",
   "metadata": {},
   "source": [
    "### TODO \n",
    "* with use of conversion file, normalize weights and their units\n",
    "* fix comparative unit bugs for iki and rimi db\n",
    "* Pasidaryti receptų apžvalgos failą:\n",
    "  * Išmeta lentelę su patiekalo svoriu, kaina, nuolaidomis ir ruošimo trukme\n",
    "  * Nuoroda eina į paruošimo informaciją\n",
    "  * Įvedus turimų ingredientų list parodo naują kainą\n",
    "* ```def load_items``` užkrauna visus itemus abėcėliškai surikiuotus produktus\n",
    "* Kategorijos:\n",
    "  * Kas paruošta\n",
    "  * Desertai\n",
    "  * Salotos\n",
    "  * Sriubos\n",
    "  * Antri"
   ]
  },
  {
   "cell_type": "markdown",
   "id": "f73d73ff-dc76-416d-95a3-ae2b7103e562",
   "metadata": {},
   "source": [
    "## Receptai\n",
    "* [Šaltibarščiai](..\\cooking\\recipes\\Šaltibarščiai.ipynb)\n",
    "* [Chicken In A Hurry](..\\cooking\\recipes\\Chicken%20In%20A%20Hurry.ipynb)\n",
    "* Nuoroda į didįjį katalogą"
   ]
  },
  {
   "cell_type": "code",
   "execution_count": null,
   "id": "e1942706-70d1-4fb0-abf9-4b5937538b3a",
   "metadata": {},
   "outputs": [],
   "source": []
  }
 ],
 "metadata": {
  "kernelspec": {
   "display_name": "Python 3 (ipykernel)",
   "language": "python",
   "name": "python3"
  },
  "language_info": {
   "codemirror_mode": {
    "name": "ipython",
    "version": 3
   },
   "file_extension": ".py",
   "mimetype": "text/x-python",
   "name": "python",
   "nbconvert_exporter": "python",
   "pygments_lexer": "ipython3",
   "version": "3.12.7"
  }
 },
 "nbformat": 4,
 "nbformat_minor": 5
}
