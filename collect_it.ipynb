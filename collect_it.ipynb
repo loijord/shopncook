{
 "cells": [
  {
   "cell_type": "code",
   "execution_count": 2,
   "id": "26d8d1b3-027e-4a13-a4a6-48f39cfa9338",
   "metadata": {},
   "outputs": [
    {
     "data": {
      "text/markdown": [
       "|    | shop   | image                                                                                                                                                                                                                                                                                   | title                                                                                                                                                                                                                                                | price                                                        | price_per                                                           | off    |   weight | date       | valid_until   |\n",
       "|---:|:-------|:----------------------------------------------------------------------------------------------------------------------------------------------------------------------------------------------------------------------------------------------------------------------------------------|:-----------------------------------------------------------------------------------------------------------------------------------------------------------------------------------------------------------------------------------------------------|:-------------------------------------------------------------|:--------------------------------------------------------------------|:-------|---------:|:-----------|:--------------|\n",
       "|  0 | IKI    | <img src=\"https://storage.googleapis.com/download/storage/v1/b/lastmile-ui/o/import%2Fphotos%2Fconverted%2Fproduct%2FCvKfTzV4TN5U8BTMF1Hl_84657_CvKfTzV4TN5U8BTMF1Hl_webpConverter_1_big.webp?generation=1698234840183849&alt=media\" width=100 height=60 />                             | <a href=\"https://www.lastmile.lt/chain/IKI/product/Avietes-250-g-84657\"><table width=\"100\"><td> Avietės, 250 g </td></table></a>                                                                                                                     | <div><strong>3.35€</strong></div><div><del>4.79€</del></div> | <div><strong>13.4€/kg</strong></div><div><del>19.16€/kg</del></div> | -30.1% |     0.27 | 2025-08-30 | 2025-08-31    |\n",
       "|  1 | IKI    | <img src=\"https://firebasestorage.googleapis.com/v0/b/lastmile-ui/o/import%2Fphotos%2Fconverted%2Fproduct%2FphotoUrl%2FCvKfTzV4TN5U8BTMF1Hl_287376_OrXUvGAuc2NCJDRvzNOTXOM3rsp1_aBXvYpmpuirf5UZ4Hfbr.webp?alt=media&token=ae6758e6-b7fb-40c8-977c-b4cd0ed84b55\" width=100 height=60 />  | <a href=\"https://www.lastmile.lt/chain/IKI/product/Bananai-BON-VIA-287376\"><table width=\"100\"><td> Bananai BON VIA </td></table></a>                                                                                                                 | <div><strong>0.79€</strong></div><div><del>1.39€</del></div> | <div><strong>0.79€/kg</strong></div><div><del>1.39€/kg</del></div>  | -43.2% |     1    | 2025-08-30 | 2025-08-31    |\n",
       "|  2 | IKI    | <img src=\"https://storage.googleapis.com/download/storage/v1/b/lastmile-ui/o/import%2Fphotos%2Fconverted%2Fproduct%2FCvKfTzV4TN5U8BTMF1Hl_zlyd0ZGFLdmyu8brBFh2_CvKfTzV4TN5U8BTMF1Hl_webpConverter_1_big.webp?generation=1698240270304026&alt=media\" width=100 height=60 />              | <a href=\"https://www.lastmile.lt/chain/IKI/product/Sveriamos-bulves-CLEVER-255264\"><table width=\"100\"><td> Sveriamos bulvės CLEVER  </td></table></a>                                                                                                | <div><strong>0.37€</strong></div><div><del>0.69€</del></div> | <div><strong>0.37€/kg</strong></div><div><del>0.69€/kg</del></div>  | -46.4% |     1    | 2025-08-30 | 2025-08-31    |\n",
       "|  3 | IKI    | <img src=\"https://storage.googleapis.com/download/storage/v1/b/lastmile-ui/o/import%2Fphotos%2Fconverted%2Fproduct%2FCvKfTzV4TN5U8BTMF1Hl_RrtTtdNZglpHzk8jZfmD_CvKfTzV4TN5U8BTMF1Hl_webpConverter_1_big.webp?generation=1698236858936812&alt=media\" width=100 height=60 />              | <a href=\"https://www.lastmile.lt/chain/IKI/product/Burokeliai-CLEVER-256255\"><table width=\"100\"><td> Burokėliai CLEVER  </td></table></a>                                                                                                            | <div><strong>0.49€</strong></div><div><del>0.99€</del></div> | <div><strong>0.49€/kg</strong></div><div><del>0.99€/kg</del></div>  | -50.5% |     1    | 2025-08-30 | 2025-08-31    |\n",
       "|  4 | IKI    | <img src=\"https://firebasestorage.googleapis.com/v0/b/lastmile-ui/o/import%2Fphotos%2Fconverted%2Fproduct%2FphotoUrl%2FOiGzdqIuls86njWsPYmw_V3125E3_Pos12xpkYpPSKaVDW3jqu7xnlg23_rzkhgKFqEg0ZBunO0MGb.webp?alt=media&token=59de1eb8-bde5-48cd-a861-6e6331c65565\" width=100 height=60 /> | <a href=\"https://www.lastmile.lt/chain/PROMO-CashandCarry/product/Dziovinti-krapai-100-g-V3125E3\"><table width=\"100\"><td> Džiovinti krapai, 100 g </td></table></a>                                                                                  | <div><strong>0.72€</strong></div><div><del>0.86€</del></div> | <div><strong>1.44€/kg</strong></div><div><del>1.72€/kg</del></div>  | -16.3% |     0.5  | 2025-08-30 | 2025-09-02    |\n",
       "|  5 | IKI    | <img src=\"https://firebasestorage.googleapis.com/v0/b/lastmile-ui/o/import%2Fphotos%2Fconverted%2Fproduct%2FphotoUrl%2FOiGzdqIuls86njWsPYmw_V3641EY_Pos12xpkYpPSKaVDW3jqu7xnlg23_Dis0euCkc9OmVMaXcEBL.webp?alt=media&token=728fd6c7-7486-4be8-8041-1cce324c9e75\" width=100 height=60 /> | <a href=\"https://www.lastmile.lt/chain/PROMO-CashandCarry/product/Dziovinti-krapai-500-g-V3641EY\"><table width=\"100\"><td> Džiovinti krapai, 500 g </td></table></a>                                                                                  | 3.44€                                                        | 6.88€/kg                                                            |        |     0.5  | 2025-08-30 | nan           |\n",
       "|  6 | IKI    | <img src=\"https://firebasestorage.googleapis.com/v0/b/lastmile-ui/o/import%2Fphotos%2Fconverted%2Fproduct%2FphotoUrl%2FCvKfTzV4TN5U8BTMF1Hl_262683_W5RvAbpnRicygag1V4nopPhtD8z2_hXWcHsYalaK7pJ31wNnT.webp?alt=media&token=99ab53c6-626c-4f61-8845-85f2fd6a2695\" width=100 height=60 />  | <a href=\"https://www.lastmile.lt/chain/IKI/product/Raudonieji-ridikeliai-IKI-300-g-262683\"><table width=\"100\"><td> Raudonieji ridikėliai IKI, 300 g </td></table></a>                                                                                | <div><strong>0.99€</strong></div><div><del>1.49€</del></div> | <div><strong>3.3€/kg</strong></div><div><del>4.97€/kg</del></div>   | -33.6% |     0.33 | 2025-08-30 | 2025-08-30    |\n",
       "|  7 | IKI    | <img src=\"https://firebasestorage.googleapis.com/v0/b/lastmile-ui/o/import%2Fphotos%2Fconverted%2Fproduct%2FphotoUrl%2FCvKfTzV4TN5U8BTMF1Hl_289253_OrXUvGAuc2NCJDRvzNOTXOM3rsp1_LnIL039d1mn5FPY6xPrr.webp?alt=media&token=5d55e2a8-5bbf-4572-9725-ed256841d05f\" width=100 height=60 />  | <a href=\"https://www.lastmile.lt/chain/IKI/product/Svogunu-laiskai-289253\"><table width=\"100\"><td> Svogūnų laiškai </td></table></a>                                                                                                                 | 8.99€                                                        | 8.99€/kg                                                            |        |     1    | 2025-08-30 | nan           |\n",
       "|  8 | MAXIMA | <img src=\"https://cdn.barbora.lt/products/c19c320d-a3d6-4fa1-8454-6c5e09338908_s.png\" width=100 height=60 />                                                                                                                                                                            | <a href=\"https://barbora.lt/produktai/plautos-morkos-1-kg\"><table width=\"100\"><td> Plautos morkos, 1 kg </td></table></a>                                                                                                                            | <div><strong>0.49€</strong></div><div><del>0.89€</del></div> | <div><strong>0.49€/kg</strong></div><div><del>0.89€/kg</del></div>  | -44.9% |     1    | 2025-08-30 | 2025-09-01    |\n",
       "|  9 | MAXIMA | <img src=\"https://cdn.barbora.lt/products/544567df-0d36-410a-b7c4-6845b3262d0c_s.png\" width=100 height=60 />                                                                                                                                                                            | <a href=\"https://barbora.lt/produktai/raudonos-saldziosios-paprikos-80-100-mm-1-kg\"><table width=\"100\"><td> Raudonos saldžiosios paprikos, 80-100 mm, 1 kg </td></table></a>                                                                         | <div><strong>1.49€</strong></div><div><del>2.99€</del></div> | <div><strong>1.49€/kg</strong></div><div><del>2.99€/kg</del></div>  | -50.2% |     1    | 2025-08-30 | 2025-08-31    |\n",
       "| 10 | RIMI   | <img src=\"https://rimibaltic-res.cloudinary.com/image/upload/b_white,c_limit,dpr_auto,f_auto,q_auto:low,w_auto/d_ecommerce:backend-fallback.png/MAT_164482_PCE_LT\" width=100 height=60 />                                                                                               | <a href=\"https://www.rimi.lt/e-parduotuve/lt/produktai/bakaleja/konservuotas-maistas/uogienes-dzemai-ir-tyres/avieciu-uogiene-kedainiu-konservai-430-g/p/164482\"><table width=\"100\"><td> Aviečių uogienė KĖDAINIŲ KONSERVAI, 430 g </td></table></a> | <div><strong>2.89€</strong></div><div><del>3.89€</del></div> | <div><strong>6.72€/kg</strong></div><div><del>9.05€/kg</del></div>  | -25.7% |     0.43 | 2025-08-30 | 2025-09-08    |\n",
       "| 11 | RIMI   | <img src=\"https://rimibaltic-res.cloudinary.com/image/upload/b_white,c_limit,dpr_auto,f_auto,q_auto:low,w_auto/d_ecommerce:backend-fallback.png/MAT_182692_PCE_LT\" width=100 height=60 />                                                                                               | <a href=\"https://www.rimi.lt/e-parduotuve/lt/produktai/bakaleja/pasaulio-skoniai/kokosu-pienas/kokosu-gerimas-aji-400ml/p/182692\"><table width=\"100\"><td> Kokosų gėrimas AJI, 400ml </td></table></a>                                                | <div><strong>1.45€</strong></div><div><del>2.09€</del></div> | <div><strong>3.62€/l</strong></div><div><del>5.22€/l</del></div>    | -30.6% |     0.4  | 2025-08-30 | 2025-09-08    |\n",
       "| 12 | RIMI   | <img src=\"https://rimibaltic-res.cloudinary.com/image/upload/b_white,c_limit,dpr_auto,f_auto,q_auto:low,w_auto/d_ecommerce:backend-fallback.png/MAT_971711_PCE_LT\" width=100 height=60 />                                                                                               | <a href=\"https://www.rimi.lt/e-parduotuve/lt/produktai/mesa-ir-zuvis-/sviezia-paukstiena/vistiena/broileriu-blauzdeles-be-san-be-ant-vp-500g/p/971711\"><table width=\"100\"><td> Broilerių blauzdelės be sąn. be ant. VP, 500g </td></table></a>       | <div><strong>1.79€</strong></div><div><del>3.49€</del></div> | <div><strong>3.58€/kg</strong></div><div><del>6.98€/kg</del></div>  | -48.7% |     0.5  | 2025-08-30 | 2025-09-01    |"
      ],
      "text/plain": [
       "<IPython.core.display.Markdown object>"
      ]
     },
     "metadata": {},
     "output_type": "display_data"
    }
   ],
   "source": [
    "from IPython.display import Markdown, display\n",
    "with open('collect.md', 'r', encoding='utf-8') as f:\n",
    "    display(Markdown(f.read()))"
   ]
  }
 ],
 "metadata": {
  "kernelspec": {
   "display_name": "Python 3 (ipykernel)",
   "language": "python",
   "name": "python3"
  },
  "language_info": {
   "codemirror_mode": {
    "name": "ipython",
    "version": 3
   },
   "file_extension": ".py",
   "mimetype": "text/x-python",
   "name": "python",
   "nbconvert_exporter": "python",
   "pygments_lexer": "ipython3",
   "version": "3.12.7"
  }
 },
 "nbformat": 4,
 "nbformat_minor": 5
}
