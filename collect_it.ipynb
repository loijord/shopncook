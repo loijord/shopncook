{
 "cells": [
  {
   "cell_type": "code",
   "execution_count": 5,
   "id": "26d8d1b3-027e-4a13-a4a6-48f39cfa9338",
   "metadata": {},
   "outputs": [
    {
     "data": {
      "text/markdown": [
       "|    | shop   | image                                                                                                                                                                                                                                                                                   | title                                                                                                                                                                                                                                                | price                                                        | price_per                                                            | off    |   weight | date       | valid_until   |\n",
       "|---:|:-------|:----------------------------------------------------------------------------------------------------------------------------------------------------------------------------------------------------------------------------------------------------------------------------------------|:-----------------------------------------------------------------------------------------------------------------------------------------------------------------------------------------------------------------------------------------------------|:-------------------------------------------------------------|:---------------------------------------------------------------------|:-------|---------:|:-----------|:--------------|\n",
       "|  0 | IKI    | <img src=\"https://storage.googleapis.com/download/storage/v1/b/lastmile-ui/o/import%2Fphotos%2Fconverted%2Fproduct%2FCvKfTzV4TN5U8BTMF1Hl_84657_CvKfTzV4TN5U8BTMF1Hl_webpConverter_1_big.webp?generation=1698234840183849&alt=media\" width=100 height=60 />                             | <a href=\"https://www.lastmile.lt/chain/IKI/product/Avietes-250-g-84657\"><table width=\"100\"><td> Avietės, 250 g </td></table></a>                                                                                                                     | <div><strong>3.99€</strong></div><div><del>4.79€</del></div> | <div><strong>15.96€/kg</strong></div><div><del>19.16€/kg</del></div> | -16.7% |     0.27 | 2025-09-02 | 2025-09-02    |\n",
       "|  1 | IKI    | <img src=\"https://firebasestorage.googleapis.com/v0/b/lastmile-ui/o/import%2Fphotos%2Fconverted%2Fproduct%2FphotoUrl%2FOiGzdqIuls86njWsPYmw_V3125E3_Pos12xpkYpPSKaVDW3jqu7xnlg23_rzkhgKFqEg0ZBunO0MGb.webp?alt=media&token=59de1eb8-bde5-48cd-a861-6e6331c65565\" width=100 height=60 /> | <a href=\"https://www.lastmile.lt/chain/PROMO-CashandCarry/product/Dziovinti-krapai-100-g-V3125E3\"><table width=\"100\"><td> Džiovinti krapai, 100 g </td></table></a>                                                                                  | <div><strong>0.72€</strong></div><div><del>0.86€</del></div> | <div><strong>1.44€/kg</strong></div><div><del>1.72€/kg</del></div>   | -16.3% |     0.5  | 2025-09-02 | 2025-09-02    |\n",
       "|  2 | IKI    | <img src=\"https://firebasestorage.googleapis.com/v0/b/lastmile-ui/o/import%2Fphotos%2Fconverted%2Fproduct%2FphotoUrl%2FCvKfTzV4TN5U8BTMF1Hl_287376_OrXUvGAuc2NCJDRvzNOTXOM3rsp1_aBXvYpmpuirf5UZ4Hfbr.webp?alt=media&token=ae6758e6-b7fb-40c8-977c-b4cd0ed84b55\" width=100 height=60 />  | <a href=\"https://www.lastmile.lt/chain/IKI/product/Bananai-BON-VIA-287376\"><table width=\"100\"><td> Bananai BON VIA </td></table></a>                                                                                                                 | <div><strong>0.99€</strong></div><div><del>1.39€</del></div> | <div><strong>0.99€/kg</strong></div><div><del>1.39€/kg</del></div>   | -28.8% |     1    | 2025-09-02 | 2025-09-07    |\n",
       "|  3 | IKI    | <img src=\"https://firebasestorage.googleapis.com/v0/b/lastmile-ui/o/import%2Fphotos%2Fconverted%2Fproduct%2FphotoUrl%2FCvKfTzV4TN5U8BTMF1Hl_263311_OrXUvGAuc2NCJDRvzNOTXOM3rsp1_z9ThW94DO6fZoePQAj1P.webp?alt=media&token=98852631-2d3b-4dbe-8d26-0548f6f706e5\" width=100 height=60 />  | <a href=\"https://www.lastmile.lt/chain/IKI/product/IKI-Karstai-rukyta-atlantine-skumbre-isdarineta-be-galvos-263311\"><table width=\"100\"><td> IKI Karštai rūkyta atlantinė skumbrė išdarinėta be galvos  </td></table></a>                            | <div><strong>6.99€</strong></div><div><del>7.99€</del></div> | <div><strong>6.99€/kg</strong></div><div><del>7.99€/kg</del></div>   | -12.5% |     1    | 2025-09-02 | 2025-09-07    |\n",
       "|  4 | IKI    | <img src=\"https://storage.googleapis.com/download/storage/v1/b/lastmile-ui/o/import%2Fphotos%2Fconverted%2Fproduct%2FCvKfTzV4TN5U8BTMF1Hl_WfAs05a1U7zdgqFDKp4U_CvKfTzV4TN5U8BTMF1Hl_webpConverter_1_big.webp?generation=1698237160652306&alt=media\" width=100 height=60 />              | <a href=\"https://www.lastmile.lt/chain/IKI/product/Baltosios-paprikos-2511\"><table width=\"100\"><td> Baltosios paprikos  </td></table></a>                                                                                                            | <div><strong>2.09€</strong></div><div><del>2.99€</del></div> | <div><strong>2.09€/kg</strong></div><div><del>2.99€/kg</del></div>   | -30.1% |     1    | 2025-09-02 | 2025-09-07    |\n",
       "|  5 | IKI    | <img src=\"https://firebasestorage.googleapis.com/v0/b/lastmile-ui/o/import%2Fphotos%2Fconverted%2Fproduct%2FphotoUrl%2FCvKfTzV4TN5U8BTMF1Hl_2507_OrXUvGAuc2NCJDRvzNOTXOM3rsp1_pHIMRgmLXZ40wxxu2EoW.webp?alt=media&token=df75c9c1-8a18-4331-8a25-2c3d493fdf28\" width=100 height=60 />    | <a href=\"https://www.lastmile.lt/chain/IKI/product/Raudonosios-paprikos-BON-VIA-2507\"><table width=\"100\"><td> Raudonosios paprikos BON VIA </td></table></a>                                                                                         | <div><strong>2.44€</strong></div><div><del>3.49€</del></div> | <div><strong>2.44€/kg</strong></div><div><del>3.49€/kg</del></div>   | -30.1% |     1    | 2025-09-02 | 2025-09-07    |\n",
       "|  6 | MAXIMA | <img src=\"https://cdn.barbora.lt/products/e1ebe0ad-c3ac-4a43-8cce-0c7a2a235d5c_s.png\" width=100 height=60 />                                                                                                                                                                            | <a href=\"https://barbora.lt/produktai/pomidoru-pasta-30-proc-extra-line-180-g\"><table width=\"100\"><td> Pomidorų pasta 30% EXTRA LINE, 180 g </td></table></a>                                                                                        | <div><strong>0.52€</strong></div><div><del>0.69€</del></div> | <div><strong>2.87€/kg</strong></div><div><del>3.83€/kg</del></div>   | -24.6% |     0.18 | 2025-09-02 | 2025-09-08    |\n",
       "|  7 | RIMI   | <img src=\"https://rimibaltic-res.cloudinary.com/image/upload/b_white,c_limit,dpr_auto,f_auto,q_auto:low,w_auto/d_ecommerce:backend-fallback.png/MAT_164482_PCE_LT\" width=100 height=60 />                                                                                               | <a href=\"https://www.rimi.lt/e-parduotuve/lt/produktai/bakaleja/konservuotas-maistas/uogienes-dzemai-ir-tyres/avieciu-uogiene-kedainiu-konservai-430-g/p/164482\"><table width=\"100\"><td> Aviečių uogienė KĖDAINIŲ KONSERVAI, 430 g </td></table></a> | <div><strong>2.89€</strong></div><div><del>3.89€</del></div> | <div><strong>6.72€/kg</strong></div><div><del>9.05€/kg</del></div>   | -25.7% |     0.43 | 2025-09-02 | 2025-09-08    |\n",
       "|  8 | RIMI   | <img src=\"https://rimibaltic-res.cloudinary.com/image/upload/b_white,c_limit,dpr_auto,f_auto,q_auto:low,w_auto/d_ecommerce:backend-fallback.png/MAT_997068_PCE_LT\" width=100 height=60 />                                                                                               | <a href=\"https://www.rimi.lt/e-parduotuve/lt/produktai/vaisiai-darzoves-ir-geles/darzoves-ir-grybai/burokeliai-ir-kiti-sakniavaisiai/ridikeliai-300-g/p/997068\"><table width=\"100\"><td> Ridikėliai, 300 g </td></table></a>                          | <div><strong>0.79€</strong></div><div><del>1.49€</del></div> | <div><strong>2.63€/kg</strong></div><div><del>4.97€/kg</del></div>   | -47.0% |     0.3  | 2025-09-02 | 2025-09-08    |\n",
       "|  9 | RIMI   | <img src=\"https://rimibaltic-res.cloudinary.com/image/upload/b_white,c_limit,dpr_auto,f_auto,q_auto:low,w_auto/d_ecommerce:backend-fallback.png/MAT_182692_PCE_LT\" width=100 height=60 />                                                                                               | <a href=\"https://www.rimi.lt/e-parduotuve/lt/produktai/bakaleja/pasaulio-skoniai/kokosu-pienas/kokosu-gerimas-aji-400ml/p/182692\"><table width=\"100\"><td> Kokosų gėrimas AJI, 400ml </td></table></a>                                                | <div><strong>1.45€</strong></div><div><del>2.09€</del></div> | <div><strong>3.62€/l</strong></div><div><del>5.22€/l</del></div>     | -30.6% |     0.4  | 2025-09-02 | 2025-09-08    |"
      ],
      "text/plain": [
       "<IPython.core.display.Markdown object>"
      ]
     },
     "metadata": {},
     "output_type": "display_data"
    }
   ],
   "source": [
    "from IPython.display import Markdown, display\n",
    "with open('collect.md', 'r', encoding='utf-8') as f:\n",
    "    display(Markdown(f.read()))"
   ]
  },
  {
   "cell_type": "code",
   "execution_count": null,
   "id": "490cdfe0-140f-4aed-b3d8-00ebd3d4929a",
   "metadata": {},
   "outputs": [],
   "source": []
  }
 ],
 "metadata": {
  "kernelspec": {
   "display_name": "Python 3 (ipykernel)",
   "language": "python",
   "name": "python3"
  },
  "language_info": {
   "codemirror_mode": {
    "name": "ipython",
    "version": 3
   },
   "file_extension": ".py",
   "mimetype": "text/x-python",
   "name": "python",
   "nbconvert_exporter": "python",
   "pygments_lexer": "ipython3",
   "version": "3.12.7"
  }
 },
 "nbformat": 4,
 "nbformat_minor": 5
}
